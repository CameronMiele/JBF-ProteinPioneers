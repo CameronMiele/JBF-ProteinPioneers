{
 "cells": [
  {
   "cell_type": "markdown",
   "id": "f970a1da-fd58-4f6e-b38a-b172c40fb81a",
   "metadata": {},
   "source": [
    "# Creating new 1DE protein sets\n",
    "The purpose of this notebook is to create new protein sets for separation on the 1DE simulation. Code will be created that analyzes proteins for molecular weight, isoelectric point and hydrophobicity for subsequent simulated separations by gel filtration, ion exchange and hydrophobic interaction chromatography.\n",
    "For this notebook, we will need several libraries: os, Bio.SeqUtils, pandas, re, Bio.SeqIO, and collections.defaultdict.\n",
    "\n",
    "| Library | Uses | Abbreviation |\n",
    "| :------- | :----: | :------------: |\n",
    "| os | file management in operating systems | os |\n",
    "| pandas | data management | pd |\n",
    "| Bio.SeqIO | parsing FASTA files | SeqIO |\n",
    "| collections.defaultdict | not sure why | defaultdict |\n",
    "| Bio.SeqUtils.ProtParam.ProteinAnalysis | protein calculations | PA |"
   ]
  },
  {
   "cell_type": "code",
   "execution_count": 1,
   "id": "67175e2f-727b-4323-a1b4-6a5356ce558b",
   "metadata": {},
   "outputs": [],
   "source": [
    "# Import required libraries\n",
    "from Bio.SeqUtils.IsoelectricPoint import IsoelectricPoint as IP\n",
    "import os"
   ]
  },
  {
   "cell_type": "code",
   "execution_count": 2,
   "id": "19ca30df-21cf-45aa-a46f-6c6b6269bbcc",
   "metadata": {},
   "outputs": [
    {
     "name": "stdout",
     "output_type": "stream",
     "text": [
      "MKQAVYVASPDSQQIHVWQLDSAGELTLLQTVDVPGQVQPMAISPNQRHLYVGVRPDFGIVSYHIADDGTLTAAGMAPLPGSPTHIDTDRQGRFLFSASYSFNCVSISPIDTHGVVQAPIQQLDDLPAPHSANIDPTNQILLVPCLKEDKVRLFDLSAEGQLTPHAQADITVAAGAGPRHMAFHPNHQVAYCVNELNSSVDVYQISNNGQEYHLVQSLDAMPADFTGTRWAADIHITPNGRYLYISDRTANLLGIFTVSEDGRVISLVGHHLTEAQPRGFNIDHSGNFLIASGQKSDHIEVYRIDQNTGELTTLKRYPVGKGPMWVSIRGAQNS\n",
      "5.553590202331542\n",
      "IEP of protein MKQAVYVASPDSQQIHVWQLDSAGELTLLQTVDVPGQVQPMAISPNQRHLYVGVRPDFGIVSYHIADDGTLTAAGMAPLPGSPTHIDTDRQGRFLFSASYSFNCVSISPIDTHGVVQAPIQQLDDLPAPHSANIDPTNQILLVPCLKEDKVRLFDLSAEGQLTPHAQADITVAAGAGPRHMAFHPNHQVAYCVNELNSSVDVYQISNNGQEYHLVQSLDAMPADFTGTRWAADIHITPNGRYLYISDRTANLLGIFTVSEDGRVISLVGHHLTEAQPRGFNIDHSGNFLIASGQKSDHIEVYRIDQNTGELTTLKRYPVGKGPMWVSIRGAQNS is 5.55\n",
      "The charge on the protein at pH 7 is 0.04\n"
     ]
    }
   ],
   "source": [
    "protein = IP('MKQAVYVASPDSQQIHVWQLDSAGELTLLQTVDVPGQVQPMAISPNQRHLYVGVRPDFGIVSYHIADDGTLTAAGMAPLPGSPTHIDTDRQGRFLFSASYSFNCVSISPIDTHGVVQAPIQQLDDLPAPHSANIDPTNQILLVPCLKEDKVRLFDLSAEGQLTPHAQADITVAAGAGPRHMAFHPNHQVAYCVNELNSSVDVYQISNNGQEYHLVQSLDAMPADFTGTRWAADIHITPNGRYLYISDRTANLLGIFTVSEDGRVISLVGHHLTEAQPRGFNIDHSGNFLIASGQKSDHIEVYRIDQNTGELTTLKRYPVGKGPMWVSIRGAQNS')\n",
    "print(protein.sequence)\n",
    "print(protein.pi())\n",
    "print(f'IEP of protein {protein.sequence} is {protein.pi():.2f}')\n",
    "print(f'The charge on the protein at pH 7 is {protein.charge_at_pH(5.55):.2f}')"
   ]
  },
  {
   "cell_type": "code",
   "execution_count": 3,
   "id": "47cdef39-b022-4dc1-a2a5-c19f43277f89",
   "metadata": {},
   "outputs": [],
   "source": [
    "datafile = os.path.join('data', 'yersinia_pestis[632].fasta')"
   ]
  },
  {
   "cell_type": "code",
   "execution_count": 4,
   "id": "047da724-9fc3-4910-8ccf-7536c798de5f",
   "metadata": {},
   "outputs": [
    {
     "name": "stdin",
     "output_type": "stream",
     "text": [
      "Enter File Name bacillus_anthracis.faa\n"
     ]
    },
    {
     "name": "stdout",
     "output_type": "stream",
     "text": [
      "bacillus_anthracis.faa\n",
      "data\\bacillus_anthracis.faa\n"
     ]
    }
   ],
   "source": [
    "filename = 'yersinia_pestis[632].fasta'\n",
    "filename = input(\"Enter File Name\")\n",
    "print(filename)\n",
    "datafile = os.path.join('data', filename)\n",
    "print(datafile)"
   ]
  },
  {
   "cell_type": "code",
   "execution_count": 5,
   "id": "11afd672-5b9f-4602-a9de-a894af428a34",
   "metadata": {},
   "outputs": [
    {
     "data": {
      "text/html": [
       "<div>\n",
       "<style scoped>\n",
       "    .dataframe tbody tr th:only-of-type {\n",
       "        vertical-align: middle;\n",
       "    }\n",
       "\n",
       "    .dataframe tbody tr th {\n",
       "        vertical-align: top;\n",
       "    }\n",
       "\n",
       "    .dataframe thead th {\n",
       "        text-align: right;\n",
       "    }\n",
       "</style>\n",
       "<table border=\"1\" class=\"dataframe\">\n",
       "  <thead>\n",
       "    <tr style=\"text-align: right;\">\n",
       "      <th></th>\n",
       "      <th>sequence</th>\n",
       "      <th>lengths</th>\n",
       "    </tr>\n",
       "  </thead>\n",
       "  <tbody>\n",
       "    <tr>\n",
       "      <th>0</th>\n",
       "      <td>MENISDLWNSALKELEKKVSKPSYETWLKSTTAHNLKKDVLTITAP...</td>\n",
       "      <td>446</td>\n",
       "    </tr>\n",
       "    <tr>\n",
       "      <th>1</th>\n",
       "      <td>MRFSIQKDYLVRSVQDVMKAVSFRTTIPILTGIKVVATEEGVTLTG...</td>\n",
       "      <td>379</td>\n",
       "    </tr>\n",
       "    <tr>\n",
       "      <th>2</th>\n",
       "      <td>MKRIKISTEYITLGQFLKLADVIDTGGAVKWFLQEYEVYVNQELEN...</td>\n",
       "      <td>70</td>\n",
       "    </tr>\n",
       "    <tr>\n",
       "      <th>3</th>\n",
       "      <td>MFISEIQLKNYRNYEKLELSFEDKVNVIIGENAQGKTNLMEAIYVL...</td>\n",
       "      <td>375</td>\n",
       "    </tr>\n",
       "    <tr>\n",
       "      <th>4</th>\n",
       "      <td>MEQKQMQENSYDESQIQVLEGLEAVRKRPGMYIGSTSGKGLHHLVW...</td>\n",
       "      <td>640</td>\n",
       "    </tr>\n",
       "    <tr>\n",
       "      <th>...</th>\n",
       "      <td>...</td>\n",
       "      <td>...</td>\n",
       "    </tr>\n",
       "    <tr>\n",
       "      <th>5306</th>\n",
       "      <td>MEFDTIAAISTALGEGAIAIVRVSGDDAVEKVNRIFKGKDLTEVPS...</td>\n",
       "      <td>458</td>\n",
       "    </tr>\n",
       "    <tr>\n",
       "      <th>5307</th>\n",
       "      <td>MSIITAKGQTVELAVQDALRQLNVSKDRVDISIIDEGKRGFLGLFG...</td>\n",
       "      <td>205</td>\n",
       "    </tr>\n",
       "    <tr>\n",
       "      <th>5308</th>\n",
       "      <td>MKKKLGLLAMVVALMAITAGCSEVNQPITPKSTGIWNEYFVYPLSQ...</td>\n",
       "      <td>255</td>\n",
       "    </tr>\n",
       "    <tr>\n",
       "      <th>5309</th>\n",
       "      <td>MKKKHRIKKNDEFQTVFQKGKSNANRQFVVYQLDKEEQPNFRIGLS...</td>\n",
       "      <td>119</td>\n",
       "    </tr>\n",
       "    <tr>\n",
       "      <th>5310</th>\n",
       "      <td>MKRTYQPNKRKRSKVHGFRSRMSTANGRKVLAARRRKGRKVLSA</td>\n",
       "      <td>44</td>\n",
       "    </tr>\n",
       "  </tbody>\n",
       "</table>\n",
       "<p>5311 rows × 2 columns</p>\n",
       "</div>"
      ],
      "text/plain": [
       "                                               sequence  lengths\n",
       "0     MENISDLWNSALKELEKKVSKPSYETWLKSTTAHNLKKDVLTITAP...      446\n",
       "1     MRFSIQKDYLVRSVQDVMKAVSFRTTIPILTGIKVVATEEGVTLTG...      379\n",
       "2     MKRIKISTEYITLGQFLKLADVIDTGGAVKWFLQEYEVYVNQELEN...       70\n",
       "3     MFISEIQLKNYRNYEKLELSFEDKVNVIIGENAQGKTNLMEAIYVL...      375\n",
       "4     MEQKQMQENSYDESQIQVLEGLEAVRKRPGMYIGSTSGKGLHHLVW...      640\n",
       "...                                                 ...      ...\n",
       "5306  MEFDTIAAISTALGEGAIAIVRVSGDDAVEKVNRIFKGKDLTEVPS...      458\n",
       "5307  MSIITAKGQTVELAVQDALRQLNVSKDRVDISIIDEGKRGFLGLFG...      205\n",
       "5308  MKKKLGLLAMVVALMAITAGCSEVNQPITPKSTGIWNEYFVYPLSQ...      255\n",
       "5309  MKKKHRIKKNDEFQTVFQKGKSNANRQFVVYQLDKEEQPNFRIGLS...      119\n",
       "5310       MKRTYQPNKRKRSKVHGFRSRMSTANGRKVLAARRRKGRKVLSA       44\n",
       "\n",
       "[5311 rows x 2 columns]"
      ]
     },
     "execution_count": 5,
     "metadata": {},
     "output_type": "execute_result"
    }
   ],
   "source": [
    "import pandas as pd\n",
    "from Bio import SeqIO\n",
    "from collections import defaultdict\n",
    "\n",
    "\n",
    "data = defaultdict(list)\n",
    "datalen = []\n",
    "with open(datafile) as fp:\n",
    "  for record in SeqIO.parse(fp,\"fasta\"):\n",
    "    \n",
    "    sequence = str(record.seq)\n",
    "    length = len(sequence)\n",
    "    # data['organism'].append(organism)\n",
    "    data['sequence'].append(sequence)\n",
    "    datalen.append(length) \n",
    "\n",
    "df = pd.DataFrame.from_dict(data)\n",
    "# df['lengths'] = data2\n",
    "df['lengths'] = datalen\n",
    "# print(data2)\n",
    "df"
   ]
  },
  {
   "cell_type": "code",
   "execution_count": 6,
   "id": "cabf4186-59b5-43cd-909f-bbd990ce5f6a",
   "metadata": {},
   "outputs": [
    {
     "data": {
      "text/html": [
       "<div>\n",
       "<style scoped>\n",
       "    .dataframe tbody tr th:only-of-type {\n",
       "        vertical-align: middle;\n",
       "    }\n",
       "\n",
       "    .dataframe tbody tr th {\n",
       "        vertical-align: top;\n",
       "    }\n",
       "\n",
       "    .dataframe thead th {\n",
       "        text-align: right;\n",
       "    }\n",
       "</style>\n",
       "<table border=\"1\" class=\"dataframe\">\n",
       "  <thead>\n",
       "    <tr style=\"text-align: right;\">\n",
       "      <th></th>\n",
       "      <th>sequence</th>\n",
       "      <th>length</th>\n",
       "      <th>IEP</th>\n",
       "      <th>MW</th>\n",
       "      <th>charge at pH 7</th>\n",
       "    </tr>\n",
       "  </thead>\n",
       "  <tbody>\n",
       "    <tr>\n",
       "      <th>0</th>\n",
       "      <td>MENISDLWNSALKELEKKVSKPSYETWLKSTTAHNLKKDVLTITAP...</td>\n",
       "      <td>446</td>\n",
       "      <td>5.870127</td>\n",
       "      <td>50493.8525</td>\n",
       "      <td>-8.284830</td>\n",
       "    </tr>\n",
       "    <tr>\n",
       "      <th>1</th>\n",
       "      <td>MRFSIQKDYLVRSVQDVMKAVSFRTTIPILTGIKVVATEEGVTLTG...</td>\n",
       "      <td>379</td>\n",
       "      <td>5.199597</td>\n",
       "      <td>42649.6629</td>\n",
       "      <td>-11.907245</td>\n",
       "    </tr>\n",
       "    <tr>\n",
       "      <th>2</th>\n",
       "      <td>MKRIKISTEYITLGQFLKLADVIDTGGAVKWFLQEYEVYVNQELEN...</td>\n",
       "      <td>70</td>\n",
       "      <td>6.182229</td>\n",
       "      <td>8069.1211</td>\n",
       "      <td>-0.488451</td>\n",
       "    </tr>\n",
       "    <tr>\n",
       "      <th>3</th>\n",
       "      <td>MFISEIQLKNYRNYEKLELSFEDKVNVIIGENAQGKTNLMEAIYVL...</td>\n",
       "      <td>375</td>\n",
       "      <td>6.540088</td>\n",
       "      <td>43362.1786</td>\n",
       "      <td>-1.653395</td>\n",
       "    </tr>\n",
       "    <tr>\n",
       "      <th>4</th>\n",
       "      <td>MEQKQMQENSYDESQIQVLEGLEAVRKRPGMYIGSTSGKGLHHLVW...</td>\n",
       "      <td>640</td>\n",
       "      <td>6.016942</td>\n",
       "      <td>71895.5943</td>\n",
       "      <td>-8.903339</td>\n",
       "    </tr>\n",
       "    <tr>\n",
       "      <th>...</th>\n",
       "      <td>...</td>\n",
       "      <td>...</td>\n",
       "      <td>...</td>\n",
       "      <td>...</td>\n",
       "      <td>...</td>\n",
       "    </tr>\n",
       "    <tr>\n",
       "      <th>5306</th>\n",
       "      <td>MEFDTIAAISTALGEGAIAIVRVSGDDAVEKVNRIFKGKDLTEVPS...</td>\n",
       "      <td>458</td>\n",
       "      <td>4.742214</td>\n",
       "      <td>50574.2320</td>\n",
       "      <td>-28.600898</td>\n",
       "    </tr>\n",
       "    <tr>\n",
       "      <th>5307</th>\n",
       "      <td>MSIITAKGQTVELAVQDALRQLNVSKDRVDISIIDEGKRGFLGLFG...</td>\n",
       "      <td>205</td>\n",
       "      <td>9.602453</td>\n",
       "      <td>23120.4867</td>\n",
       "      <td>8.956833</td>\n",
       "    </tr>\n",
       "    <tr>\n",
       "      <th>5308</th>\n",
       "      <td>MKKKLGLLAMVVALMAITAGCSEVNQPITPKSTGIWNEYFVYPLSQ...</td>\n",
       "      <td>255</td>\n",
       "      <td>9.590140</td>\n",
       "      <td>28423.7648</td>\n",
       "      <td>10.647947</td>\n",
       "    </tr>\n",
       "    <tr>\n",
       "      <th>5309</th>\n",
       "      <td>MKKKHRIKKNDEFQTVFQKGKSNANRQFVVYQLDKEEQPNFRIGLS...</td>\n",
       "      <td>119</td>\n",
       "      <td>10.403086</td>\n",
       "      <td>14026.3450</td>\n",
       "      <td>17.670802</td>\n",
       "    </tr>\n",
       "    <tr>\n",
       "      <th>5310</th>\n",
       "      <td>MKRTYQPNKRKRSKVHGFRSRMSTANGRKVLAARRRKGRKVLSA</td>\n",
       "      <td>44</td>\n",
       "      <td>11.999968</td>\n",
       "      <td>5170.0970</td>\n",
       "      <td>16.579437</td>\n",
       "    </tr>\n",
       "  </tbody>\n",
       "</table>\n",
       "<p>5311 rows × 5 columns</p>\n",
       "</div>"
      ],
      "text/plain": [
       "                                               sequence  length        IEP  \\\n",
       "0     MENISDLWNSALKELEKKVSKPSYETWLKSTTAHNLKKDVLTITAP...     446   5.870127   \n",
       "1     MRFSIQKDYLVRSVQDVMKAVSFRTTIPILTGIKVVATEEGVTLTG...     379   5.199597   \n",
       "2     MKRIKISTEYITLGQFLKLADVIDTGGAVKWFLQEYEVYVNQELEN...      70   6.182229   \n",
       "3     MFISEIQLKNYRNYEKLELSFEDKVNVIIGENAQGKTNLMEAIYVL...     375   6.540088   \n",
       "4     MEQKQMQENSYDESQIQVLEGLEAVRKRPGMYIGSTSGKGLHHLVW...     640   6.016942   \n",
       "...                                                 ...     ...        ...   \n",
       "5306  MEFDTIAAISTALGEGAIAIVRVSGDDAVEKVNRIFKGKDLTEVPS...     458   4.742214   \n",
       "5307  MSIITAKGQTVELAVQDALRQLNVSKDRVDISIIDEGKRGFLGLFG...     205   9.602453   \n",
       "5308  MKKKLGLLAMVVALMAITAGCSEVNQPITPKSTGIWNEYFVYPLSQ...     255   9.590140   \n",
       "5309  MKKKHRIKKNDEFQTVFQKGKSNANRQFVVYQLDKEEQPNFRIGLS...     119  10.403086   \n",
       "5310       MKRTYQPNKRKRSKVHGFRSRMSTANGRKVLAARRRKGRKVLSA      44  11.999968   \n",
       "\n",
       "              MW  charge at pH 7  \n",
       "0     50493.8525       -8.284830  \n",
       "1     42649.6629      -11.907245  \n",
       "2      8069.1211       -0.488451  \n",
       "3     43362.1786       -1.653395  \n",
       "4     71895.5943       -8.903339  \n",
       "...          ...             ...  \n",
       "5306  50574.2320      -28.600898  \n",
       "5307  23120.4867        8.956833  \n",
       "5308  28423.7648       10.647947  \n",
       "5309  14026.3450       17.670802  \n",
       "5310   5170.0970       16.579437  \n",
       "\n",
       "[5311 rows x 5 columns]"
      ]
     },
     "execution_count": 6,
     "metadata": {},
     "output_type": "execute_result"
    }
   ],
   "source": [
    "import pandas as pd\n",
    "import re\n",
    "from Bio import SeqIO\n",
    "from collections import defaultdict\n",
    "from Bio.SeqUtils.ProtParam import ProteinAnalysis as PA\n",
    "\n",
    "data = defaultdict(list)\n",
    "datalen = []\n",
    "protpI = []\n",
    "protMW = []\n",
    "prot_charge_at_pH = []\n",
    "with open(datafile) as fp:\n",
    "  for record in SeqIO.parse(fp,\"fasta\"):\n",
    "    \n",
    "    sequence = str(record.seq)\n",
    "    length = len(sequence)\n",
    "    # data['organism'].append(organism)\n",
    "    data['sequence'].append(sequence)\n",
    "    datalen.append(length)\n",
    "    protparams = PA(sequence)\n",
    "    protpI.append(protparams.isoelectric_point())\n",
    "    protMW.append(protparams.molecular_weight())\n",
    "    prot_charge_at_pH.append(protparams.charge_at_pH(7))\n",
    "\n",
    "df = pd.DataFrame.from_dict(data)\n",
    "\n",
    "df['length'] = datalen\n",
    "\n",
    "df['IEP'] = protpI\n",
    "\n",
    "df['MW'] = protMW\n",
    "\n",
    "df['charge at pH 7'] = prot_charge_at_pH\n",
    "\n",
    "df"
   ]
  },
  {
   "cell_type": "code",
   "execution_count": 7,
   "id": "80379d36-e5da-4bd4-87cd-fc9915929a6e",
   "metadata": {},
   "outputs": [
    {
     "data": {
      "text/plain": [
       "'MKKKHRIKKNDEFQTVFQKGKSNANRQFVVYQLDKEEQPNFRIGLSVSKKIGNAVVRNRIKRMIRQSITELKDEIDSGKDFVIIARKPCAEMTYEELKKSLIHVFKRSGMKRIKSSVRK'"
      ]
     },
     "execution_count": 7,
     "metadata": {},
     "output_type": "execute_result"
    }
   ],
   "source": [
    "df.iloc[-2,0]"
   ]
  },
  {
   "cell_type": "code",
   "execution_count": 8,
   "id": "11976894-ad3d-4680-8b1e-b573b93c4e58",
   "metadata": {},
   "outputs": [
    {
     "name": "stdout",
     "output_type": "stream",
     "text": [
      "MKKKHRIKKNDEFQTVFQKGKSNANRQFVVYQLDKEEQPNFRIGLSVSKKIGNAVVRNRIKRMIRQSITELKDEIDSGKDFVIIARKPCAEMTYEELKKSLIHVFKRSGMKRIKSSVRK\n",
      "10.403085899353027\n",
      "17.67080155355838\n",
      "14026.344999999987\n"
     ]
    }
   ],
   "source": [
    "from Bio.SeqUtils.ProtParam import ProteinAnalysis as PA\n",
    "datapI = PA(df.iloc[-2,0])\n",
    "print(datapI.sequence)\n",
    "print(datapI.isoelectric_point())\n",
    "print(datapI.charge_at_pH(7))\n",
    "print(datapI.molecular_weight())"
   ]
  },
  {
   "cell_type": "code",
   "execution_count": 9,
   "id": "68f6acd0-7352-47d3-bcc4-7e55f363ce28",
   "metadata": {},
   "outputs": [],
   "source": [
    "csv_filepath = \"data\\\\CSVs\\\\\" + filename.replace(\".faa\",\".csv\").replace(\".fasta\",\".csv\")\n",
    "#print(csv_filepath)\n",
    "df.to_csv(csv_filepath)"
   ]
  },
  {
   "cell_type": "code",
   "execution_count": null,
   "id": "5b134e51-ecfd-41ca-8f5f-0976c6d6616e",
   "metadata": {},
   "outputs": [],
   "source": []
  }
 ],
 "metadata": {
  "kernelspec": {
   "display_name": "Python 3",
   "language": "python",
   "name": "python3"
  },
  "language_info": {
   "codemirror_mode": {
    "name": "ipython",
    "version": 3
   },
   "file_extension": ".py",
   "mimetype": "text/x-python",
   "name": "python",
   "nbconvert_exporter": "python",
   "pygments_lexer": "ipython3",
   "version": "3.8.8"
  }
 },
 "nbformat": 4,
 "nbformat_minor": 5
}
