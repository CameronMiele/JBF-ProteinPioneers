{
 "cells": [
  {
   "cell_type": "code",
   "execution_count": 1,
   "id": "6ede43ea-574f-42e3-8b7a-42e6937e1520",
   "metadata": {},
   "outputs": [],
   "source": [
    "from Bio import SeqIO\n",
    "from Bio.SeqUtils.IsoelectricPoint import IsoelectricPoint as IP\n",
    "from Bio.SeqUtils.ProtParam import ProteinAnalysis as PA\n",
    "from Bio.Seq import Seq\n",
    "from Bio.SeqRecord import SeqRecord\n",
    "import os\n",
    "from collections import defaultdict\n",
    "import pandas as pd\n",
    "import ipywidgets as widgets\n",
    "from ipywidgets import *\n",
    "import requests"
   ]
  },
  {
   "cell_type": "code",
   "execution_count": 2,
   "id": "e042f9c1-245f-4377-91cf-e28e116f9f7f",
   "metadata": {},
   "outputs": [
    {
     "data": {
      "text/plain": [
       "200"
      ]
     },
     "execution_count": 2,
     "metadata": {},
     "output_type": "execute_result"
    }
   ],
   "source": [
    "data = requests.get(\"https://data.rcsb.org/rest/v1/core/entry/4HHB\")\n",
    "data.status_code"
   ]
  },
  {
   "cell_type": "code",
   "execution_count": null,
   "id": "38bbc6fa-9298-4ac6-bbee-61c80fe6f7d7",
   "metadata": {},
   "outputs": [],
   "source": []
  }
 ],
 "metadata": {
  "kernelspec": {
   "display_name": "Python 3",
   "language": "python",
   "name": "python3"
  },
  "language_info": {
   "codemirror_mode": {
    "name": "ipython",
    "version": 3
   },
   "file_extension": ".py",
   "mimetype": "text/x-python",
   "name": "python",
   "nbconvert_exporter": "python",
   "pygments_lexer": "ipython3",
   "version": "3.8.8"
  }
 },
 "nbformat": 4,
 "nbformat_minor": 5
}
