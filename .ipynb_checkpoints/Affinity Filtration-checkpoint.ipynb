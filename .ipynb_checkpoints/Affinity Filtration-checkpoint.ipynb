{
 "cells": [
  {
   "cell_type": "code",
   "execution_count": 3,
   "id": "1e3ed935",
   "metadata": {},
   "outputs": [
    {
     "ename": "ModuleNotFoundError",
     "evalue": "No module named 'ipywidgets'",
     "output_type": "error",
     "traceback": [
      "\u001b[1;31m---------------------------------------------------------------------------\u001b[0m",
      "\u001b[1;31mModuleNotFoundError\u001b[0m                       Traceback (most recent call last)",
      "Cell \u001b[1;32mIn[3], line 9\u001b[0m\n\u001b[0;32m      7\u001b[0m \u001b[38;5;28;01mfrom\u001b[39;00m \u001b[38;5;21;01mcollections\u001b[39;00m \u001b[38;5;28;01mimport\u001b[39;00m defaultdict\n\u001b[0;32m      8\u001b[0m \u001b[38;5;28;01mimport\u001b[39;00m \u001b[38;5;21;01mpandas\u001b[39;00m \u001b[38;5;28;01mas\u001b[39;00m \u001b[38;5;21;01mpd\u001b[39;00m\n\u001b[1;32m----> 9\u001b[0m \u001b[38;5;28;01mimport\u001b[39;00m \u001b[38;5;21;01mipywidgets\u001b[39;00m \u001b[38;5;28;01mas\u001b[39;00m \u001b[38;5;21;01mwidgets\u001b[39;00m\n\u001b[0;32m     10\u001b[0m \u001b[38;5;28;01mfrom\u001b[39;00m \u001b[38;5;21;01mipywidgets\u001b[39;00m \u001b[38;5;28;01mimport\u001b[39;00m \u001b[38;5;241m*\u001b[39m\n",
      "\u001b[1;31mModuleNotFoundError\u001b[0m: No module named 'ipywidgets'"
     ]
    }
   ],
   "source": [
    "from Bio import SeqIO\n",
    "from Bio.SeqUtils.IsoelectricPoint import IsoelectricPoint as IP\n",
    "from Bio.SeqUtils.ProtParam import ProteinAnalysis as PA\n",
    "from Bio.Seq import Seq\n",
    "from Bio.SeqRecord import SeqRecord\n",
    "import os\n",
    "from collections import defaultdict\n",
    "import pandas as pd\n",
    "import ipywidgets as widgets\n",
    "from ipywidgets import *"
   ]
  },
  {
   "cell_type": "code",
   "execution_count": null,
   "id": "9756bb6c",
   "metadata": {},
   "outputs": [],
   "source": [
    "#Create a selector for the intended size exclusion media\n",
    "geldict = {\n",
    "    \"Q Media (Triethylamine +)\" : -1,\n",
    "    \"S Media (Sulfite -)\" : 1,\n",
    "}\n",
    "gelselect = Dropdown(options=geldict.keys(),description=\"Media\")\n",
    "display(gelselect)\n",
    "\n",
    "pHslider = widgets.FloatSlider(value=7.0,min=0,max=14,step=0.1)\n",
    "display(pHslider)\n",
    "\n",
    "#testbutton = widgets.Button(description=\"Confirm\")\n",
    "#output = widgets.Output()\n",
    "#display(testbutton, output)\n",
    "#def on_button_clicked(b):\n",
    "#    with output:\n",
    "#        runpH = pHslider.value\n",
    "#        gelcharge = int(geldict[gelselect.value])\n",
    "    \n",
    "#testbutton.on_click(on_button_clicked)\n",
    "\n"
   ]
  },
  {
   "cell_type": "code",
   "execution_count": null,
   "id": "adecca12",
   "metadata": {
    "tags": []
   },
   "outputs": [],
   "source": [
    "#Generate a file path for the correct .fasta file\n",
    "filename = input(\"Enter File Name\")\n",
    "datafile = os.path.join('data', filename)"
   ]
  },
  {
   "cell_type": "code",
   "execution_count": null,
   "id": "8ea650bc",
   "metadata": {},
   "outputs": [],
   "source": [
    "data_folder = os.path.join('data', filename.replace(\".faa\",\"\")+\"_affinity_chromatography\"+gelselect.value[0])\n",
    "\n",
    "os.mkdir(data_folder)"
   ]
  },
  {
   "cell_type": "code",
   "execution_count": null,
   "id": "6f5f7d30",
   "metadata": {},
   "outputs": [],
   "source": [
    "unfiltered = []\n",
    "wash = []\n",
    "fractions = []\n",
    "with open(datafile) as protfile:\n",
    "    for record in SeqIO.parse(protfile,\"fasta\"):\n",
    "        unfiltered.append(record)\n",
    "        protparams = PA(str(record.seq))\n",
    "        if protparams.charge_at_pH(pHslider.value)*int(geldict[gelselect.value]) < 0:\n",
    "            wash.append(record)\n",
    "        else:\n",
    "            fractions.append(record)    \n",
    "        \n",
    "SeqIO.write(unfiltered,os.path.join(data_folder,filename.replace(\".faa\",\"\")+\"_total.faa\"),\"fasta\")\n",
    "SeqIO.write(wash,os.path.join(data_folder,filename.replace(\".faa\",\"\")+\"_wash.faa\"),\"fasta\")\n",
    "SeqIO.write(fractions,os.path.join(data_folder,filename.replace(\".faa\",\"\")+\"_fractions.faa\"),\"fasta\")\n"
   ]
  },
  {
   "cell_type": "code",
   "execution_count": null,
   "id": "f4b6b1f1",
   "metadata": {},
   "outputs": [],
   "source": [
    "#Converting modified fasta into a pd dataframe to show filter at work, preset file name used for simplicity\n",
    "\n",
    "data = defaultdict(list)\n",
    "\n",
    "\n",
    "protcharge = []\n",
    "prot_desc = []\n",
    "prot_name = []\n",
    "prot_id = []\n",
    "with open(os.path.join(data_folder,filename.replace(\".faa\",\"\")+\"_fractions.faa\")) as protfile:\n",
    "  for record in SeqIO.parse(protfile,\"fasta\"):\n",
    "    sequence = str(record.seq)\n",
    "    data['sequence'].append(sequence)\n",
    "    protparams = PA(sequence)\n",
    "    protcharge.append(protparams.charge_at_pH(pHslider.value))\n",
    "    prot_desc.append(str(record.description.replace(record.id,\"\")))\n",
    "    prot_id.append(str(record.id))\n",
    "\n",
    "\n",
    "df = pd.DataFrame.from_dict(data)\n",
    "df['Charge at pH '+str(pHslider.value)] = protcharge\n",
    "df['description'] = prot_desc\n",
    "df['ID'] = prot_id\n",
    "\n",
    "df.sort_values(by=['Charge at pH '+str(pHslider.value)], inplace=True, ascending = bool(int(geldict[gelselect.value]) == -1))\n",
    "df#.head(10)"
   ]
  },
  {
   "cell_type": "code",
   "execution_count": null,
   "id": "fc3c9265",
   "metadata": {
    "tags": []
   },
   "outputs": [],
   "source": [
    "nfractions = 7\n",
    "fraclen = round(len(df)/nfractions)\n",
    "for n in range(nfractions - 1):\n",
    "    fracrecords = []\n",
    "    tempdf = df.iloc[n*fraclen:(n+1)*fraclen]\n",
    "    for index  in tempdf.index:\n",
    "        record = SeqRecord(Seq(tempdf['sequence'][index]),id=str(tempdf[\"ID\"][index]),description=tempdf[\"description\"][index])\n",
    "        fracrecords.append(record)\n",
    "    SeqIO.write(fracrecords,os.path.join(data_folder,filename.replace(\".faa\",\"\")+\"_fraction\"+ str(n+1) + \".faa\"),\"fasta\")\n",
    "\n",
    "tempdf = df.iloc[(nfractions-1)*fraclen:]\n",
    "remainderrecord = []\n",
    "for index  in tempdf.index:\n",
    "        record = SeqRecord(Seq(tempdf['sequence'][index]),id=str(tempdf[\"ID\"][index]),description=tempdf[\"description\"][index])\n",
    "        remainderrecord.append(record)\n",
    "SeqIO.write(remainderrecord,os.path.join(data_folder,filename.replace(\".faa\",\"\")+\"_fraction\"+ str(nfractions) + \".faa\"),\"fasta\")\n",
    "tempdf"
   ]
  }
 ],
 "metadata": {
  "kernelspec": {
   "display_name": "Python 3 (ipykernel)",
   "language": "python",
   "name": "python3"
  },
  "language_info": {
   "codemirror_mode": {
    "name": "ipython",
    "version": 3
   },
   "file_extension": ".py",
   "mimetype": "text/x-python",
   "name": "python",
   "nbconvert_exporter": "python",
   "pygments_lexer": "ipython3",
   "version": "3.11.3"
  }
 },
 "nbformat": 4,
 "nbformat_minor": 5
}
