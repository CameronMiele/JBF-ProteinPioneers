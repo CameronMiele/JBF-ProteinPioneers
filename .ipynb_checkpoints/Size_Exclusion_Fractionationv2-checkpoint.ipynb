{
 "cells": [
  {
   "cell_type": "code",
   "execution_count": 1,
   "id": "51d87070-a927-42ca-9166-d0ba0ed25c9b",
   "metadata": {},
   "outputs": [],
   "source": [
    "from Bio import SeqIO\n",
    "from Bio.SeqUtils.IsoelectricPoint import IsoelectricPoint as IP\n",
    "from Bio.SeqUtils.ProtParam import ProteinAnalysis as PA\n",
    "from Bio.Seq import Seq\n",
    "from Bio.SeqRecord import SeqRecord\n",
    "import os\n",
    "from collections import defaultdict\n",
    "import pandas as pd\n",
    "import ipywidgets as widgets\n",
    "from ipywidgets import *"
   ]
  },
  {
   "cell_type": "code",
   "execution_count": 34,
   "id": "69be06f3-db1f-47e6-b618-344cfe2db1d7",
   "metadata": {},
   "outputs": [
    {
     "data": {
      "application/vnd.jupyter.widget-view+json": {
       "model_id": "5927f70bb6f4425f8431d569615de7f3",
       "version_major": 2,
       "version_minor": 0
      },
      "text/plain": [
       "Dropdown(description='Media', options=('Bio P 0.1-1.8 kDa', 'Bio P 0.8-4.0 kDa', 'Bio P 1.0-6.0 kDa', 'Bio P 1…"
      ]
     },
     "metadata": {},
     "output_type": "display_data"
    },
    {
     "data": {
      "application/vnd.jupyter.widget-view+json": {
       "model_id": "199c3ea469ee4b9a9204c5cd38a6e88d",
       "version_major": 2,
       "version_minor": 0
      },
      "text/plain": [
       "Button(description='Confirm', style=ButtonStyle())"
      ]
     },
     "metadata": {},
     "output_type": "display_data"
    },
    {
     "data": {
      "application/vnd.jupyter.widget-view+json": {
       "model_id": "cc4fbf183f224f09994d015109869faa",
       "version_major": 2,
       "version_minor": 0
      },
      "text/plain": [
       "Output(layout=Layout(border='1px solid black'), outputs=({'name': 'stdout', 'text': 'Bio P 0.1-1.8 kDa\\n[100, …"
      ]
     },
     "metadata": {},
     "output_type": "display_data"
    }
   ],
   "source": [
    "#Create a selector for the intended size exclusion media\n",
    "geldict = {\n",
    "    \"Bio P 0.1-1.8 kDa\" : [100,1800],\n",
    "    \"Bio P 0.8-4.0 kDa\" : [800,4000],\n",
    "    \"Bio P 1.0-6.0 kDa\" : [1000,6000],\n",
    "    \"Bio P 1.5-20.0 kDa\" : [1500,20000],\n",
    "    \"Bio P 2.5-40.0 kDA\" : [2500,40000],\n",
    "    \"Bio P 3.0-60.0 kDa\" : [3000,60000],\n",
    "    \"Bio P 5.0-100 kDa\" : [5000,100000],\n",
    "    \"S-X 0.4-14.0 kDa\" : [400,14000],\n",
    "    \"S-X <2.0 kDA\" : [0,2000],\n",
    "    \"S-X <0.4 kDA\" : [0,400],\n",
    "    \"Bio A 10.0 - 1,500 kDA\" : [10000,1500000],\n",
    "}\n",
    "gelselect = Dropdown(options=geldict.keys(),description=\"Media\")\n",
    "display(gelselect)\n",
    "\n",
    "filttype = Label(value = \"Media: Waiting\")\n",
    "\n",
    "testbutton = widgets.Button(description=\"Confirm\")\n",
    "display(testbutton, output)\n",
    "def on_button_clicked():\n",
    "        filttype.value = str(gelselect.value)\n",
    "    \n",
    "testbutton.on_click(on_button_clicked)\n"
   ]
  },
  {
   "cell_type": "code",
   "execution_count": 35,
   "id": "a7838505-e6c6-4911-8a12-379dc19d5d35",
   "metadata": {},
   "outputs": [
    {
     "name": "stdout",
     "output_type": "stream",
     "text": [
      "Media: Waiting\n"
     ]
    }
   ],
   "source": [
    "print(filttype.value)"
   ]
  },
  {
   "cell_type": "code",
   "execution_count": 14,
   "id": "1c229ecf-cc76-4d26-a9d1-3bec6121ba6d",
   "metadata": {},
   "outputs": [
    {
     "data": {
      "application/vnd.jupyter.widget-view+json": {
       "model_id": "7fc986a827ec456193f06777cea634bd",
       "version_major": 2,
       "version_minor": 0
      },
      "text/plain": [
       "Output(layout=Layout(border='1px solid black'))"
      ]
     },
     "metadata": {},
     "output_type": "display_data"
    }
   ],
   "source": [
    "out = widgets.Output(layout={'border': '1px solid black'})\n",
    "out.append_stdout('Settings')\n",
    "with out:\n",
    "    for i in range(10):\n",
    "        print(i, 'Hello world!')\n",
    "\n",
    "out"
   ]
  },
  {
   "cell_type": "code",
   "execution_count": 16,
   "id": "21bff116-6ad9-4517-80df-3a45b0aef3d9",
   "metadata": {},
   "outputs": [
    {
     "data": {
      "application/vnd.jupyter.widget-view+json": {
       "model_id": "1c21ac715552456680224967f5d859dc",
       "version_major": 2,
       "version_minor": 0
      },
      "text/plain": [
       "Output(layout=Layout(border='1px solid black'), outputs=({'output_type': 'stream', 'name': 'stdout', 'text': '…"
      ]
     },
     "metadata": {},
     "output_type": "display_data"
    }
   ],
   "source": [
    "from IPython.display import YouTubeVideo\n",
    "with out:\n",
    "    display(YouTubeVideo('eWzY2nGfkXk'))\n",
    "\n",
    "out = widgets.Output(layout={'border': '1px solid black'})\n",
    "out.append_stdout('Output appended with append_stdout')\n",
    "out.append_display_data(YouTubeVideo('eWzY2nGfkXk'))\n",
    "out"
   ]
  },
  {
   "cell_type": "code",
   "execution_count": 3,
   "id": "30fbfd7e-288b-458e-a19c-1562b7d8afa1",
   "metadata": {
    "tags": []
   },
   "outputs": [],
   "source": [
    "#Generate a file path for the correct .fasta file\n",
    "\n",
    "filename = 'bacillus_halodurans.faa'\n",
    "#filename = input(\"Enter File Name\")\n",
    "datafile = os.path.join('data', filename)"
   ]
  },
  {
   "cell_type": "code",
   "execution_count": 4,
   "id": "062c209b-4524-45df-9ebf-89e741fe5f76",
   "metadata": {},
   "outputs": [],
   "source": [
    "data_folder = os.path.join('data', filename.replace(\".faa\",\"\")+\"_size_exclusion \"+gelselect.value)\n",
    "\n",
    "os.mkdir(data_folder)"
   ]
  },
  {
   "cell_type": "code",
   "execution_count": 5,
   "id": "0582e6f6-f4a0-4b93-8a66-939d92cff09b",
   "metadata": {},
   "outputs": [
    {
     "data": {
      "text/plain": [
       "4016"
      ]
     },
     "execution_count": 5,
     "metadata": {},
     "output_type": "execute_result"
    }
   ],
   "source": [
    "size_min = geldict[gelselect.value][0]\n",
    "size_max = geldict[gelselect.value][1]\n",
    "unfiltered = []\n",
    "wash = []\n",
    "fractions = []\n",
    "unpassed = []\n",
    "with open(datafile) as protfile:\n",
    "    for record in SeqIO.parse(protfile,\"fasta\"):\n",
    "        unfiltered.append(record)\n",
    "        protparams = PA(str(record.seq))\n",
    "        if protparams.molecular_weight() < size_min:\n",
    "            wash.append(record)\n",
    "        elif protparams.molecular_weight() <= size_max:\n",
    "            fractions.append(record)\n",
    "        else:\n",
    "            unpassed.append(record)\n",
    "            \n",
    "        \n",
    "SeqIO.write(unfiltered,os.path.join(data_folder,filename.replace(\".faa\",\"\")+\"_total.faa\"),\"fasta\")\n",
    "SeqIO.write(wash,os.path.join(data_folder,filename.replace(\".faa\",\"\")+\"_wash.faa\"),\"fasta\")\n",
    "SeqIO.write(fractions,os.path.join(data_folder,filename.replace(\".faa\",\"\")+\"_fractions.faa\"),\"fasta\")\n",
    "SeqIO.write(unpassed,os.path.join(data_folder,filename.replace(\".faa\",\"\")+\"_unpassed.faa\"),\"fasta\")"
   ]
  },
  {
   "cell_type": "code",
   "execution_count": 6,
   "id": "1d3c7413-6dd8-4ca2-9b26-fe159f7edf0b",
   "metadata": {},
   "outputs": [
    {
     "data": {
      "text/html": [
       "<div>\n",
       "<style scoped>\n",
       "    .dataframe tbody tr th:only-of-type {\n",
       "        vertical-align: middle;\n",
       "    }\n",
       "\n",
       "    .dataframe tbody tr th {\n",
       "        vertical-align: top;\n",
       "    }\n",
       "\n",
       "    .dataframe thead th {\n",
       "        text-align: right;\n",
       "    }\n",
       "</style>\n",
       "<table border=\"1\" class=\"dataframe\">\n",
       "  <thead>\n",
       "    <tr style=\"text-align: right;\">\n",
       "      <th></th>\n",
       "      <th>sequence</th>\n",
       "      <th>MW</th>\n",
       "      <th>description</th>\n",
       "      <th>ID</th>\n",
       "    </tr>\n",
       "  </thead>\n",
       "  <tbody>\n",
       "    <tr>\n",
       "      <th>3463</th>\n",
       "      <td>MDVKELLSGLD</td>\n",
       "      <td>1219.4048</td>\n",
       "      <td>BH3464~unknown [Bacillus halodurans]</td>\n",
       "      <td>gi|10176087|dbj|BAB07183.1|</td>\n",
       "    </tr>\n",
       "    <tr>\n",
       "      <th>3861</th>\n",
       "      <td>MNYLLTKIIILQ</td>\n",
       "      <td>1462.8381</td>\n",
       "      <td>BH3862~unknown [Bacillus halodurans]</td>\n",
       "      <td>gi|10176487|dbj|BAB07581.1|</td>\n",
       "    </tr>\n",
       "    <tr>\n",
       "      <th>837</th>\n",
       "      <td>MKDTVLANPAVIYE</td>\n",
       "      <td>1563.8129</td>\n",
       "      <td>BH0838~unknown [Bacillus halodurans]</td>\n",
       "      <td>gi|10173453|dbj|BAB04557.1|</td>\n",
       "    </tr>\n",
       "    <tr>\n",
       "      <th>2710</th>\n",
       "      <td>MIQKRFSKPMIVK</td>\n",
       "      <td>1606.0516</td>\n",
       "      <td>BH2711~unknown [Bacillus halodurans]</td>\n",
       "      <td>gi|10175332|dbj|BAB06430.1|</td>\n",
       "    </tr>\n",
       "    <tr>\n",
       "      <th>1031</th>\n",
       "      <td>MKDPKRMTVMIIHP</td>\n",
       "      <td>1697.1408</td>\n",
       "      <td>BH1032~unknown [Bacillus halodurans]</td>\n",
       "      <td>gi|10173647|dbj|BAB04751.1|</td>\n",
       "    </tr>\n",
       "    <tr>\n",
       "      <th>1489</th>\n",
       "      <td>MIMYQKEEEEASSF</td>\n",
       "      <td>1721.9019</td>\n",
       "      <td>BH1490~unknown [Bacillus halodurans]</td>\n",
       "      <td>gi|10174107|dbj|BAB05209.1|</td>\n",
       "    </tr>\n",
       "    <tr>\n",
       "      <th>3082</th>\n",
       "      <td>MNMADFQTWVLSYPI</td>\n",
       "      <td>1816.1039</td>\n",
       "      <td>BH3083~unknown [Bacillus halodurans]</td>\n",
       "      <td>gi|10175705|dbj|BAB06802.1|</td>\n",
       "    </tr>\n",
       "    <tr>\n",
       "      <th>1723</th>\n",
       "      <td>MVHITQGKEPDVFHVV</td>\n",
       "      <td>1836.1186</td>\n",
       "      <td>BH1724~unknown [Bacillus halodurans]</td>\n",
       "      <td>gi|10174341|dbj|BAB05443.1|</td>\n",
       "    </tr>\n",
       "    <tr>\n",
       "      <th>1155</th>\n",
       "      <td>MKRTIQLFKMMELEGG</td>\n",
       "      <td>1912.3439</td>\n",
       "      <td>BH1156~unknown [Bacillus halodurans]</td>\n",
       "      <td>gi|10173772|dbj|BAB04875.1|</td>\n",
       "    </tr>\n",
       "    <tr>\n",
       "      <th>3306</th>\n",
       "      <td>MSEKGRALNDNKKQTNR</td>\n",
       "      <td>1990.2060</td>\n",
       "      <td>BH3307~unknown [Bacillus halodurans]</td>\n",
       "      <td>gi|10175930|dbj|BAB07026.1|</td>\n",
       "    </tr>\n",
       "  </tbody>\n",
       "</table>\n",
       "</div>"
      ],
      "text/plain": [
       "               sequence         MW                            description  \\\n",
       "3463        MDVKELLSGLD  1219.4048   BH3464~unknown [Bacillus halodurans]   \n",
       "3861       MNYLLTKIIILQ  1462.8381   BH3862~unknown [Bacillus halodurans]   \n",
       "837      MKDTVLANPAVIYE  1563.8129   BH0838~unknown [Bacillus halodurans]   \n",
       "2710      MIQKRFSKPMIVK  1606.0516   BH2711~unknown [Bacillus halodurans]   \n",
       "1031     MKDPKRMTVMIIHP  1697.1408   BH1032~unknown [Bacillus halodurans]   \n",
       "1489     MIMYQKEEEEASSF  1721.9019   BH1490~unknown [Bacillus halodurans]   \n",
       "3082    MNMADFQTWVLSYPI  1816.1039   BH3083~unknown [Bacillus halodurans]   \n",
       "1723   MVHITQGKEPDVFHVV  1836.1186   BH1724~unknown [Bacillus halodurans]   \n",
       "1155   MKRTIQLFKMMELEGG  1912.3439   BH1156~unknown [Bacillus halodurans]   \n",
       "3306  MSEKGRALNDNKKQTNR  1990.2060   BH3307~unknown [Bacillus halodurans]   \n",
       "\n",
       "                               ID  \n",
       "3463  gi|10176087|dbj|BAB07183.1|  \n",
       "3861  gi|10176487|dbj|BAB07581.1|  \n",
       "837   gi|10173453|dbj|BAB04557.1|  \n",
       "2710  gi|10175332|dbj|BAB06430.1|  \n",
       "1031  gi|10173647|dbj|BAB04751.1|  \n",
       "1489  gi|10174107|dbj|BAB05209.1|  \n",
       "3082  gi|10175705|dbj|BAB06802.1|  \n",
       "1723  gi|10174341|dbj|BAB05443.1|  \n",
       "1155  gi|10173772|dbj|BAB04875.1|  \n",
       "3306  gi|10175930|dbj|BAB07026.1|  "
      ]
     },
     "execution_count": 6,
     "metadata": {},
     "output_type": "execute_result"
    }
   ],
   "source": [
    "#Converting modified fasta into a pd dataframe to show filter at work, preset file name used for simplicity\n",
    "\n",
    "data = defaultdict(list)\n",
    "\n",
    "\n",
    "protMW = []\n",
    "prot_desc = []\n",
    "prot_name = []\n",
    "prot_id = []\n",
    "with open(os.path.join(data_folder,filename.replace(\".faa\",\"\")+\"_total.faa\")) as protfile:\n",
    "  for record in SeqIO.parse(protfile,\"fasta\"):\n",
    "    sequence = str(record.seq)\n",
    "    data['sequence'].append(sequence)\n",
    "    protparams = PA(sequence)\n",
    "    protMW.append(protparams.molecular_weight())\n",
    "    prot_desc.append(str(record.description.replace(record.id,\"\")))\n",
    "    prot_id.append(str(record.id))\n",
    "\n",
    "\n",
    "df = pd.DataFrame.from_dict(data)\n",
    "df['MW'] = protMW\n",
    "df['description'] = prot_desc\n",
    "df['ID'] = prot_id\n",
    "\n",
    "df.sort_values(by=[\"MW\"], inplace=True)\n",
    "df.head(10)"
   ]
  },
  {
   "cell_type": "code",
   "execution_count": 7,
   "id": "1dc84ff0-521a-415a-88aa-cb999e327abe",
   "metadata": {
    "tags": []
   },
   "outputs": [
    {
     "data": {
      "text/html": [
       "<div>\n",
       "<style scoped>\n",
       "    .dataframe tbody tr th:only-of-type {\n",
       "        vertical-align: middle;\n",
       "    }\n",
       "\n",
       "    .dataframe tbody tr th {\n",
       "        vertical-align: top;\n",
       "    }\n",
       "\n",
       "    .dataframe thead th {\n",
       "        text-align: right;\n",
       "    }\n",
       "</style>\n",
       "<table border=\"1\" class=\"dataframe\">\n",
       "  <thead>\n",
       "    <tr style=\"text-align: right;\">\n",
       "      <th></th>\n",
       "      <th>sequence</th>\n",
       "      <th>MW</th>\n",
       "      <th>description</th>\n",
       "      <th>ID</th>\n",
       "    </tr>\n",
       "  </thead>\n",
       "  <tbody>\n",
       "    <tr>\n",
       "      <th>1922</th>\n",
       "      <td>MSIIQFPKEMKWGVATASYQIEGAINAGGRGASIWDVFAKTPGKVK...</td>\n",
       "      <td>51624.5481</td>\n",
       "      <td>beta-glucosidase [Bacillus halodurans]</td>\n",
       "      <td>gi|10174541|dbj|BAB05642.1|</td>\n",
       "    </tr>\n",
       "    <tr>\n",
       "      <th>3271</th>\n",
       "      <td>MSDKMEINWLKEVKNRRDEIVYELREFLQYDSVYDEKTRKAGAPFG...</td>\n",
       "      <td>51661.9196</td>\n",
       "      <td>Xaa-His dipeptidase [Bacillus halodurans]</td>\n",
       "      <td>gi|10175895|dbj|BAB06991.1|</td>\n",
       "    </tr>\n",
       "    <tr>\n",
       "      <th>731</th>\n",
       "      <td>MTTSSRKRWPLFRSLANVLERKMILPTPRMAWIAMTGALLVGVGYA...</td>\n",
       "      <td>51685.0841</td>\n",
       "      <td>BH0732~unknown conserved protein in others [B...</td>\n",
       "      <td>gi|10173346|dbj|BAB04451.1|</td>\n",
       "    </tr>\n",
       "    <tr>\n",
       "      <th>823</th>\n",
       "      <td>MDRKETAKLMENVMTELSEKEGFLGIEDDEKRKRIVLSAQEILTTT...</td>\n",
       "      <td>51740.0034</td>\n",
       "      <td>glutamate dehydrogenase [Bacillus halodurans]</td>\n",
       "      <td>gi|10173438|dbj|BAB04543.1|</td>\n",
       "    </tr>\n",
       "    <tr>\n",
       "      <th>1425</th>\n",
       "      <td>MTDYRVERDLIGEKKVPKEAYYGIQTMRARENFPITGYPPHEELIR...</td>\n",
       "      <td>51766.7409</td>\n",
       "      <td>aspartate ammonia-lyase [Bacillus halodurans]</td>\n",
       "      <td>gi|10174043|dbj|BAB05145.1|</td>\n",
       "    </tr>\n",
       "    <tr>\n",
       "      <th>...</th>\n",
       "      <td>...</td>\n",
       "      <td>...</td>\n",
       "      <td>...</td>\n",
       "      <td>...</td>\n",
       "    </tr>\n",
       "    <tr>\n",
       "      <th>2417</th>\n",
       "      <td>MNEEQRVRQERFKLLMEQLLIPEDVTANHLKDGKIEKLTIKKDERR...</td>\n",
       "      <td>162124.2311</td>\n",
       "      <td>DNA polymerase III (alpha subunit) [Bacillus ...</td>\n",
       "      <td>gi|10175038|dbj|BAB06137.1|</td>\n",
       "    </tr>\n",
       "    <tr>\n",
       "      <th>1727</th>\n",
       "      <td>MQNYGYPKKQGLYDPQFEHDNCGIGFLAHMKGQKSHKIVEDALHIL...</td>\n",
       "      <td>170065.0097</td>\n",
       "      <td>glutamate synthase (large subunit) [Bacillus ...</td>\n",
       "      <td>gi|10174346|dbj|BAB05447.1|</td>\n",
       "    </tr>\n",
       "    <tr>\n",
       "      <th>974</th>\n",
       "      <td>MSSTLWIFYDQYVQRATVDGLPTFIGPGEQATLRISSLKNDIQVRD...</td>\n",
       "      <td>170264.5877</td>\n",
       "      <td>BH0975~unknown conserved protein [Bacillus ha...</td>\n",
       "      <td>gi|10173590|dbj|BAB04694.1|</td>\n",
       "    </tr>\n",
       "    <tr>\n",
       "      <th>360</th>\n",
       "      <td>MKTLKHISYKLRIFALIALLISQTLLTSLSLPFQAVANSEKSGLTN...</td>\n",
       "      <td>183655.3749</td>\n",
       "      <td>BH0361~unknown [Bacillus halodurans]</td>\n",
       "      <td>gi|10172974|dbj|BAB04080.1|</td>\n",
       "    </tr>\n",
       "    <tr>\n",
       "      <th>2013</th>\n",
       "      <td>MKHLSNKLLLLAMVAVLISHTFLASIGLPLQAIANATANVFTNVEL...</td>\n",
       "      <td>199096.1368</td>\n",
       "      <td>BH2014~unknown [Bacillus halodurans]</td>\n",
       "      <td>gi|10174633|dbj|BAB05733.1|</td>\n",
       "    </tr>\n",
       "  </tbody>\n",
       "</table>\n",
       "<p>580 rows × 4 columns</p>\n",
       "</div>"
      ],
      "text/plain": [
       "                                               sequence           MW  \\\n",
       "1922  MSIIQFPKEMKWGVATASYQIEGAINAGGRGASIWDVFAKTPGKVK...   51624.5481   \n",
       "3271  MSDKMEINWLKEVKNRRDEIVYELREFLQYDSVYDEKTRKAGAPFG...   51661.9196   \n",
       "731   MTTSSRKRWPLFRSLANVLERKMILPTPRMAWIAMTGALLVGVGYA...   51685.0841   \n",
       "823   MDRKETAKLMENVMTELSEKEGFLGIEDDEKRKRIVLSAQEILTTT...   51740.0034   \n",
       "1425  MTDYRVERDLIGEKKVPKEAYYGIQTMRARENFPITGYPPHEELIR...   51766.7409   \n",
       "...                                                 ...          ...   \n",
       "2417  MNEEQRVRQERFKLLMEQLLIPEDVTANHLKDGKIEKLTIKKDERR...  162124.2311   \n",
       "1727  MQNYGYPKKQGLYDPQFEHDNCGIGFLAHMKGQKSHKIVEDALHIL...  170065.0097   \n",
       "974   MSSTLWIFYDQYVQRATVDGLPTFIGPGEQATLRISSLKNDIQVRD...  170264.5877   \n",
       "360   MKTLKHISYKLRIFALIALLISQTLLTSLSLPFQAVANSEKSGLTN...  183655.3749   \n",
       "2013  MKHLSNKLLLLAMVAVLISHTFLASIGLPLQAIANATANVFTNVEL...  199096.1368   \n",
       "\n",
       "                                            description  \\\n",
       "1922             beta-glucosidase [Bacillus halodurans]   \n",
       "3271          Xaa-His dipeptidase [Bacillus halodurans]   \n",
       "731    BH0732~unknown conserved protein in others [B...   \n",
       "823       glutamate dehydrogenase [Bacillus halodurans]   \n",
       "1425      aspartate ammonia-lyase [Bacillus halodurans]   \n",
       "...                                                 ...   \n",
       "2417   DNA polymerase III (alpha subunit) [Bacillus ...   \n",
       "1727   glutamate synthase (large subunit) [Bacillus ...   \n",
       "974    BH0975~unknown conserved protein [Bacillus ha...   \n",
       "360                BH0361~unknown [Bacillus halodurans]   \n",
       "2013               BH2014~unknown [Bacillus halodurans]   \n",
       "\n",
       "                               ID  \n",
       "1922  gi|10174541|dbj|BAB05642.1|  \n",
       "3271  gi|10175895|dbj|BAB06991.1|  \n",
       "731   gi|10173346|dbj|BAB04451.1|  \n",
       "823   gi|10173438|dbj|BAB04543.1|  \n",
       "1425  gi|10174043|dbj|BAB05145.1|  \n",
       "...                           ...  \n",
       "2417  gi|10175038|dbj|BAB06137.1|  \n",
       "1727  gi|10174346|dbj|BAB05447.1|  \n",
       "974   gi|10173590|dbj|BAB04694.1|  \n",
       "360   gi|10172974|dbj|BAB04080.1|  \n",
       "2013  gi|10174633|dbj|BAB05733.1|  \n",
       "\n",
       "[580 rows x 4 columns]"
      ]
     },
     "execution_count": 7,
     "metadata": {},
     "output_type": "execute_result"
    }
   ],
   "source": [
    "nfractions = 7\n",
    "fraclen = round(len(df)/nfractions)\n",
    "for n in range(nfractions - 1):\n",
    "    fracrecords = []\n",
    "    tempdf = df.iloc[n*fraclen:(n+1)*fraclen]\n",
    "    for index  in tempdf.index:\n",
    "        record = SeqRecord(Seq(tempdf['sequence'][index]),id=str(tempdf[\"ID\"][index]),description=tempdf[\"description\"][index])\n",
    "        fracrecords.append(record)\n",
    "    SeqIO.write(fracrecords,os.path.join(data_folder,filename.replace(\".faa\",\"\")+\"_fraction\"+ str(n+1) + \".faa\"),\"fasta\")\n",
    "\n",
    "tempdf = df.iloc[(nfractions-1)*fraclen:]\n",
    "remainderrecord = []\n",
    "for index  in tempdf.index:\n",
    "        record = SeqRecord(Seq(tempdf['sequence'][index]),id=str(tempdf[\"ID\"][index]),description=tempdf[\"description\"][index])\n",
    "        remainderrecord.append(record)\n",
    "SeqIO.write(remainderrecord,os.path.join(data_folder,filename.replace(\".faa\",\"\")+\"_fraction\"+ str(nfractions) + \".faa\"),\"fasta\")\n",
    "tempdf"
   ]
  },
  {
   "cell_type": "code",
   "execution_count": null,
   "id": "9fd0ff59-1925-4769-973b-0c16333ac3d0",
   "metadata": {},
   "outputs": [],
   "source": []
  },
  {
   "cell_type": "code",
   "execution_count": null,
   "id": "8164d4a7-2063-482b-9065-56fed2e72ba2",
   "metadata": {},
   "outputs": [],
   "source": []
  }
 ],
 "metadata": {
  "kernelspec": {
   "display_name": "Python 3",
   "language": "python",
   "name": "python3"
  },
  "language_info": {
   "codemirror_mode": {
    "name": "ipython",
    "version": 3
   },
   "file_extension": ".py",
   "mimetype": "text/x-python",
   "name": "python",
   "nbconvert_exporter": "python",
   "pygments_lexer": "ipython3",
   "version": "3.8.8"
  }
 },
 "nbformat": 4,
 "nbformat_minor": 5
}
