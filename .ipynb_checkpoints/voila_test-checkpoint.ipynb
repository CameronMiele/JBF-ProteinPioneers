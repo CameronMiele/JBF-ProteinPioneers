{
 "cells": [
  {
   "cell_type": "code",
   "execution_count": 1,
   "id": "5add2014-48ef-4337-be33-6d2262daca5e",
   "metadata": {
    "tags": []
   },
   "outputs": [
    {
     "data": {
      "application/vnd.jupyter.widget-view+json": {
       "model_id": "d14efa4d648f4a6c90a104ebb29e7266",
       "version_major": 2,
       "version_minor": 0
      },
      "text/plain": [
       "Dropdown(description='Fruit', options=('apples', 'oranges', 'bananas', 'grapes'), value='apples')"
      ]
     },
     "metadata": {},
     "output_type": "display_data"
    },
    {
     "data": {
      "application/vnd.jupyter.widget-view+json": {
       "model_id": "3bd25dea15734f33901c345faefc261d",
       "version_major": 2,
       "version_minor": 0
      },
      "text/plain": [
       "FloatSlider(value=7.0, max=14.0)"
      ]
     },
     "metadata": {},
     "output_type": "display_data"
    }
   ],
   "source": [
    "import ipywidgets as widgets\n",
    "from ipywidgets import *\n",
    "from IPython.display import display\n",
    "gelselect = Dropdown(options=['apples','oranges','bananas','grapes'],description=\"Fruit\")\n",
    "display(gelselect)\n",
    "pHslider = widgets.FloatSlider(value=7.0,min=0,max=14,step=0.1)\n",
    "display(pHslider)"
   ]
  },
  {
   "cell_type": "markdown",
   "id": "d3d634a4-8336-4590-8888-a5a81f9ca470",
   "metadata": {
    "tags": []
   },
   "source": [
    "## Among\n",
    "### Us"
   ]
  },
  {
   "cell_type": "code",
   "execution_count": 7,
   "id": "001b1949-5dcd-43aa-aeeb-6d8514c9c3e6",
   "metadata": {
    "tags": []
   },
   "outputs": [
    {
     "data": {
      "application/vnd.jupyter.widget-view+json": {
       "model_id": "91311cf80f1743aaa0ccea1de4998b0c",
       "version_major": 2,
       "version_minor": 0
      },
      "text/plain": [
       "FloatSlider(value=7.0, max=14.0)"
      ]
     },
     "execution_count": 7,
     "metadata": {},
     "output_type": "execute_result"
    }
   ],
   "source": [
    "pHslider"
   ]
  },
  {
   "cell_type": "code",
   "execution_count": 14,
   "id": "761acb34-0be8-447d-992b-8e4d838d54c7",
   "metadata": {
    "tags": []
   },
   "outputs": [
    {
     "data": {
      "application/vnd.jupyter.widget-view+json": {
       "model_id": "4e11fd56051f4c0c995b3db03247fd2d",
       "version_major": 2,
       "version_minor": 0
      },
      "text/plain": [
       "IntSlider(value=0)"
      ]
     },
     "execution_count": 14,
     "metadata": {},
     "output_type": "execute_result"
    }
   ],
   "source": [
    "widgets.IntSlider()"
   ]
  },
  {
   "cell_type": "code",
   "execution_count": null,
   "id": "2e02ac62-a9ad-460d-9e70-84f493c7265f",
   "metadata": {},
   "outputs": [],
   "source": []
  }
 ],
 "metadata": {
  "kernelspec": {
   "display_name": "Python 3 (ipykernel)",
   "language": "python",
   "name": "python3"
  },
  "language_info": {
   "codemirror_mode": {
    "name": "ipython",
    "version": 3
   },
   "file_extension": ".py",
   "mimetype": "text/x-python",
   "name": "python",
   "nbconvert_exporter": "python",
   "pygments_lexer": "ipython3",
   "version": "3.10.12"
  }
 },
 "nbformat": 4,
 "nbformat_minor": 5
}
