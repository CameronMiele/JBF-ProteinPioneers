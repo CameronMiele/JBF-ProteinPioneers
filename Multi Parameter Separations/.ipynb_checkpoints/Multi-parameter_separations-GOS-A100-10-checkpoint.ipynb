{
 "cells": [
  {
   "cell_type": "code",
   "execution_count": 1,
   "id": "d7700f9c-b9df-41a4-9b71-0a6bc7911a84",
   "metadata": {
    "tags": []
   },
   "outputs": [],
   "source": [
    "from Bio import SeqIO\n",
    "from Bio.SeqUtils.ProtParam import ProteinAnalysis as PA\n",
    "from Bio.Seq import Seq\n",
    "from Bio.SeqRecord import SeqRecord\n",
    "import os\n",
    "import pandas as pd\n",
    "import ipywidgets as widgets\n",
    "from ipywidgets import *\n",
    "import time\n",
    "import stat"
   ]
  },
  {
   "cell_type": "code",
   "execution_count": 2,
   "id": "4909093f-be8c-4df9-98eb-dc55f044e127",
   "metadata": {
    "tags": []
   },
   "outputs": [],
   "source": [
    "#These dictionaries are used to link dropdown options to a boolean function that determines whether or not the sequence is separated properly by the media\n",
    "sizeDict = {\n",
    "    \"Bio-P 0.1-1.8 kDa\" : lambda x : bool(100<x.molecular_weight()<1800),\n",
    "    \"Bio-P 0.8-4.0 kDa\" : lambda x : bool(800<x.molecular_weight()<4000),\n",
    "    \"Bio-P 1.0-6.0 kDa\" : lambda x : bool(1000<x.molecular_weight()<6000),\n",
    "    \"Bio-P 1.5-20.0 kDa\" : lambda x : bool(1500<x.molecular_weight()<20000),\n",
    "    \"Bio-P 2.5-40.0 kDA\" : lambda x : bool(2500<x.molecular_weight()<40000),\n",
    "    \"Bio-P 3.0-60.0 kDa\" : lambda x : bool(3000<x.molecular_weight()<60000),\n",
    "    \"Bio-P 5.0-100 kDa\" : lambda x : bool(5000<x.molecular_weight()<100000),\n",
    "    \"S-X 0.4-14.0 kDa\" : lambda x : bool(400<x.molecular_weight()<14000),\n",
    "    \"S-X <2.0 kDA\" : lambda x : bool(0<x.molecular_weight()<2000),\n",
    "    \"S-X <0.4 kDA\" : lambda x : bool(0<x.molecular_weight()<400),\n",
    "    \"Bio-A 10.0 - 500 kDA\" : lambda x : bool(10000<x.molecular_weight()<500000),\n",
    "    \"Bio-A 10.0 - 1500 kDA\" : lambda x : bool(10000<x.molecular_weight()<1500000),\n",
    "}\n",
    "ionDict = {\n",
    "    \"Q Media (Triethylamine +)\" : lambda x : bool(x.charge_at_pH(pHslider.value)<=-0.01),\n",
    "    \"S Media (Sulfite -)\" : lambda x : bool(x.charge_at_pH(pHslider.value)>=0.01),\n",
    "}\n",
    "affinityDict ={}\n",
    "\n",
    "#This dictionary holds the previous ones for the method selection menu\n",
    "methodDict = {\n",
    "    'Size Exclusion' : sizeDict,\n",
    "    'Ion Exchange' : ionDict,\n",
    "    'Affinity Chromatography' : affinityDict,\n",
    "}\n",
    "\n",
    "\n",
    "\n",
    "previousInputs=os.listdir('data') #List to keep track of available files for conveinience\n",
    "previousInputs.remove('.ipynb_checkpoints')\n",
    "\n",
    "style = {'description_width': 'initial'} #shorthands for widget appearances description width\n",
    "autoLayout = Layout(width='auto')"
   ]
  },
  {
   "cell_type": "code",
   "execution_count": 3,
   "id": "6da4616c-5ed7-4d9a-87dd-35b65f9cf264",
   "metadata": {
    "tags": []
   },
   "outputs": [
    {
     "data": {
      "application/vnd.jupyter.widget-view+json": {
       "model_id": "87552f24b6ba4882bf3a60b4b7d5125e",
       "version_major": 2,
       "version_minor": 0
      },
      "text/plain": [
       "TwoByTwoLayout(children=(Dropdown(description='Method:', layout=Layout(grid_area='top-left'), options=('Size E…"
      ]
     },
     "metadata": {},
     "output_type": "display_data"
    }
   ],
   "source": [
    "def confirmMethod(_): #Swaps media selection to match method\n",
    "    mediaSelect.options = methodDict[methodSelect.value].keys()\n",
    "\n",
    "methodSelect = widgets.Dropdown(options=methodDict.keys(),description='Method:') #Dropdown menu to select separation method\n",
    "methodButton = widgets.Button(description='Confirm Method') #Swaps media menu to match selected method\n",
    "methodButton.on_click(confirmMethod)\n",
    "\n",
    "mediaSelect = widgets.Dropdown(options=methodDict[methodSelect.value].keys(),description='Media') #Dropdown menu to select separation media\n",
    "pHslider = widgets.FloatSlider(value=7.0,min=0,max=14,step=0.1,description='pH',style=style) #Slider to determine pH\n",
    "selectDisplay = TwoByTwoLayout(top_left=methodSelect,top_right=methodButton,bottom_left=mediaSelect,bottom_right=pHslider,layout=Layout(width='50%')) #Arranges previous widgets\n",
    "display(selectDisplay)"
   ]
  },
  {
   "cell_type": "code",
   "execution_count": 4,
   "id": "521d481f-acec-44d0-b45a-4921d80bb3cf",
   "metadata": {
    "tags": []
   },
   "outputs": [
    {
     "data": {
      "application/vnd.jupyter.widget-view+json": {
       "model_id": "1e5f4ac82ced4fcc9b1adc102afadab2",
       "version_major": 2,
       "version_minor": 0
      },
      "text/plain": [
       "VBox(children=(Box(children=(Combobox(value='', description='Unseparated data', options=('E_coli.faa', 'Yersin…"
      ]
     },
     "metadata": {},
     "output_type": "display_data"
    }
   ],
   "source": [
    "def confirmInput(_): #Validates that the input file is valid\n",
    "    if inputFile.value in os.listdir('data'):\n",
    "        if inputFile.value not in previousInputs:\n",
    "            previousInputs.append(inputFile.value)\n",
    "        currentInput.value = inputFile.value\n",
    "        inputFile.options = previousInputs\n",
    "        errorText.value = ''\n",
    "    else:\n",
    "        errorText.value = f'Error: \\\"{inputFile.value}\\\" not found'\n",
    "\n",
    "boxLayout = Layout(width='30%')\n",
    "\n",
    "inputFile = widgets.Combobox(value='',placeholder='Enter a file to be separated',options=previousInputs,description='Unseparated data',style = style)\n",
    "inputButton = widgets.Button(description='Confirm File')\n",
    "currentInput = widgets.HTML(value='No file selected',description='Current input:',style = style)\n",
    "errorText = widgets.HTML(value=None,description='\\t',style={'text_color':'#CC0000','font_size':'16px'})\n",
    "\n",
    "\n",
    "inputButton.on_click(confirmInput)\n",
    "\n",
    "\n",
    "\n",
    "#inputDisplay = TwoByTwoLayout(top_left=inputFile,top_right=inputButton,bottom_left=currentInput,layout=Layout(width='50%'))\n",
    "inputTop = Box(children=[inputFile,inputButton],layout=boxLayout)\n",
    "inputBottom = Box(children=[currentInput,errorText],layout=boxLayout)\n",
    "inputDisplay=VBox([inputTop,inputBottom])\n",
    "#errorText = widgets.Text(value=None, disabled=True, style={'background':'white','text_color':'#CC0000','font_size':'20px'},layout=autoLayout)\n",
    "\n",
    "display(inputDisplay)\n",
    "\n",
    "\n"
   ]
  },
  {
   "cell_type": "code",
   "execution_count": 5,
   "id": "50c78e2c-8984-4123-b5a6-d126e63b10e4",
   "metadata": {
    "tags": []
   },
   "outputs": [
    {
     "data": {
      "application/vnd.jupyter.widget-view+json": {
       "model_id": "7ad8c797c99b4940bd9d8128df1f2e21",
       "version_major": 2,
       "version_minor": 0
      },
      "text/plain": [
       "Output()"
      ]
     },
     "metadata": {},
     "output_type": "display_data"
    }
   ],
   "source": [
    "out = widgets.Output()\n",
    "\n",
    "def checkFolder(_):\n",
    "    if os.path.isdir(os.path.join('outputs',outputFile.value)):\n",
    "        with out:\n",
    "            header.description=f'\\\"{outputFile.value}\\\" already exists. Some files may be replaced. Continue?'\n",
    "            outputFile.disabled = outputButton.disabled = True\n",
    "            display(overwriteCheck)\n",
    "    else:\n",
    "        with out:\n",
    "            dataFolder = outputFile.value\n",
    "            os.mkdir(os.path.join('outputs',dataFolder))\n",
    "            outputFile.disabled = outputButton.disabled = True\n",
    "        \n",
    "\n",
    "def confirmOverwrite(_):\n",
    "    with out:\n",
    "        out.clear_output()\n",
    "        display(outputDisplay)\n",
    "    \n",
    "def denyOverwrite(_):\n",
    "    with out:\n",
    "        out.clear_output()\n",
    "        display(outputDisplay)\n",
    "        outputFile.value = ''\n",
    "        outputFile.disabled = outputButton.disabled = False\n",
    "\n",
    "#Generate the output name entry\n",
    "outputFile = widgets.Text(placeholder='Enter a label for the output folder.', style=style,disabled=False)\n",
    "outputButton = widgets.Button(description='Confirm',disabled=False)\n",
    "outputDisplay = Box(children=[outputFile,outputButton])\n",
    "\n",
    "#Generate the overwrite prompt\n",
    "confirmButton = widgets.Button(description='Yes',layout=Layout(width='auto'))\n",
    "denyButton = widgets.Button(description='No',layout=Layout(width='auto'))\n",
    "header = widgets.HTML(description=f'\\\"{outputFile.value}\\\" already exists. Continue?',layout=Layout(justify_content='center',width='auto'),style=style)\n",
    "YesNo = Box(children=[confirmButton, denyButton],layout=Layout())\n",
    "overwriteCheck = VBox([header,YesNo],layout=Layout(justify_content='center',),)\n",
    "\n",
    "#Define button functionality\n",
    "outputButton.on_click(checkFolder)\n",
    "confirmButton.on_click(confirmOverwrite)\n",
    "denyButton.on_click(denyOverwrite)\n",
    "\n",
    "with out:\n",
    "    display(outputDisplay)\n",
    "\n",
    "out"
   ]
  },
  {
   "cell_type": "code",
   "execution_count": 9,
   "id": "ca21dd69-17b3-499f-bc82-ee35ef0c22c2",
   "metadata": {},
   "outputs": [
    {
     "ename": "SyntaxError",
     "evalue": "invalid syntax (<ipython-input-9-c46322ad0d05>, line 14)",
     "output_type": "error",
     "traceback": [
      "\u001b[1;36m  File \u001b[1;32m\"<ipython-input-9-c46322ad0d05>\"\u001b[1;36m, line \u001b[1;32m14\u001b[0m\n\u001b[1;33m    if method(protparams):\u001b[0m\n\u001b[1;37m                         ^\u001b[0m\n\u001b[1;31mSyntaxError\u001b[0m\u001b[1;31m:\u001b[0m invalid syntax\n"
     ]
    }
   ],
   "source": [
    "inFolder = os.path.join('data',currentInput.value)\n",
    "outFolder = os.path.join('outputs',outputFile.value)\n",
    "dataName = outputFile.value\n",
    "method = methodDict[methodSelect.value][mediaSelect.value]\n",
    "totals = []\n",
    "wash = []\n",
    "fractions = []\n",
    "\n",
    "with open(inFolder) as protfile:\n",
    "    for record in SeqIO.parse(inFolder,'fasta'):\n",
    "        totals.append(record)\n",
    "        sequence = str(record.seq)\n",
    "        protparams = PA(sequence.replace('X','Q')\n",
    "        if method(protparams):\n",
    "            fractions.append(record)\n",
    "        else:\n",
    "            wash.append(record)\n",
    "\n",
    "                        \n",
    "SeqIO.write(totals,os.path.join(outFolder,dataName+\"_total.faa\"),\"fasta\")\n",
    "SeqIO.write(wash,os.path.join(outFolder,dataName+\"_wash.faa\"),\"fasta\")\n",
    "SeqIO.write(fractions,os.path.join(outFolder,dataName+\"_separated.faa\"),\"fasta\")"
   ]
  },
  {
   "cell_type": "code",
   "execution_count": null,
   "id": "a661df11-72d3-478e-98bf-d664678d26d5",
   "metadata": {
    "tags": []
   },
   "outputs": [],
   "source": [
    "fracSlider = widgets.IntSlider(value=7,min=1,max=100,step=1,description='# of fractions',style=style)"
   ]
  },
  {
   "cell_type": "code",
   "execution_count": null,
   "id": "8d8b3a1c-994a-41d7-a98d-31d460a94fb2",
   "metadata": {},
   "outputs": [],
   "source": [
    "dataDict = {\n",
    "    'Sequence' : [],\n",
    "    'Length' : [],\n",
    "    'Isoelectric_point' : [],\n",
    "    'Molecular Weight (Da)' : [],\n",
    "    'Charge at pH {}'.format(pHslider.value) : [],\n",
    "    'ID' : [],\n",
    "    'Description' : []\n",
    "}\n",
    "\n",
    "#Create pandas dataframe to sort separated data\n",
    "\n",
    "with open(os.path.join(outFolder,dataName+\"_separated.faa\")):\n",
    "    for record in SeqIO.parse(inFolder,'fasta'):\n",
    "        sequence = str(record.seq)\n",
    "        protparams = PA(sequence.replace('X','Q')\n",
    "        dataDict['Sequence'].append(sequence)\n",
    "        dataDict\n",
    "\n"
   ]
  },
  {
   "cell_type": "code",
   "execution_count": null,
   "id": "216d714c-7c8b-49bb-925c-b05ac5748dbe",
   "metadata": {},
   "outputs": [],
   "source": [
    "nfractions = 7\n",
    "fraclen = round(len(df)/nfractions)\n",
    "noise = 0.10\n",
    "for n in range(nfractions - 1):\n",
    "    fracrecords = []\n",
    "    #Generate min/max range values\n",
    "    fuzzymin = int(round(n*fraclen-noise*fraclen,0))\n",
    "    fuzzymax = int(round((n+1)*fraclen + noise*fraclen,0))\n",
    "    if fuzzymin < 0:\n",
    "        fuzzymin = 0\n",
    "    if fuzzymax > len(df):\n",
    "        fuzzymax = len(df)\n",
    "    tempdf = df.iloc[fuzzymin:fuzzymax]\n",
    "    for index  in tempdf.index:\n",
    "        record = SeqRecord(Seq(tempdf['sequence'][index]),id=str(tempdf[\"ID\"][index]),description=tempdf[\"description\"][index])\n",
    "        fracrecords.append(record)\n",
    "        if param_of_interest(tempdf['sequence'][index]) == True:\n",
    "            if n+1 in seqhits:\n",
    "                seqhits[n+1][0] += 1\n",
    "                seqhits[n+1][1].append(index)\n",
    "            else:\n",
    "                seqhits[n+1] = [1,[index]]\n",
    "    SeqIO.write(fracrecords,os.path.join(data_folder,data_name+\"_fraction\"+ str(n+1) + \".faa\"),\"fasta\")\n",
    "\n",
    "tempdf = df.iloc[int(round((nfractions-1)*fraclen-noise*fraclen,0)):]\n",
    "remainderrecord = []\n",
    "for index  in tempdf.index:\n",
    "        record = SeqRecord(Seq(tempdf['sequence'][index]),id=str(tempdf[\"ID\"][index]),description=tempdf[\"description\"][index])\n",
    "        remainderrecord.append(record)\n",
    "        if param_of_interest(tempdf['sequence'][index]) == True:\n",
    "            if nfractions in seqhits:\n",
    "                seqhits[nfractions][0] += 1\n",
    "                seqhits[nfractions][1].append(index)\n",
    "            else:\n",
    "                seqhits[nfractions] = [1,[index]]\n",
    "SeqIO.write(remainderrecord,os.path.join(data_folder,data_name+\"_fraction\"+ str(nfractions) + \".faa\"),\"fasta\")\n",
    "tempdf"
   ]
  },
  {
   "cell_type": "code",
   "execution_count": 7,
   "id": "fcee0f25-b39d-4339-8fe1-710d72ef704c",
   "metadata": {},
   "outputs": [
    {
     "data": {
      "text/plain": [
       "'Charge at pH 7.0'"
      ]
     },
     "execution_count": 7,
     "metadata": {},
     "output_type": "execute_result"
    }
   ],
   "source": [
    "'Charge at pH {}'.format(pHslider.value)"
   ]
  },
  {
   "cell_type": "code",
   "execution_count": null,
   "id": "94ac9119-6bfa-474a-927f-615c9e85b871",
   "metadata": {},
   "outputs": [],
   "source": []
  }
 ],
 "metadata": {
  "kernelspec": {
   "display_name": "Python 3",
   "language": "python",
   "name": "python3"
  },
  "language_info": {
   "codemirror_mode": {
    "name": "ipython",
    "version": 3
   },
   "file_extension": ".py",
   "mimetype": "text/x-python",
   "name": "python",
   "nbconvert_exporter": "python",
   "pygments_lexer": "ipython3",
   "version": "3.9.4"
  }
 },
 "nbformat": 4,
 "nbformat_minor": 5
}
