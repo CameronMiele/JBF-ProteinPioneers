{
 "cells": [
  {
   "cell_type": "code",
   "execution_count": 184,
   "id": "d7700f9c-b9df-41a4-9b71-0a6bc7911a84",
   "metadata": {
    "tags": []
   },
   "outputs": [],
   "source": [
    "from Bio import SeqIO\n",
    "from Bio.SeqUtils.ProtParam import ProteinAnalysis as PA\n",
    "from Bio.Seq import Seq\n",
    "from Bio.SeqRecord import SeqRecord\n",
    "import os\n",
    "import pandas as pd\n",
    "import ipywidgets as widgets\n",
    "from ipywidgets import *\n",
    "import time\n",
    "import stat"
   ]
  },
  {
   "cell_type": "code",
   "execution_count": 2,
   "id": "4909093f-be8c-4df9-98eb-dc55f044e127",
   "metadata": {
    "tags": []
   },
   "outputs": [],
   "source": [
    "#These dictionaries are used to link dropdown options to a boolean function that determines whether or not the sequence is separated properly by the media\n",
    "sizeDict = {\n",
    "    \"Bio-P 0.1-1.8 kDa\" : lambda x : bool(100<x.molecular_weight()<1800),\n",
    "    \"Bio-P 0.8-4.0 kDa\" : lambda x : bool(800<x.molecular_weight()<4000),\n",
    "    \"Bio-P 1.0-6.0 kDa\" : lambda x : bool(1000<x.molecular_weight()<6000),\n",
    "    \"Bio-P 1.5-20.0 kDa\" : lambda x : bool(1500<x.molecular_weight()<20000),\n",
    "    \"Bio-P 2.5-40.0 kDA\" : lambda x : bool(2500<x.molecular_weight()<40000),\n",
    "    \"Bio-P 3.0-60.0 kDa\" : lambda x : bool(3000<x.molecular_weight()<60000),\n",
    "    \"Bio-P 5.0-100 kDa\" : lambda x : bool(5000<x.molecular_weight()<100000),\n",
    "    \"S-X 0.4-14.0 kDa\" : lambda x : bool(400<x.molecular_weight()<14000),\n",
    "    \"S-X <2.0 kDA\" : lambda x : bool(0<x.molecular_weight()<2000),\n",
    "    \"S-X <0.4 kDA\" : lambda x : bool(0<x.molecular_weight()<400),\n",
    "    \"Bio-A 10.0 - 500 kDA\" : lambda x : bool(10000<x.molecular_weight()<500000),\n",
    "    \"Bio-A 10.0 - 1500 kDA\" : lambda x : bool(10000<x.molecular_weight()<1500000),\n",
    "}\n",
    "ionDict = {\n",
    "    \"Q Media (Triethylamine +)\" : lambda x : bool(x<1),\n",
    "    \"S Media (Sulfite -)\" : lambda x : bool(x>1),\n",
    "}\n",
    "affinityDict ={}\n",
    "\n",
    "#This dictionary holds the previous ones for the method selection menu\n",
    "methodDict = {\n",
    "    'Size Exclusion' : sizeDict,\n",
    "    'Ion Exchange' : ionDict,\n",
    "    'Affinity Chromatography' : affinityDict,\n",
    "}\n",
    "\n",
    "\n",
    "\n",
    "previousInputs=[] #List to keep track of previous files for conveinience\n",
    "\n",
    "style = {'description_width': 'initial'} #shorthands for widget appearances description width\n",
    "autoLayout = Layout(width='auto')"
   ]
  },
  {
   "cell_type": "code",
   "execution_count": 3,
   "id": "6da4616c-5ed7-4d9a-87dd-35b65f9cf264",
   "metadata": {
    "tags": []
   },
   "outputs": [
    {
     "data": {
      "application/vnd.jupyter.widget-view+json": {
       "model_id": "ed5cb09a445446459b0d92cf2671c8d5",
       "version_major": 2,
       "version_minor": 0
      },
      "text/plain": [
       "TwoByTwoLayout(children=(Dropdown(description='Method:', layout=Layout(grid_area='top-left'), options=('Size E…"
      ]
     },
     "metadata": {},
     "output_type": "display_data"
    }
   ],
   "source": [
    "def confirmMethod(_): #Swaps media selection to match method\n",
    "    mediaSelect.options = methodDict[methodSelect.value].keys()\n",
    "\n",
    "methodSelect = widgets.Dropdown(options=methodDict.keys(),description='Method:')\n",
    "methodButton = widgets.Button(description='Confirm Method')\n",
    "methodButton.on_click(confirmMethod)\n",
    "mediaSelect = widgets.Dropdown(options=methodDict[methodSelect.value].keys(),description='Media')\n",
    "selectDisplay = TwoByTwoLayout(top_left=methodSelect,top_right=methodButton,bottom_left=mediaSelect,layout=Layout(width='50%'))\n",
    "display(selectDisplay)"
   ]
  },
  {
   "cell_type": "code",
   "execution_count": 145,
   "id": "521d481f-acec-44d0-b45a-4921d80bb3cf",
   "metadata": {
    "tags": []
   },
   "outputs": [
    {
     "data": {
      "application/vnd.jupyter.widget-view+json": {
       "model_id": "3f5cb8effa1040d2b836957a9d030eb7",
       "version_major": 2,
       "version_minor": 0
      },
      "text/plain": [
       "VBox(children=(Box(children=(Combobox(value='', description='Unseparated data', options=('test.txt',), placeho…"
      ]
     },
     "metadata": {},
     "output_type": "display_data"
    }
   ],
   "source": [
    "def confirmInput(_):\n",
    "    if inputFile.value in os.listdir('data'):\n",
    "        if inputFile.value not in previousInputs:\n",
    "            previousInputs.append(inputFile.value)\n",
    "        currentInput.value = inputFile.value\n",
    "        inputFile.options = previousInputs\n",
    "        errorText.value = ''\n",
    "    else:\n",
    "        errorText.value = f'Error: \\\"{inputFile.value}\\\" not found'\n",
    "\n",
    "boxLayout = Layout(width='30%')\n",
    "\n",
    "inputFile = widgets.Combobox(value='',placeholder='Enter a file to be separated',options=previousInputs,description='Unseparated data',style = style)\n",
    "inputButton = widgets.Button(description='Confirm File')\n",
    "currentInput = widgets.HTML(value='No file selected',description='Current input:',style = style)\n",
    "errorText = widgets.HTML(value=None,description='\\t',style={'text_color':'#CC0000','font_size':'16px'})\n",
    "\n",
    "#These two do the same thing, but adds redundancy so the user can hit Enter or click the button.\n",
    "inputButton.on_click(confirmInput)\n",
    "#inputFile.on_submit(confirmInput)\n",
    "\n",
    "\n",
    "#inputDisplay = TwoByTwoLayout(top_left=inputFile,top_right=inputButton,bottom_left=currentInput,layout=Layout(width='50%'))\n",
    "inputTop = Box(children=[inputFile,inputButton],layout=boxLayout)\n",
    "inputBottom = Box(children=[currentInput,errorText],layout=boxLayout)\n",
    "inputDisplay=VBox([inputTop,inputBottom])\n",
    "#errorText = widgets.Text(value=None, disabled=True, style={'background':'white','text_color':'#CC0000','font_size':'20px'},layout=autoLayout)\n",
    "\n",
    "display(inputDisplay)\n",
    "\n",
    "\n"
   ]
  },
  {
   "cell_type": "code",
   "execution_count": 191,
   "id": "50c78e2c-8984-4123-b5a6-d126e63b10e4",
   "metadata": {
    "tags": []
   },
   "outputs": [],
   "source": [
    "out = widgets.Output()\n",
    "\n",
    "def createFolder():\n",
    "    os.mkdir(os.path.join('outputs',outputFile.value))\n",
    "    outputFile.disabled = True\n",
    "    \n",
    "def checkFolder(_):\n",
    "    if os.path.isdir(os.path.join('outputs',outputFile.value)):\n",
    "        with out:\n",
    "            outputDisplay.disabled = outputButton.disabled = True\n",
    "            display(overwriteCheck)\n",
    "    else:\n",
    "        createFolder()\n",
    "\n",
    "def confirmOverwrite(_):\n",
    "    for file in os.listdir(os.path.join('outputs',outputFile.value)):\n",
    "        if not file.startswith('.'):\n",
    "            os.remove(file)\n",
    "    \n",
    "def denyOverwrite(_):\n",
    "    with out:\n",
    "        out.clear_output()\n",
    "        display(outputDisplay)\n",
    "\n",
    "#Generate the output name entry\n",
    "outputFile = widgets.Text(placeholder='Enter a label for the output folder.', style=style,disabled=False)\n",
    "outputButton = widgets.Button(description='Confirm',disabled=False)\n",
    "outputDisplay = Box(children=[outputFile,outputButton])\n",
    "\n",
    "#Generate the overwrite prompt\n",
    "confirmButton = widgets.Button(description='Yes',layout=Layout(width='auto'))\n",
    "denyButton = widgets.Button(description='No',layout=Layout(width='auto'))\n",
    "header = widgets.HTML(description='Overwrite Existing Data?',layout=Layout(justify_content='center',width='auto'),style=style)\n",
    "YesNo = Box(children=[confirmButton, denyButton],layout=Layout())\n",
    "overwriteCheck = VBox([header,YesNo],layout=Layout(justify_content='center',width='15%'),)\n",
    "\n",
    "#Define button functionality\n",
    "outputButton.on_click(checkFolder)\n",
    "confirmButton.on_click(confirmOverwrite)\n",
    "denyButton.on_click(denyOverwrite)\n"
   ]
  },
  {
   "cell_type": "code",
   "execution_count": 192,
   "id": "401ff8a9-e3ce-45da-af93-27655b960a71",
   "metadata": {
    "tags": []
   },
   "outputs": [
    {
     "data": {
      "application/vnd.jupyter.widget-view+json": {
       "model_id": "7aa31ac5e76f4168b6759b88a199868c",
       "version_major": 2,
       "version_minor": 0
      },
      "text/plain": [
       "Output()"
      ]
     },
     "execution_count": 192,
     "metadata": {},
     "output_type": "execute_result"
    }
   ],
   "source": [
    "with out:\n",
    "    display(outputDisplay)\n",
    "\n",
    "out"
   ]
  },
  {
   "cell_type": "code",
   "execution_count": 149,
   "id": "0905215e-06fd-46e0-9f42-874dedd116ab",
   "metadata": {
    "tags": []
   },
   "outputs": [
    {
     "data": {
      "text/plain": [
       "'auto'"
      ]
     },
     "execution_count": 149,
     "metadata": {},
     "output_type": "execute_result"
    }
   ],
   "source": [
    "header.layout.width"
   ]
  },
  {
   "cell_type": "code",
   "execution_count": 114,
   "id": "5adeedb9-3eb2-4e65-8bff-70f8097e9ffd",
   "metadata": {
    "tags": []
   },
   "outputs": [
    {
     "data": {
      "application/vnd.jupyter.widget-view+json": {
       "model_id": "834cb315daba4a569c056d20fd0d82e9",
       "version_major": 2,
       "version_minor": 0
      },
      "text/plain": [
       "Combobox(value='a', continuous_update=False, description='Unseparated data', options=('test.txt',), placeholde…"
      ]
     },
     "metadata": {},
     "output_type": "display_data"
    }
   ],
   "source": [
    "display(inputFile)"
   ]
  },
  {
   "cell_type": "code",
   "execution_count": 103,
   "id": "86278974-2646-431e-ae4b-fd33bca3a7c4",
   "metadata": {
    "tags": []
   },
   "outputs": [
    {
     "data": {
      "application/vnd.jupyter.widget-view+json": {
       "model_id": "1d4a50b53e0a4e94b3316d327757f190",
       "version_major": 2,
       "version_minor": 0
      },
      "text/plain": [
       "HTML(value='Hello <b>World</b>', description='Some HTML', placeholder='Some HTML')"
      ]
     },
     "execution_count": 103,
     "metadata": {},
     "output_type": "execute_result"
    }
   ],
   "source": [
    "widgets.HTML(\n",
    "    value=\"Hello <b>World</b>\",\n",
    "    placeholder='Some HTML',\n",
    "    description='Some HTML',\n",
    ")"
   ]
  },
  {
   "cell_type": "code",
   "execution_count": 104,
   "id": "8fca6c40-c1c4-4cf9-87a9-f95a0f69a7a9",
   "metadata": {
    "tags": []
   },
   "outputs": [
    {
     "data": {
      "application/vnd.jupyter.widget-view+json": {
       "model_id": "143f6a04734340b2ac1fc3ea72eda637",
       "version_major": 2,
       "version_minor": 0
      },
      "text/plain": [
       "HTMLMath(value='Some math and <i>HTML</i>: \\\\(x^2\\\\) and $$\\\\frac{x+1}{x-1}$$', description='Some HTML', place…"
      ]
     },
     "execution_count": 104,
     "metadata": {},
     "output_type": "execute_result"
    }
   ],
   "source": [
    "widgets.HTMLMath(\n",
    "    value=r\"Some math and <i>HTML</i>: \\(x^2\\) and $$\\frac{x+1}{x-1}$$\",\n",
    "    placeholder='Some HTML',\n",
    "    description='Some HTML',\n",
    ")"
   ]
  },
  {
   "cell_type": "code",
   "execution_count": null,
   "id": "1c8e0ccb-1ad3-426b-af21-1f298df1664f",
   "metadata": {},
   "outputs": [],
   "source": []
  }
 ],
 "metadata": {
  "kernelspec": {
   "display_name": "Python 3 (ipykernel)",
   "language": "python",
   "name": "python3"
  },
  "language_info": {
   "codemirror_mode": {
    "name": "ipython",
    "version": 3
   },
   "file_extension": ".py",
   "mimetype": "text/x-python",
   "name": "python",
   "nbconvert_exporter": "python",
   "pygments_lexer": "ipython3",
   "version": "3.10.12"
  }
 },
 "nbformat": 4,
 "nbformat_minor": 5
}
