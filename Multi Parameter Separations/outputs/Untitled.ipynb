{
 "cells": [
  {
   "cell_type": "code",
   "execution_count": 4,
   "id": "4740c929-7d7b-4e5a-ab6f-dd13853485c6",
   "metadata": {},
   "outputs": [
    {
     "data": {
      "text/plain": [
       "6"
      ]
     },
     "execution_count": 4,
     "metadata": {},
     "output_type": "execute_result"
    }
   ],
   "source": [
    "#Bio packages for reading protein data\n",
    "from Bio import SeqIO\n",
    "from Bio.SeqUtils.ProtParam import ProteinAnalysis as PA\n",
    "from Bio.Seq import Seq\n",
    "from Bio.SeqRecord import SeqRecord\n",
    "\n",
    "import os #File reading and manipulation\n",
    "import pandas as pd #Dataframes to keep track of, and display data\n",
    "import ipywidgets as widgets #Interactable elements\n",
    "from ipywidgets import *\n",
    "import math #Simplifying certain operations\n",
    "x = PA(\"MAEGEITTFTALTEKFNLPPGNYKKPKLLYCSNGGHFLRILPDGTVDGTRDRSDQHIQLQLSAESVGEVYIKSTETGQYLAMDTSGLLYGSQTPSEECLFLERLEENHYNTYTSKKHAEKNWFVGLKKNGSCKRGPRTHYGQKAILFLPLPV\")\n",
    "\n",
    "x.count_amino_acids()['A']"
   ]
  },
  {
   "cell_type": "code",
   "execution_count": 5,
   "id": "0f110b7b-cd6c-4c12-a6e1-a9acedd2abd7",
   "metadata": {},
   "outputs": [],
   "source": [
    "d = {\n",
    "    'B' : 2\n",
    "}"
   ]
  },
  {
   "cell_type": "code",
   "execution_count": 7,
   "id": "ff70860e-f256-47a5-bdba-eff2deef2984",
   "metadata": {},
   "outputs": [
    {
     "data": {
      "text/plain": [
       "False"
      ]
     },
     "execution_count": 7,
     "metadata": {},
     "output_type": "execute_result"
    }
   ],
   "source": [
    "2 in d"
   ]
  },
  {
   "cell_type": "code",
   "execution_count": null,
   "id": "cac1bf3e-d16d-4c4d-83ce-c8e31fb86d39",
   "metadata": {},
   "outputs": [],
   "source": []
  }
 ],
 "metadata": {
  "kernelspec": {
   "display_name": "Python 3 (ipykernel)",
   "language": "python",
   "name": "python3"
  },
  "language_info": {
   "codemirror_mode": {
    "name": "ipython",
    "version": 3
   },
   "file_extension": ".py",
   "mimetype": "text/x-python",
   "name": "python",
   "nbconvert_exporter": "python",
   "pygments_lexer": "ipython3",
   "version": "3.11.5"
  }
 },
 "nbformat": 4,
 "nbformat_minor": 5
}
