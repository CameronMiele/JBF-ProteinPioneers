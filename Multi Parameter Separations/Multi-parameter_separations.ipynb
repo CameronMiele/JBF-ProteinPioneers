{
 "cells": [
  {
   "cell_type": "code",
   "execution_count": 1,
   "id": "d7700f9c-b9df-41a4-9b71-0a6bc7911a84",
   "metadata": {
    "tags": []
   },
   "outputs": [],
   "source": [
    "from Bio import SeqIO\n",
    "from Bio.SeqUtils.ProtParam import ProteinAnalysis as PA\n",
    "from Bio.Seq import Seq\n",
    "from Bio.SeqRecord import SeqRecord\n",
    "import os\n",
    "import pandas as pd\n",
    "import ipywidgets as widgets\n",
    "from ipywidgets import *\n",
    "import time\n",
    "import stat\n",
    "import math\n",
    "\n",
    "pd.set_option('display.max_rows', 150)"
   ]
  },
  {
   "cell_type": "code",
   "execution_count": 2,
   "id": "a24f7a9e-772a-442e-bcdf-765030d42fbd",
   "metadata": {},
   "outputs": [],
   "source": [
    "#Additional columns can be added by including an attribute name and lambda function to define it, as long as includeDefaults=True the default attributes don't need to be redefined\n",
    "def fasta_to_dataframe(fastaPath,includeDefaults = True, pH = 7.0, attributes={}): \n",
    "    #if includeDefaults is enabled, re-add the predefined parameters\n",
    "    attributes.clear()\n",
    "    if includeDefaults:\n",
    "        attributes['Sequence'] = lambda record : str(record.seq)\n",
    "        attributes['ID'] = lambda record : record.id\n",
    "        attributes['Description'] = lambda record : record.description\n",
    "        attributes['Molecular Weight'] = lambda record : PA(record.seq.replace('X','Q')).molecular_weight()\n",
    "        attributes['Charge at pH {}'.format(pH)] = lambda record : PA(record.seq.replace('X','Q')).charge_at_pH(pH)\n",
    "    elif not attributes:\n",
    "        raise Exception('No attribute functions, set includeDefault = False or add attribute functions')\n",
    "    \n",
    "    #This is built to use the from_dict method to create a dataframe where each dictionary key is a column and it's associated data is in a list bound to that key.\n",
    "    columns = attributes.keys() #List of our tracked variables for ease of access\n",
    "    dataDict = {} #dictionary the dataframe will be made from\n",
    "    for x in columns: #prep dataDict to have the data added to it, will be a dictionary where each key is tied to an empty list\n",
    "        dataDict[x] = []\n",
    "    with open(fastaPath):\n",
    "        for record in SeqIO.parse(fastaPath,'fasta'):\n",
    "            for attribute in columns: #For each attribute, append the output of it's defined function to the appropriate list in dataDict\n",
    "                dataDict[attribute].append(attributes[attribute](record)) \n",
    "    df = pd.DataFrame.from_dict(dataDict) #This command builds the dataframe from dataDict\n",
    "    return(df)\n",
    "                \n",
    "def fractionate(df,numFractions,noise=0.0,newIndices = False): #Evenly splits a dataframe into a list of fraction dataframes. Noise is how much each fraction will bleed over past it's exact boundaries 0.1 = 10% more data either direction.\n",
    "    fracLen = round(len(df) / numFractions) #Base length each subdataframe will be (excluding the last one)\n",
    "    fuzz = fracLen * noise #How many additional entries will be added as \"noise\"\n",
    "    dfFractions = [] \n",
    "    for n in range(numFractions):\n",
    "        fuzzyMin = max(0,int(round(n*fracLen - fuzz))) #Determine the minimum index for this subdivision\n",
    "        fuzzyMax = min(len(df),int(round((n+1)*fracLen + fuzz))) #Determine the maximum index for this subdivision\n",
    "        if n == numFractions - 1: #check if this fraction is the last one to prevent cutting off data near the end\n",
    "            fuzzyMax = len(df)\n",
    "            \n",
    "        output = df.iloc[fuzzyMin:fuzzyMax]  #This creates a new dataframe for each subdivision so any necessary changes, like adjusting the index numbers, can be made before appending\n",
    "        if newIndices:\n",
    "            output.reset_index(drop=True, inplace=True)\n",
    "            \n",
    "        dfFractions.append(output)\n",
    "    return(dfFractions)"
   ]
  },
  {
   "cell_type": "code",
   "execution_count": 3,
   "id": "4909093f-be8c-4df9-98eb-dc55f044e127",
   "metadata": {
    "tags": []
   },
   "outputs": [],
   "source": [
    "#These dictionaries are used to link dropdown options to a boolean function that determines whether or not the sequence is separated properly by the media\n",
    "sizeDict = {\n",
    "    #\"Bio-P 0.1-1.8 kDa\" : lambda x : bool(100<x.molecular_weight()<1800),  #Currently disabled because the size range is too small to be useful\n",
    "    \"Bio-P 0.8-4.0 kDa\" : lambda x : bool(800<x.molecular_weight()<4000),\n",
    "    \"Bio-P 1.0-6.0 kDa\" : lambda x : bool(1000<x.molecular_weight()<6000),\n",
    "    \"Bio-P 1.5-20.0 kDa\" : lambda x : bool(1500<x.molecular_weight()<20000),\n",
    "    \"Bio-P 2.5-40.0 kDA\" : lambda x : bool(2500<x.molecular_weight()<40000),\n",
    "    \"Bio-P 3.0-60.0 kDa\" : lambda x : bool(3000<x.molecular_weight()<60000),\n",
    "    \"Bio-P 5.0-100 kDa\" : lambda x : bool(5000<x.molecular_weight()<100000),\n",
    "    \"S-X 0.4-14.0 kDa\" : lambda x : bool(400<x.molecular_weight()<14000),\n",
    "    #\"S-X <2.0 kDA\" : lambda x : bool(0<x.molecular_weight()<2000),         #Currently disabled because the size range is too small to be useful\n",
    "    #\"S-X <0.4 kDA\" : lambda x : bool(0<x.molecular_weight()<400),          #Currently disabled because the size range is too small to be useful\n",
    "    \"Bio-A 10.0 - 500 kDA\" : lambda x : bool(10000<x.molecular_weight()<500000),\n",
    "    \"Bio-A 10.0 - 1500 kDA\" : lambda x : bool(10000<x.molecular_weight()<1500000),\n",
    "}\n",
    "ionDict = {\n",
    "    \"Q Media (Triethylamine +)\" : lambda x : bool(x.charge_at_pH(pHslider.value)<=-0.01),\n",
    "    \"S Media (Sulfite -)\" : lambda x : bool(x.charge_at_pH(pHslider.value)>=0.01),\n",
    "}\n",
    "affinityDict ={}\n",
    "\n",
    "#This dictionary holds the previous ones for the method selection menu\n",
    "methodDict = {\n",
    "    'Size Exclusion' : sizeDict,\n",
    "    'Ion Exchange' : ionDict,\n",
    "    'Affinity Chromatography' : affinityDict,\n",
    "}\n",
    "sortColumn = {\n",
    "    'Size Exclusion' : 'Molecular Weight',\n",
    "    'Ion Exchange' : 'Charge at pH 7.0',\n",
    "    'Affinity Chromatography' : ''\n",
    "}\n",
    "\n",
    "\n",
    "previousInputs=os.listdir('data') #List to keep track of previous files for conveinience\n",
    "previousInputs.remove('.ipynb_checkpoints')\n",
    "style = {'description_width': 'initial'} #shorthands for widget appearances description width\n",
    "autoLayout = Layout(width='auto')"
   ]
  },
  {
   "cell_type": "code",
   "execution_count": 4,
   "id": "6da4616c-5ed7-4d9a-87dd-35b65f9cf264",
   "metadata": {
    "tags": []
   },
   "outputs": [
    {
     "data": {
      "application/vnd.jupyter.widget-view+json": {
       "model_id": "6be48ad22349497b83fc57440cfb776e",
       "version_major": 2,
       "version_minor": 0
      },
      "text/plain": [
       "TwoByTwoLayout(children=(Dropdown(description='Method:', layout=Layout(grid_area='top-left'), options=('Size E…"
      ]
     },
     "metadata": {},
     "output_type": "display_data"
    },
    {
     "data": {
      "application/vnd.jupyter.widget-view+json": {
       "model_id": "43d9461e14d6403ba9c62095e6e5c801",
       "version_major": 2,
       "version_minor": 0
      },
      "text/plain": [
       "Output()"
      ]
     },
     "execution_count": 4,
     "metadata": {},
     "output_type": "execute_result"
    }
   ],
   "source": [
    "def confirmMethod(_): #Swaps media selection to match method\n",
    "    mediaSelect.options = methodDict[methodSelect.value].keys()\n",
    "\n",
    "sortColumn['Ion Exchange'] = 'Charge at pH 7.0'\n",
    "methodSelect = widgets.Dropdown(options=methodDict.keys(),description='Method:')\n",
    "methodButton = widgets.Button(description='Confirm Method')\n",
    "methodButton.on_click(confirmMethod)\n",
    "mediaSelect = widgets.Dropdown(options=methodDict[methodSelect.value].keys(),description='Media')\n",
    "pHslider = widgets.FloatSlider(value=7.0,min=0,max=14,step=0.1,description='pH',style=style)\n",
    "selectDisplay = TwoByTwoLayout(top_left=methodSelect,top_right=methodButton,bottom_left=mediaSelect,bottom_right=pHslider,layout=Layout(width='50%'))\n",
    "display(selectDisplay)\n",
    "\n",
    "ionDictValue = widgets.Output()\n",
    "\n",
    "def foo(_): #Very temporary fix to a problem I found, will refine later\n",
    "    with ionDictValue:\n",
    "        sortColumn['Ion Exchange'] = 'Charge at pH {}'.format(pHslider.value)\n",
    "        \n",
    "pHslider.observe(foo)\n",
    "ionDictValue\n",
    "            "
   ]
  },
  {
   "cell_type": "code",
   "execution_count": 5,
   "id": "521d481f-acec-44d0-b45a-4921d80bb3cf",
   "metadata": {
    "tags": []
   },
   "outputs": [
    {
     "data": {
      "application/vnd.jupyter.widget-view+json": {
       "model_id": "f76b68529c014d398766fb4546e118a4",
       "version_major": 2,
       "version_minor": 0
      },
      "text/plain": [
       "VBox(children=(Box(children=(Combobox(value='Bacillus_subtilis.fasta', description='Unseparated data', options…"
      ]
     },
     "metadata": {},
     "output_type": "display_data"
    }
   ],
   "source": [
    "def confirmInput(_):\n",
    "    if inputFile.value in os.listdir('data'): #Check if the input is valid, show the error message otherwise\n",
    "        if inputFile.value not in previousInputs:\n",
    "            previousInputs.append(inputFile.value)\n",
    "        currentInput.value = inputFile.value\n",
    "        inputFile.options = previousInputs\n",
    "        errorText.value = ''\n",
    "    else:\n",
    "        errorText.value = 'Error: \\\"{}\\\" not found'.format(inputFile.value)\n",
    "\n",
    "boxLayout = Layout(width='30%')\n",
    "\n",
    "inputFile = widgets.Combobox(value=previousInputs[0],placeholder='Enter a file to be separated',options=previousInputs,description='Unseparated data',style = style)\n",
    "inputButton = widgets.Button(description='Confirm File')\n",
    "currentInput = widgets.HTML(value=inputFile.value,description='Current input:',style = style)\n",
    "errorText = widgets.HTML(value=None,description='\\t',style={'text_color':'#CC0000','font_size':'16px'})\n",
    "\n",
    "\n",
    "inputButton.on_click(confirmInput)\n",
    "\n",
    "\n",
    "\n",
    "\n",
    "inputTop = Box(children=[inputFile,inputButton],layout=boxLayout)\n",
    "inputBottom = Box(children=[currentInput,errorText],layout=boxLayout)\n",
    "inputDisplay=VBox([inputTop,inputBottom])\n",
    "\n",
    "display(inputDisplay)\n",
    "\n",
    "\n"
   ]
  },
  {
   "cell_type": "code",
   "execution_count": 6,
   "id": "50c78e2c-8984-4123-b5a6-d126e63b10e4",
   "metadata": {
    "tags": []
   },
   "outputs": [
    {
     "data": {
      "application/vnd.jupyter.widget-view+json": {
       "model_id": "352bbe90636d4530972b5c248a814851",
       "version_major": 2,
       "version_minor": 0
      },
      "text/plain": [
       "Output()"
      ]
     },
     "execution_count": 6,
     "metadata": {},
     "output_type": "execute_result"
    }
   ],
   "source": [
    "out = widgets.Output()\n",
    "\n",
    "def checkFolder(_):\n",
    "    if os.path.isdir(os.path.join('outputs',outputFile.value)):\n",
    "        with out:\n",
    "            header.description=f'\\\"{outputFile.value}\\\" already exists. Some files may be replaced. Continue?'\n",
    "            outputFile.disabled = outputButton.disabled = True\n",
    "            display(overwriteCheck)\n",
    "    else:\n",
    "        with out:\n",
    "            dataFolder = outputFile.value\n",
    "            os.mkdir(os.path.join('outputs',dataFolder))\n",
    "            outputFile.disabled = outputButton.disabled = True\n",
    "        \n",
    "\n",
    "def confirmOverwrite(_):\n",
    "    with out:\n",
    "        out.clear_output()\n",
    "        display(outputDisplay)\n",
    "    \n",
    "def denyOverwrite(_):\n",
    "    with out:\n",
    "        out.clear_output()\n",
    "        display(outputDisplay)\n",
    "        outputFile.value = ''\n",
    "        outputFile.disabled = outputButton.disabled = False\n",
    "\n",
    "#Generate the output name entry\n",
    "outputFile = widgets.Text(placeholder='Enter a label for the output folder.', style=style,disabled=False,value=currentInput.value.partition('.')[0])\n",
    "outputButton = widgets.Button(description='Confirm',disabled=False)\n",
    "outputDisplay = Box(children=[outputFile,outputButton])\n",
    "\n",
    "#Generate the overwrite prompt\n",
    "confirmButton = widgets.Button(description='Yes',layout=Layout(width='auto'))\n",
    "denyButton = widgets.Button(description='No',layout=Layout(width='auto'))\n",
    "header = widgets.HTML(description=f'\\\"{outputFile.value}\\\" already exists. Continue?',layout=Layout(justify_content='center',width='auto'),style=style)\n",
    "YesNo = Box(children=[confirmButton, denyButton],layout=Layout())\n",
    "overwriteCheck = VBox([header,YesNo],layout=Layout(justify_content='center',),)\n",
    "\n",
    "#Define button functionality\n",
    "outputButton.on_click(checkFolder)\n",
    "confirmButton.on_click(confirmOverwrite)\n",
    "denyButton.on_click(denyOverwrite)\n",
    "\n",
    "with out:\n",
    "    display(outputDisplay)\n",
    "\n",
    "out"
   ]
  },
  {
   "cell_type": "code",
   "execution_count": 8,
   "id": "a661df11-72d3-478e-98bf-d664678d26d5",
   "metadata": {
    "tags": []
   },
   "outputs": [],
   "source": [
    "#Bind user inputs to named variables for simplicity\n",
    "inFile = os.path.join('data',inputFile.value)\n",
    "outFolder = os.path.join('outputs',outputFile.value)\n",
    "method = methodDict[methodSelect.value][mediaSelect.value]\n",
    "\n",
    "#Create lists of SeqRecord objects that biopython can transform into .fasta files\n",
    "totals = []\n",
    "wash = []\n",
    "separated = []\n",
    "\n",
    "#Separate proteins by the parameter\n",
    "with open(inFile):\n",
    "    for record in SeqIO.parse(inFile,'fasta'):\n",
    "        totals.append(record)\n",
    "        sequence = str(record.seq)\n",
    "        \n",
    "        #X is a notation for any residue, biopython doesn't accept it though so for the protien analysis we substituted Glutamine since it's close to the average for the properties we care about.\n",
    "        protparams = PA(sequence.replace(\"X\",\"Q\"))\n",
    "        if method(protparams):\n",
    "            separated.append(record)\n",
    "        else:\n",
    "            wash.append(record)\n",
    "\n",
    "SeqIO.write(totals,os.path.join(outFolder,'{}_total'.format(outputFile.value)),'fasta')\n",
    "SeqIO.write(separated,os.path.join(outFolder,'{}_separated'.format(outputFile.value)),'fasta')\n",
    "SeqIO.write(wash,os.path.join(outFolder,'{}_wash'.format(outputFile.value)),'fasta')\n",
    "\n",
    "main_df = fasta_to_dataframe(os.path.join(outFolder,'{}_separated'.format(outputFile.value)),includeDefaults=True,pH=pHslider.value)\n",
    "main_df.index.name = 'Protein Index #'\n",
    "main_df.sort_values(by=sortColumn[methodSelect.value],inplace=True)\n",
    "fraction_dfs = fractionate(main_df,7)\n",
    "for n in range(len(fraction_dfs)):\n",
    "    records = []\n",
    "    for index in range(len(fraction_dfs[n])):\n",
    "        single_frac = fraction_dfs[n]\n",
    "        records.append(SeqRecord(seq = Seq(single_frac.iloc[index]['Sequence']),id=single_frac.iloc[index]['ID'],description=single_frac.iloc[index]['Description']))\n",
    "    SeqIO.write(records,os.path.join(outFolder,'{}_fraction_{}'.format(outputFile.value,n+1)),'fasta')\n",
    "                                     \n",
    "    "
   ]
  },
  {
   "cell_type": "code",
   "execution_count": 9,
   "id": "c280773b-33ae-4524-a716-e2fa867b51be",
   "metadata": {
    "tags": []
   },
   "outputs": [
    {
     "data": {
      "application/vnd.jupyter.widget-view+json": {
       "model_id": "0c698f3d8d844462809044f3f1a15a19",
       "version_major": 2,
       "version_minor": 0
      },
      "text/plain": [
       "Output()"
      ]
     },
     "execution_count": 9,
     "metadata": {},
     "output_type": "execute_result"
    }
   ],
   "source": [
    "outPages = widgets.Output()\n",
    "\n",
    "def refresh(_):\n",
    "    with outPages:\n",
    "        outPages.clear_output()\n",
    "        temp_df = main_df.sort_values(by=sortBy.value,ascending=bool(ascButton.icon == 'sort-amount-asc'))\n",
    "        display(dfMenu)\n",
    "        display(temp_df.iloc[(pageNum.value-1)*pageSize.value:pageNum.value*pageSize.value])\n",
    "        \n",
    "def pageUp(_):\n",
    "    with outPages:\n",
    "        if (pageNum.value < pageNum.max):\n",
    "            pageNum.value += 1\n",
    "        if pageNum.value == pageNum.max:\n",
    "            nextButton.disabled = True\n",
    "        else:\n",
    "            nextButton.disabled = False\n",
    "        prevButton.disabled = False\n",
    "        \n",
    "        outPages.clear_output()\n",
    "        temp_df = main_df.sort_values(by=sortBy.value,ascending=bool(ascButton.icon == 'sort-amount-asc'))\n",
    "        display(dfMenu)\n",
    "        display(temp_df.iloc[(pageNum.value-1)*pageSize.value:pageNum.value*pageSize.value])\n",
    "def pageDown(_):\n",
    "    with outPages:\n",
    "        if (pageNum.value > pageNum.min):\n",
    "            pageNum.value -= 1\n",
    "        if pageNum.value == pageNum.min:\n",
    "            prevButton.disabled = True\n",
    "        else:\n",
    "            prevButton.disabled = False\n",
    "        nextButton.disabled = False\n",
    "        \n",
    "        outPages.clear_output()\n",
    "        temp_df=main_df.sort_values(by=sortBy.value)\n",
    "        display(dfMenu)\n",
    "        display(temp_df.iloc[(pageNum.value-1)*pageSize.value:pageNum.value*pageSize.value])\n",
    "        \n",
    "def adjustMax(_):\n",
    "    with outPages:\n",
    "        pageNum.max = math.ceil(len(main_df)/pageSize.value)\n",
    "        pageNum.value = 1\n",
    "        \n",
    "        outPages.clear_output()\n",
    "        temp_df = main_df.sort_values(by=sortBy.value,ascending=bool(ascButton.icon == 'sort-amount-asc'))\n",
    "        display(dfMenu)\n",
    "        display(temp_df.iloc[(pageNum.value-1)*pageSize.value:pageNum.value*pageSize.value])\n",
    "        \n",
    "\n",
    "pageSize = widgets.BoundedIntText(value=25,min=5,max=100,step=5,description='Items per Page',style=style,layout=Layout(width='30%'))\n",
    "pageNum = widgets.BoundedIntText(value=1,min=1,max=math.ceil(len(main_df)/pageSize.value),description='Page:',style=style,layout=Layout(width='18%'))\n",
    "pageSize.observe(adjustMax)\n",
    "\n",
    "\n",
    "#define navigation buttons\n",
    "prevButton = widgets.Button(description='Prev',style=style,layout=Layout(width='10%'),disabled=True)\n",
    "prevButton.on_click(pageDown)\n",
    "nextButton = widgets.Button(description='Next',style=style,layout=Layout(width='10%'))\n",
    "nextButton.on_click(pageUp)\n",
    "\n",
    "#Define a list of categories it makes sense to sort, will automatically add any new columns to list\n",
    "sortCategories = [main_df.index.name]\n",
    "if len(sortCategories) <= 1:\n",
    "    for column in list(main_df.keys()):\n",
    "        sortCategories.append(column)\n",
    "for i in ['ID','Description','Sequence']: #Define column titles that can be ignored as sortable values\n",
    "    sortCategories.remove(i)\n",
    "    \n",
    "sortBy = widgets.Dropdown(options = sortCategories,description='Sort By:')\n",
    "def changeSortBy(_):\n",
    "    with outPages:\n",
    "        outPages.clear_output()\n",
    "        temp_df = main_df.sort_values(by=sortBy.value,ascending=bool(ascButton.icon == 'sort-amount-asc'))\n",
    "        display(dfMenu)\n",
    "        display(temp_df.iloc[(pageNum.value-1)*pageSize.value:pageNum.value*pageSize.value])\n",
    "\n",
    "sortBy.observe(changeSortBy)\n",
    "ascButton = widgets.Button(icon='sort-amount-asc',layout=Layout(max_width='35px'))\n",
    "def swapSort(_):\n",
    "    with outPages:\n",
    "        if ascButton.icon == 'sort-amount-asc':\n",
    "            ascButton.icon = 'sort-amount-desc'\n",
    "        else:\n",
    "            ascButton.icon = 'sort-amount-asc'\n",
    "        outPages.clear_output()\n",
    "        temp_df = main_df.sort_values(by=sortBy.value,ascending=bool(ascButton.icon == 'sort-amount-asc'))\n",
    "        display(dfMenu)\n",
    "        display(temp_df.iloc[(pageNum.value-1)*pageSize.value:pageNum.value*pageSize.value])\n",
    "\n",
    "    \n",
    "ascButton.on_click(swapSort)\n",
    "\n",
    "pageBox = Box(children=[prevButton,pageNum,nextButton,pageSize],layout=Layout(width='35%'))\n",
    "dfMenu = Box(children=[pageBox,sortBy,ascButton])\n",
    "\n",
    "temp_df = main_df.sort_values(by=sortBy.value,ascending=bool(ascButton.icon == 'sort-amount-asc'))\n",
    "with outPages:\n",
    "    display(dfMenu)\n",
    "    display(temp_df.iloc[(pageNum.value-1)*pageSize.value:pageNum.value*pageSize.value])\n",
    "    \n",
    "outPages"
   ]
  },
  {
   "cell_type": "code",
   "execution_count": null,
   "id": "700632fe-7fd8-4f1e-b449-0fc8fb2d9653",
   "metadata": {
    "tags": []
   },
   "outputs": [],
   "source": [
    "nextButton.disabled"
   ]
  },
  {
   "cell_type": "code",
   "execution_count": null,
   "id": "d42f66e6-79dd-4115-a717-27164f1cc2c1",
   "metadata": {
    "tags": []
   },
   "outputs": [],
   "source": [
    "sortCategories"
   ]
  },
  {
   "cell_type": "code",
   "execution_count": null,
   "id": "f76cd10c-f446-4089-b04d-5d816037251d",
   "metadata": {
    "tags": []
   },
   "outputs": [],
   "source": [
    "type(iteratePage)"
   ]
  },
  {
   "cell_type": "code",
   "execution_count": null,
   "id": "77888d8d-cc0f-40f5-984b-1abd4229d29f",
   "metadata": {
    "tags": []
   },
   "outputs": [],
   "source": [
    "with outPages:\n",
    "    outPages.clear_output()"
   ]
  },
  {
   "cell_type": "code",
   "execution_count": null,
   "id": "f17c96a7-7f3d-4fb6-b2ba-34a82a50809d",
   "metadata": {},
   "outputs": [],
   "source": [
    "sortBy"
   ]
  },
  {
   "cell_type": "code",
   "execution_count": null,
   "id": "928768bf-c441-4a47-852e-10f3750e1ea6",
   "metadata": {
    "tags": []
   },
   "outputs": [],
   "source": [
    "sortCategories = []\n",
    "\n",
    "main_df.sort_values(by='Molecular Weight')"
   ]
  },
  {
   "cell_type": "code",
   "execution_count": null,
   "id": "a52b2ea4-9ac2-4378-a9ee-69aadefa27cb",
   "metadata": {},
   "outputs": [],
   "source": [
    "print(sortColumn[methodSelect.value])\n",
    "main_df"
   ]
  },
  {
   "cell_type": "code",
   "execution_count": null,
   "id": "4af54bd3-2b17-4ef8-9e7d-1adf781bed40",
   "metadata": {
    "tags": []
   },
   "outputs": [],
   "source": [
    "fraction_dfs[6].sort_values(by='Molecular Weight')"
   ]
  },
  {
   "cell_type": "code",
   "execution_count": null,
   "id": "6379c95c-275b-4cb0-b0e0-0126f29aee76",
   "metadata": {
    "tags": []
   },
   "outputs": [],
   "source": [
    "a = widgets.IntSlider(description='a')\n",
    "b = widgets.IntSlider(description='b')\n",
    "c = widgets.IntSlider(description='c')\n",
    "def f(a, b, c):\n",
    "    print('{}*{}*{}={}'.format(a, b, c, a*b*c))\n",
    "\n",
    "out = widgets.interactive_output(f, {'a': a, 'b': b, 'c': c})\n",
    "\n",
    "widgets.HBox([widgets.VBox([a, b, c]), out])"
   ]
  },
  {
   "cell_type": "code",
   "execution_count": 10,
   "id": "db7f10c6-41c8-4789-8b16-55bbf7a0ad3c",
   "metadata": {},
   "outputs": [
    {
     "data": {
      "text/plain": [
       "pandas.core.frame.DataFrame"
      ]
     },
     "execution_count": 10,
     "metadata": {},
     "output_type": "execute_result"
    }
   ],
   "source": [
    "type(main_df)"
   ]
  },
  {
   "cell_type": "code",
   "execution_count": null,
   "id": "1c74225b-6982-41ac-a707-3a9d53a7f68d",
   "metadata": {},
   "outputs": [],
   "source": []
  }
 ],
 "metadata": {
  "kernelspec": {
   "display_name": "Python 3",
   "language": "python",
   "name": "python3"
  },
  "language_info": {
   "codemirror_mode": {
    "name": "ipython",
    "version": 3
   },
   "file_extension": ".py",
   "mimetype": "text/x-python",
   "name": "python",
   "nbconvert_exporter": "python",
   "pygments_lexer": "ipython3",
   "version": "3.9.4"
  }
 },
 "nbformat": 4,
 "nbformat_minor": 5
}
