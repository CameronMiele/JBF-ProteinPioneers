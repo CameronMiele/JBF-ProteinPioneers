{
 "cells": [
  {
   "cell_type": "code",
   "execution_count": 1,
   "id": "d7700f9c-b9df-41a4-9b71-0a6bc7911a84",
   "metadata": {
    "tags": []
   },
   "outputs": [],
   "source": [
    "from Bio import SeqIO\n",
    "from Bio.SeqUtils.ProtParam import ProteinAnalysis as PA\n",
    "from Bio.Seq import Seq\n",
    "from Bio.SeqRecord import SeqRecord\n",
    "import os\n",
    "import pandas as pd\n",
    "import ipywidgets as widgets\n",
    "from ipywidgets import *\n",
    "import time\n",
    "import stat"
   ]
  },
  {
   "cell_type": "code",
   "execution_count": 2,
   "id": "4909093f-be8c-4df9-98eb-dc55f044e127",
   "metadata": {
    "tags": []
   },
   "outputs": [],
   "source": [
    "#These dictionaries are used to link dropdown options to a boolean function that determines whether or not the sequence is separated properly by the media\n",
    "sizeDict = {\n",
    "    \"Bio-P 0.1-1.8 kDa\" : lambda x : bool(100<x.molecular_weight()<1800),\n",
    "    \"Bio-P 0.8-4.0 kDa\" : lambda x : bool(800<x.molecular_weight()<4000),\n",
    "    \"Bio-P 1.0-6.0 kDa\" : lambda x : bool(1000<x.molecular_weight()<6000),\n",
    "    \"Bio-P 1.5-20.0 kDa\" : lambda x : bool(1500<x.molecular_weight()<20000),\n",
    "    \"Bio-P 2.5-40.0 kDA\" : lambda x : bool(2500<x.molecular_weight()<40000),\n",
    "    \"Bio-P 3.0-60.0 kDa\" : lambda x : bool(3000<x.molecular_weight()<60000),\n",
    "    \"Bio-P 5.0-100 kDa\" : lambda x : bool(5000<x.molecular_weight()<100000),\n",
    "    \"S-X 0.4-14.0 kDa\" : lambda x : bool(400<x.molecular_weight()<14000),\n",
    "    \"S-X <2.0 kDA\" : lambda x : bool(0<x.molecular_weight()<2000),\n",
    "    \"S-X <0.4 kDA\" : lambda x : bool(0<x.molecular_weight()<400),\n",
    "    \"Bio-A 10.0 - 500 kDA\" : lambda x : bool(10000<x.molecular_weight()<500000),\n",
    "    \"Bio-A 10.0 - 1500 kDA\" : lambda x : bool(10000<x.molecular_weight()<1500000),\n",
    "}\n",
    "ionDict = {\n",
    "    \"Q Media (Triethylamine +)\" : lambda x : bool(x.charge_at_pH(pHslider.value)<=-0.01),\n",
    "    \"S Media (Sulfite -)\" : lambda x : bool(x.charge_at_pH(pHslider.value)>=0.01),\n",
    "}\n",
    "affinityDict ={}\n",
    "\n",
    "#This dictionary holds the previous ones for the method selection menu\n",
    "methodDict = {\n",
    "    'Size Exclusion' : sizeDict,\n",
    "    'Ion Exchange' : ionDict,\n",
    "    'Affinity Chromatography' : affinityDict,\n",
    "}\n",
    "\n",
    "\n",
    "\n",
    "previousInputs=os.listdir('data') #List to keep track of previous files for conveinience\n",
    "previousInputs.remove('.ipynb_checkpoints')\n",
    "style = {'description_width': 'initial'} #shorthands for widget appearances description width\n",
    "autoLayout = Layout(width='auto')"
   ]
  },
  {
   "cell_type": "code",
   "execution_count": 3,
   "id": "6da4616c-5ed7-4d9a-87dd-35b65f9cf264",
   "metadata": {
    "tags": []
   },
   "outputs": [
    {
     "data": {
      "application/vnd.jupyter.widget-view+json": {
       "model_id": "171426a42a834d3b8c8fa9b19275d706",
       "version_major": 2,
       "version_minor": 0
      },
      "text/plain": [
       "TwoByTwoLayout(children=(Dropdown(description='Method:', layout=Layout(grid_area='top-left'), options=('Size E…"
      ]
     },
     "metadata": {},
     "output_type": "display_data"
    }
   ],
   "source": [
    "def confirmMethod(_): #Swaps media selection to match method\n",
    "    mediaSelect.options = methodDict[methodSelect.value].keys()\n",
    "\n",
    "methodSelect = widgets.Dropdown(options=methodDict.keys(),description='Method:')\n",
    "methodButton = widgets.Button(description='Confirm Method')\n",
    "methodButton.on_click(confirmMethod)\n",
    "mediaSelect = widgets.Dropdown(options=methodDict[methodSelect.value].keys(),description='Media')\n",
    "pHslider = widgets.FloatSlider(value=7.0,min=0,max=14,step=0.1,description='pH',style=style)\n",
    "selectDisplay = TwoByTwoLayout(top_left=methodSelect,top_right=methodButton,bottom_left=mediaSelect,bottom_right=pHslider,layout=Layout(width='50%'))\n",
    "display(selectDisplay)"
   ]
  },
  {
   "cell_type": "code",
   "execution_count": 4,
   "id": "521d481f-acec-44d0-b45a-4921d80bb3cf",
   "metadata": {
    "tags": []
   },
   "outputs": [
    {
     "data": {
      "application/vnd.jupyter.widget-view+json": {
       "model_id": "c2776d3b480442fdad3566a50debccbe",
       "version_major": 2,
       "version_minor": 0
      },
      "text/plain": [
       "VBox(children=(Box(children=(Combobox(value='', description='Unseparated data', options=('E_coli.faa', 'Yersin…"
      ]
     },
     "metadata": {},
     "output_type": "display_data"
    }
   ],
   "source": [
    "def confirmInput(_):\n",
    "    if inputFile.value in os.listdir('data'):\n",
    "        if inputFile.value not in previousInputs:\n",
    "            previousInputs.append(inputFile.value)\n",
    "        currentInput.value = inputFile.value\n",
    "        inputFile.options = previousInputs\n",
    "        errorText.value = ''\n",
    "    else:\n",
    "        errorText.value = f'Error: \\\"{inputFile.value}\\\" not found'\n",
    "\n",
    "boxLayout = Layout(width='30%')\n",
    "\n",
    "inputFile = widgets.Combobox(value='',placeholder='Enter a file to be separated',options=previousInputs,description='Unseparated data',style = style)\n",
    "inputButton = widgets.Button(description='Confirm File')\n",
    "currentInput = widgets.HTML(value='No file selected',description='Current input:',style = style)\n",
    "errorText = widgets.HTML(value=None,description='\\t',style={'text_color':'#CC0000','font_size':'16px'})\n",
    "\n",
    "#These two do the same thing, but adds redundancy so the user can hit Enter or click the button.\n",
    "inputButton.on_click(confirmInput)\n",
    "#inputFile.on_submit(confirmInput)\n",
    "\n",
    "\n",
    "#inputDisplay = TwoByTwoLayout(top_left=inputFile,top_right=inputButton,bottom_left=currentInput,layout=Layout(width='50%'))\n",
    "inputTop = Box(children=[inputFile,inputButton],layout=boxLayout)\n",
    "inputBottom = Box(children=[currentInput,errorText],layout=boxLayout)\n",
    "inputDisplay=VBox([inputTop,inputBottom])\n",
    "#errorText = widgets.Text(value=None, disabled=True, style={'background':'white','text_color':'#CC0000','font_size':'20px'},layout=autoLayout)\n",
    "\n",
    "display(inputDisplay)\n",
    "\n",
    "\n"
   ]
  },
  {
   "cell_type": "code",
   "execution_count": 5,
   "id": "50c78e2c-8984-4123-b5a6-d126e63b10e4",
   "metadata": {
    "tags": []
   },
   "outputs": [
    {
     "data": {
      "application/vnd.jupyter.widget-view+json": {
       "model_id": "dd9f4e21aec747d3a2047d82d8256182",
       "version_major": 2,
       "version_minor": 0
      },
      "text/plain": [
       "Output()"
      ]
     },
     "execution_count": 5,
     "metadata": {},
     "output_type": "execute_result"
    }
   ],
   "source": [
    "out = widgets.Output()\n",
    "\n",
    "def checkFolder(_):\n",
    "    if os.path.isdir(os.path.join('outputs',outputFile.value)):\n",
    "        with out:\n",
    "            header.description=f'\\\"{outputFile.value}\\\" already exists. Some files may be replaced. Continue?'\n",
    "            outputFile.disabled = outputButton.disabled = True\n",
    "            display(overwriteCheck)\n",
    "    else:\n",
    "        with out:\n",
    "            dataFolder = outputFile.value\n",
    "            os.mkdir(os.path.join('outputs',dataFolder))\n",
    "            outputFile.disabled = outputButton.disabled = True\n",
    "        \n",
    "\n",
    "def confirmOverwrite(_):\n",
    "    with out:\n",
    "        out.clear_output()\n",
    "        display(outputDisplay)\n",
    "    \n",
    "def denyOverwrite(_):\n",
    "    with out:\n",
    "        out.clear_output()\n",
    "        display(outputDisplay)\n",
    "        outputFile.value = ''\n",
    "        outputFile.disabled = outputButton.disabled = False\n",
    "\n",
    "#Generate the output name entry\n",
    "outputFile = widgets.Text(placeholder='Enter a label for the output folder.', style=style,disabled=False)\n",
    "outputButton = widgets.Button(description='Confirm',disabled=False)\n",
    "outputDisplay = Box(children=[outputFile,outputButton])\n",
    "\n",
    "#Generate the overwrite prompt\n",
    "confirmButton = widgets.Button(description='Yes',layout=Layout(width='auto'))\n",
    "denyButton = widgets.Button(description='No',layout=Layout(width='auto'))\n",
    "header = widgets.HTML(description=f'\\\"{outputFile.value}\\\" already exists. Continue?',layout=Layout(justify_content='center',width='auto'),style=style)\n",
    "YesNo = Box(children=[confirmButton, denyButton],layout=Layout())\n",
    "overwriteCheck = VBox([header,YesNo],layout=Layout(justify_content='center',),)\n",
    "\n",
    "#Define button functionality\n",
    "outputButton.on_click(checkFolder)\n",
    "confirmButton.on_click(confirmOverwrite)\n",
    "denyButton.on_click(denyOverwrite)\n",
    "\n",
    "with out:\n",
    "    display(outputDisplay)\n",
    "\n",
    "out"
   ]
  },
  {
   "cell_type": "code",
   "execution_count": 6,
   "id": "a661df11-72d3-478e-98bf-d664678d26d5",
   "metadata": {
    "tags": []
   },
   "outputs": [
    {
     "ename": "FileNotFoundError",
     "evalue": "[Errno 2] No such file or directory: 'data\\\\'",
     "output_type": "error",
     "traceback": [
      "\u001b[1;31m---------------------------------------------------------------------------\u001b[0m",
      "\u001b[1;31mFileNotFoundError\u001b[0m                         Traceback (most recent call last)",
      "Cell \u001b[1;32mIn[6], line 13\u001b[0m\n\u001b[0;32m      2\u001b[0m method \u001b[38;5;241m=\u001b[39m methodDict[methodSelect\u001b[38;5;241m.\u001b[39mvalue][mediaSelect\u001b[38;5;241m.\u001b[39mvalue]\n\u001b[0;32m      4\u001b[0m dataDict \u001b[38;5;241m=\u001b[39m {\n\u001b[0;32m      5\u001b[0m     \u001b[38;5;124m'\u001b[39m\u001b[38;5;124msequence\u001b[39m\u001b[38;5;124m'\u001b[39m : [],\n\u001b[0;32m      6\u001b[0m     \u001b[38;5;124m'\u001b[39m\u001b[38;5;124mMW\u001b[39m\u001b[38;5;124m'\u001b[39m : [],\n\u001b[1;32m   (...)\u001b[0m\n\u001b[0;32m     10\u001b[0m     \n\u001b[0;32m     11\u001b[0m }\n\u001b[1;32m---> 13\u001b[0m \u001b[38;5;28;01mwith\u001b[39;00m \u001b[38;5;28;43mopen\u001b[39;49m\u001b[43m(\u001b[49m\u001b[43mdataFile\u001b[49m\u001b[43m)\u001b[49m \u001b[38;5;28;01mas\u001b[39;00m protfile:\n\u001b[0;32m     14\u001b[0m     \u001b[38;5;28;01mfor\u001b[39;00m record \u001b[38;5;129;01min\u001b[39;00m SeqIO\u001b[38;5;241m.\u001b[39mparse(protfile,\u001b[38;5;124m\"\u001b[39m\u001b[38;5;124mfasta\u001b[39m\u001b[38;5;124m\"\u001b[39m):\n\u001b[0;32m     15\u001b[0m         sequence \u001b[38;5;241m=\u001b[39m \u001b[38;5;28mstr\u001b[39m(record\u001b[38;5;241m.\u001b[39mseq)\n",
      "File \u001b[1;32m~\\anaconda3\\envs\\jbf-env-v2\\lib\\site-packages\\IPython\\core\\interactiveshell.py:284\u001b[0m, in \u001b[0;36m_modified_open\u001b[1;34m(file, *args, **kwargs)\u001b[0m\n\u001b[0;32m    277\u001b[0m \u001b[38;5;28;01mif\u001b[39;00m file \u001b[38;5;129;01min\u001b[39;00m {\u001b[38;5;241m0\u001b[39m, \u001b[38;5;241m1\u001b[39m, \u001b[38;5;241m2\u001b[39m}:\n\u001b[0;32m    278\u001b[0m     \u001b[38;5;28;01mraise\u001b[39;00m \u001b[38;5;167;01mValueError\u001b[39;00m(\n\u001b[0;32m    279\u001b[0m         \u001b[38;5;124mf\u001b[39m\u001b[38;5;124m\"\u001b[39m\u001b[38;5;124mIPython won\u001b[39m\u001b[38;5;124m'\u001b[39m\u001b[38;5;124mt let you open fd=\u001b[39m\u001b[38;5;132;01m{\u001b[39;00mfile\u001b[38;5;132;01m}\u001b[39;00m\u001b[38;5;124m by default \u001b[39m\u001b[38;5;124m\"\u001b[39m\n\u001b[0;32m    280\u001b[0m         \u001b[38;5;124m\"\u001b[39m\u001b[38;5;124mas it is likely to crash IPython. If you know what you are doing, \u001b[39m\u001b[38;5;124m\"\u001b[39m\n\u001b[0;32m    281\u001b[0m         \u001b[38;5;124m\"\u001b[39m\u001b[38;5;124myou can use builtins\u001b[39m\u001b[38;5;124m'\u001b[39m\u001b[38;5;124m open.\u001b[39m\u001b[38;5;124m\"\u001b[39m\n\u001b[0;32m    282\u001b[0m     )\n\u001b[1;32m--> 284\u001b[0m \u001b[38;5;28;01mreturn\u001b[39;00m io_open(file, \u001b[38;5;241m*\u001b[39margs, \u001b[38;5;241m*\u001b[39m\u001b[38;5;241m*\u001b[39mkwargs)\n",
      "\u001b[1;31mFileNotFoundError\u001b[0m: [Errno 2] No such file or directory: 'data\\\\'"
     ]
    }
   ],
   "source": [
    "dataFile = os.path.join('data',inputFile.value)\n",
    "method = methodDict[methodSelect.value][mediaSelect.value]\n",
    "\n",
    "dataDict = {\n",
    "    'sequence' : [],\n",
    "    'MW' : [],\n",
    "    f'charge at ph {pHslider.value}' : [],\n",
    "    'description' : [],\n",
    "    'ID' : [],\n",
    "    \n",
    "}\n",
    "\n",
    "with open(dataFile) as protfile:\n",
    "    for record in SeqIO.parse(protfile,\"fasta\"):\n",
    "        sequence = str(record.seq)\n",
    "        protparams = PA(sequence.replace(\"X\",\"Q\"))\n",
    "        if method(protparams):\n",
    "            dataDict['sequence'].append(sequence)\n",
    "            dataDict['MW'].append(protparams.molecular_weight())\n",
    "            dataDict[f'charge at ph {pHslider.value}'].append(round(protparams.charge_at_pH(pHslider.value),2))\n",
    "            dataDict['description'].append(record.description)\n",
    "            dataDict['ID'].append(record.id)\n",
    "\n",
    "\n",
    "df = pd.DataFrame.from_dict(dataDict)\n",
    "\n",
    "df.sort_values(by=[f'charge at ph {pHslider.value}'], inplace=True, ascending=False)\n",
    "df.reset_index(drop=True, inplace=True)\n",
    "df"
   ]
  },
  {
   "cell_type": "code",
   "execution_count": null,
   "id": "216d714c-7c8b-49bb-925c-b05ac5748dbe",
   "metadata": {},
   "outputs": [],
   "source": []
  }
 ],
 "metadata": {
  "kernelspec": {
   "display_name": "Python 3 (ipykernel)",
   "language": "python",
   "name": "python3"
  },
  "language_info": {
   "codemirror_mode": {
    "name": "ipython",
    "version": 3
   },
   "file_extension": ".py",
   "mimetype": "text/x-python",
   "name": "python",
   "nbconvert_exporter": "python",
   "pygments_lexer": "ipython3",
   "version": "3.10.12"
  }
 },
 "nbformat": 4,
 "nbformat_minor": 5
}
