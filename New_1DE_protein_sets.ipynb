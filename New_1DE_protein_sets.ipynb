{
 "cells": [
  {
   "cell_type": "markdown",
   "id": "f970a1da-fd58-4f6e-b38a-b172c40fb81a",
   "metadata": {},
   "source": [
    "# Creating new 1DE protein sets\n",
    "The purpose of this notebook is to create new protein sets for separation on the 1DE simulation. Code will be created that analyzes proteins for molecular weight, isoelectric point and hydrophobicity for subsequent simulated separations by gel filtration, ion exchange and hydrophobic interaction chromatography."
   ]
  },
  {
   "cell_type": "code",
   "execution_count": 3,
   "id": "67175e2f-727b-4323-a1b4-6a5356ce558b",
   "metadata": {},
   "outputs": [],
   "source": [
    "# Import required libraries\n",
    "import Bio"
   ]
  },
  {
   "cell_type": "code",
   "execution_count": null,
   "id": "19ca30df-21cf-45aa-a46f-6c6b6269bbcc",
   "metadata": {},
   "outputs": [],
   "source": []
  }
 ],
 "metadata": {
  "kernelspec": {
   "display_name": "Python 3",
   "language": "python",
   "name": "python3"
  },
  "language_info": {
   "codemirror_mode": {
    "name": "ipython",
    "version": 3
   },
   "file_extension": ".py",
   "mimetype": "text/x-python",
   "name": "python",
   "nbconvert_exporter": "python",
   "pygments_lexer": "ipython3",
   "version": "3.8.8"
  }
 },
 "nbformat": 4,
 "nbformat_minor": 5
}
