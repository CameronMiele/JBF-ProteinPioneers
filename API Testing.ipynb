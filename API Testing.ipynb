{
 "cells": [
  {
   "cell_type": "code",
   "execution_count": 2,
   "id": "10ebbfec",
   "metadata": {},
   "outputs": [],
   "source": [
    "from Bio import SeqIO\n",
    "from Bio.SeqUtils.IsoelectricPoint import IsoelectricPoint as IP\n",
    "from Bio.SeqUtils.ProtParam import ProteinAnalysis as PA\n",
    "from Bio.Seq import Seq\n",
    "from Bio.SeqRecord import SeqRecord\n",
    "from Bio.PDB import PDBList\n",
    "import os\n",
    "from collections import defaultdict\n",
    "import pandas as pd\n",
    "import ipywidgets as widgets\n",
    "from ipywidgets import *\n",
    "import requests\n",
    "import json\n",
    "import time\n",
    "import random\n",
    "import re\n",
    "true = True\n",
    "false = False"
   ]
  },
  {
   "cell_type": "code",
   "execution_count": 2,
   "id": "a4529f28",
   "metadata": {},
   "outputs": [
    {
     "data": {
      "text/plain": [
       "200"
      ]
     },
     "execution_count": 2,
     "metadata": {},
     "output_type": "execute_result"
    }
   ],
   "source": [
    "data = requests.get(\"https://data.rcsb.org/rest/v1/core/entry/4HHB\")\n",
    "data.status_code"
   ]
  },
  {
   "cell_type": "code",
   "execution_count": 3,
   "id": "ac656276",
   "metadata": {
    "tags": []
   },
   "outputs": [],
   "source": [
    "my_query = {\n",
    "  \"query\": {\n",
    "    \"type\": \"terminal\",\n",
    "    \"service\": \"sequence\",\n",
    "    \"parameters\": {\n",
    "      \"evalue_cutoff\": 1,\n",
    "      \"identity_cutoff\": 0.9,\n",
    "      \"sequence_type\": \"protein\",\n",
    "      \"value\": \"MTEYKLVVVGAGGVGKSALTIQLIQNHFVDEYDPTIEDSYRKQVVIDGETCLLDILDTAGQEEYSAMRDQYMRTGEGFLCVFAINNTKSFEDIHQYREQIKRVKDSDDVPMVLVGNKCDLPARTVETRQAQDLARSYGIPYIETSAKTRQGVEDAFYTLVREIRQHKLRKLNPPDESGPGCMNCKCVIS\"\n",
    "    }\n",
    "  },\n",
    "  \"request_options\": {\n",
    "    \"scoring_strategy\": \"sequence\"\n",
    "  },\n",
    "  \"return_type\": \"entry\"\n",
    "}\n",
    "\n",
    "my_query = json.dumps(my_query)\n",
    "data = requests.get(f\"https://search.rcsb.org/rcsbsearch/v2/query?json={my_query}\")\n",
    "if data.status_code == 200:\n",
    "    results = data.json()\n",
    "    df = pd.DataFrame.from_dict(results)\n",
    "    df"
   ]
  },
  {
   "cell_type": "code",
   "execution_count": 4,
   "id": "7d216eba",
   "metadata": {
    "tags": []
   },
   "outputs": [
    {
     "data": {
      "application/vnd.jupyter.widget-view+json": {
       "model_id": "9199f2a1d0c5464ab271eb1f6c9edb20",
       "version_major": 2,
       "version_minor": 0
      },
      "text/plain": [
       "IntProgress(value=0, bar_style='info', description='0%', max=2407)"
      ]
     },
     "metadata": {},
     "output_type": "display_data"
    }
   ],
   "source": [
    "seqList = []\n",
    "with open('data/aechaeoglobus_fulgidus.faa') as protfile: #Generates a list of each protein sequence\n",
    "  for record in SeqIO.parse(protfile,\"fasta\"):\n",
    "    sequence = str(record.seq)\n",
    "    seqList.append(sequence)\n",
    "\n",
    "dfdict = {\n",
    "    'sequence' : [],\n",
    "    'length' : [],\n",
    "    'IEP' : [],\n",
    "    'MW' : [],\n",
    "    'charge at pH 7' : [],\n",
    "}\n",
    "\n",
    "loadBar = widgets.IntProgress(min=0, max=len(seqList), description='0%', bar_style='info', orientation='horizontal') #Displays loading bar for convenience\n",
    "display(loadBar)\n",
    "\n",
    "for sequence in seqList[:1]: #Checks each protein of RCSB API for sequence matches\n",
    "    my_query = {\n",
    "      \"query\": {\n",
    "        \"type\": \"terminal\",\n",
    "        \"service\": \"sequence\",\n",
    "        \"parameters\": {\n",
    "          \"evalue_cutoff\": 1,\n",
    "          \"identity_cutoff\": 0.9,\n",
    "          \"sequence_type\": \"protein\",\n",
    "          \"value\": sequence\n",
    "        }\n",
    "      },\n",
    "      \"request_options\": {\n",
    "        \"scoring_strategy\": \"sequence\"\n",
    "      },\n",
    "      \"return_type\": \"entry\"\n",
    "    }\n",
    "    my_query = json.dumps(my_query)\n",
    "    APIdata = requests.get(f\"https://search.rcsb.org/rcsbsearch/v2/query?json={my_query}\")\n",
    "    if APIdata.status_code == 200: #Adds each protein with sequence matches to a dataframe\n",
    "        length = len(sequence)\n",
    "        dfdict['sequence'].append(sequence)\n",
    "        dfdict['length'].append(length)\n",
    "        protparams = PA(sequence)\n",
    "        dfdict['IEP'].append(protparams.isoelectric_point())\n",
    "        dfdict['MW'].append(protparams.molecular_weight())\n",
    "        dfdict['charge at pH 7'].append(protparams.charge_at_pH(7))\n",
    "  \n",
    "    #Iterates loading bar\n",
    "    loadBar.value += 1\n",
    "    loadBar.description = f'Done:{100*loadBar.value/len(seqList):0.2f}%'\n",
    "\n",
    "loadBar.description = f'Search Complete'\n",
    "df = pd.DataFrame.from_dict(dfdict)"
   ]
  },
  {
   "cell_type": "code",
   "execution_count": 5,
   "id": "1fdaca0d",
   "metadata": {},
   "outputs": [
    {
     "data": {
      "text/html": [
       "<div>\n",
       "<style scoped>\n",
       "    .dataframe tbody tr th:only-of-type {\n",
       "        vertical-align: middle;\n",
       "    }\n",
       "\n",
       "    .dataframe tbody tr th {\n",
       "        vertical-align: top;\n",
       "    }\n",
       "\n",
       "    .dataframe thead th {\n",
       "        text-align: right;\n",
       "    }\n",
       "</style>\n",
       "<table border=\"1\" class=\"dataframe\">\n",
       "  <thead>\n",
       "    <tr style=\"text-align: right;\">\n",
       "      <th></th>\n",
       "      <th>sequence</th>\n",
       "      <th>length</th>\n",
       "      <th>IEP</th>\n",
       "      <th>MW</th>\n",
       "      <th>charge at pH 7</th>\n",
       "    </tr>\n",
       "  </thead>\n",
       "  <tbody>\n",
       "  </tbody>\n",
       "</table>\n",
       "</div>"
      ],
      "text/plain": [
       "Empty DataFrame\n",
       "Columns: [sequence, length, IEP, MW, charge at pH 7]\n",
       "Index: []"
      ]
     },
     "execution_count": 5,
     "metadata": {},
     "output_type": "execute_result"
    }
   ],
   "source": [
    "df2 = df.copy()\n",
    "df2['IEP'] = df2['IEP'].map(lambda x: f\"{x:.02f}\")\n",
    "df2['charge at pH 7'] = df2['charge at pH 7'].map(lambda x: f\"{x:.02f}\")\n",
    "df2['MW'] = df2['MW'].map(lambda x: f\"{x:.0f}\")\n",
    "df2"
   ]
  },
  {
   "cell_type": "code",
   "execution_count": 6,
   "id": "ccf13b21",
   "metadata": {},
   "outputs": [
    {
     "ename": "IndexError",
     "evalue": "single positional indexer is out-of-bounds",
     "output_type": "error",
     "traceback": [
      "\u001b[1;31m---------------------------------------------------------------------------\u001b[0m",
      "\u001b[1;31mIndexError\u001b[0m                                Traceback (most recent call last)",
      "\u001b[1;32m<ipython-input-6-7173838eec41>\u001b[0m in \u001b[0;36m<module>\u001b[1;34m\u001b[0m\n\u001b[0;32m      7\u001b[0m       \u001b[1;34m\"identity_cutoff\"\u001b[0m\u001b[1;33m:\u001b[0m \u001b[1;36m0.9\u001b[0m\u001b[1;33m,\u001b[0m\u001b[1;33m\u001b[0m\u001b[1;33m\u001b[0m\u001b[0m\n\u001b[0;32m      8\u001b[0m       \u001b[1;34m\"sequence_type\"\u001b[0m\u001b[1;33m:\u001b[0m \u001b[1;34m\"protein\"\u001b[0m\u001b[1;33m,\u001b[0m\u001b[1;33m\u001b[0m\u001b[1;33m\u001b[0m\u001b[0m\n\u001b[1;32m----> 9\u001b[1;33m       \u001b[1;34m\"value\"\u001b[0m\u001b[1;33m:\u001b[0m \u001b[0mdf\u001b[0m\u001b[1;33m.\u001b[0m\u001b[0miloc\u001b[0m\u001b[1;33m[\u001b[0m\u001b[0mrandom\u001b[0m\u001b[1;33m.\u001b[0m\u001b[0mrandint\u001b[0m\u001b[1;33m(\u001b[0m\u001b[1;36m0\u001b[0m\u001b[1;33m,\u001b[0m\u001b[1;36m212\u001b[0m\u001b[1;33m)\u001b[0m\u001b[1;33m]\u001b[0m\u001b[1;33m[\u001b[0m\u001b[1;34m\"sequence\"\u001b[0m\u001b[1;33m]\u001b[0m\u001b[1;33m\u001b[0m\u001b[1;33m\u001b[0m\u001b[0m\n\u001b[0m\u001b[0;32m     10\u001b[0m     }\n\u001b[0;32m     11\u001b[0m   },\n",
      "\u001b[1;32mC:\\ProgramData\\Anaconda3\\lib\\site-packages\\pandas\\core\\indexing.py\u001b[0m in \u001b[0;36m__getitem__\u001b[1;34m(self, key)\u001b[0m\n\u001b[0;32m    893\u001b[0m \u001b[1;33m\u001b[0m\u001b[0m\n\u001b[0;32m    894\u001b[0m             \u001b[0mmaybe_callable\u001b[0m \u001b[1;33m=\u001b[0m \u001b[0mcom\u001b[0m\u001b[1;33m.\u001b[0m\u001b[0mapply_if_callable\u001b[0m\u001b[1;33m(\u001b[0m\u001b[0mkey\u001b[0m\u001b[1;33m,\u001b[0m \u001b[0mself\u001b[0m\u001b[1;33m.\u001b[0m\u001b[0mobj\u001b[0m\u001b[1;33m)\u001b[0m\u001b[1;33m\u001b[0m\u001b[1;33m\u001b[0m\u001b[0m\n\u001b[1;32m--> 895\u001b[1;33m             \u001b[1;32mreturn\u001b[0m \u001b[0mself\u001b[0m\u001b[1;33m.\u001b[0m\u001b[0m_getitem_axis\u001b[0m\u001b[1;33m(\u001b[0m\u001b[0mmaybe_callable\u001b[0m\u001b[1;33m,\u001b[0m \u001b[0maxis\u001b[0m\u001b[1;33m=\u001b[0m\u001b[0maxis\u001b[0m\u001b[1;33m)\u001b[0m\u001b[1;33m\u001b[0m\u001b[1;33m\u001b[0m\u001b[0m\n\u001b[0m\u001b[0;32m    896\u001b[0m \u001b[1;33m\u001b[0m\u001b[0m\n\u001b[0;32m    897\u001b[0m     \u001b[1;32mdef\u001b[0m \u001b[0m_is_scalar_access\u001b[0m\u001b[1;33m(\u001b[0m\u001b[0mself\u001b[0m\u001b[1;33m,\u001b[0m \u001b[0mkey\u001b[0m\u001b[1;33m:\u001b[0m \u001b[0mTuple\u001b[0m\u001b[1;33m)\u001b[0m\u001b[1;33m:\u001b[0m\u001b[1;33m\u001b[0m\u001b[1;33m\u001b[0m\u001b[0m\n",
      "\u001b[1;32mC:\\ProgramData\\Anaconda3\\lib\\site-packages\\pandas\\core\\indexing.py\u001b[0m in \u001b[0;36m_getitem_axis\u001b[1;34m(self, key, axis)\u001b[0m\n\u001b[0;32m   1499\u001b[0m \u001b[1;33m\u001b[0m\u001b[0m\n\u001b[0;32m   1500\u001b[0m             \u001b[1;31m# validate the location\u001b[0m\u001b[1;33m\u001b[0m\u001b[1;33m\u001b[0m\u001b[1;33m\u001b[0m\u001b[0m\n\u001b[1;32m-> 1501\u001b[1;33m             \u001b[0mself\u001b[0m\u001b[1;33m.\u001b[0m\u001b[0m_validate_integer\u001b[0m\u001b[1;33m(\u001b[0m\u001b[0mkey\u001b[0m\u001b[1;33m,\u001b[0m \u001b[0maxis\u001b[0m\u001b[1;33m)\u001b[0m\u001b[1;33m\u001b[0m\u001b[1;33m\u001b[0m\u001b[0m\n\u001b[0m\u001b[0;32m   1502\u001b[0m \u001b[1;33m\u001b[0m\u001b[0m\n\u001b[0;32m   1503\u001b[0m             \u001b[1;32mreturn\u001b[0m \u001b[0mself\u001b[0m\u001b[1;33m.\u001b[0m\u001b[0mobj\u001b[0m\u001b[1;33m.\u001b[0m\u001b[0m_ixs\u001b[0m\u001b[1;33m(\u001b[0m\u001b[0mkey\u001b[0m\u001b[1;33m,\u001b[0m \u001b[0maxis\u001b[0m\u001b[1;33m=\u001b[0m\u001b[0maxis\u001b[0m\u001b[1;33m)\u001b[0m\u001b[1;33m\u001b[0m\u001b[1;33m\u001b[0m\u001b[0m\n",
      "\u001b[1;32mC:\\ProgramData\\Anaconda3\\lib\\site-packages\\pandas\\core\\indexing.py\u001b[0m in \u001b[0;36m_validate_integer\u001b[1;34m(self, key, axis)\u001b[0m\n\u001b[0;32m   1442\u001b[0m         \u001b[0mlen_axis\u001b[0m \u001b[1;33m=\u001b[0m \u001b[0mlen\u001b[0m\u001b[1;33m(\u001b[0m\u001b[0mself\u001b[0m\u001b[1;33m.\u001b[0m\u001b[0mobj\u001b[0m\u001b[1;33m.\u001b[0m\u001b[0m_get_axis\u001b[0m\u001b[1;33m(\u001b[0m\u001b[0maxis\u001b[0m\u001b[1;33m)\u001b[0m\u001b[1;33m)\u001b[0m\u001b[1;33m\u001b[0m\u001b[1;33m\u001b[0m\u001b[0m\n\u001b[0;32m   1443\u001b[0m         \u001b[1;32mif\u001b[0m \u001b[0mkey\u001b[0m \u001b[1;33m>=\u001b[0m \u001b[0mlen_axis\u001b[0m \u001b[1;32mor\u001b[0m \u001b[0mkey\u001b[0m \u001b[1;33m<\u001b[0m \u001b[1;33m-\u001b[0m\u001b[0mlen_axis\u001b[0m\u001b[1;33m:\u001b[0m\u001b[1;33m\u001b[0m\u001b[1;33m\u001b[0m\u001b[0m\n\u001b[1;32m-> 1444\u001b[1;33m             \u001b[1;32mraise\u001b[0m \u001b[0mIndexError\u001b[0m\u001b[1;33m(\u001b[0m\u001b[1;34m\"single positional indexer is out-of-bounds\"\u001b[0m\u001b[1;33m)\u001b[0m\u001b[1;33m\u001b[0m\u001b[1;33m\u001b[0m\u001b[0m\n\u001b[0m\u001b[0;32m   1445\u001b[0m \u001b[1;33m\u001b[0m\u001b[0m\n\u001b[0;32m   1446\u001b[0m     \u001b[1;31m# -------------------------------------------------------------------\u001b[0m\u001b[1;33m\u001b[0m\u001b[1;33m\u001b[0m\u001b[1;33m\u001b[0m\u001b[0m\n",
      "\u001b[1;31mIndexError\u001b[0m: single positional indexer is out-of-bounds"
     ]
    }
   ],
   "source": [
    "\n",
    "my_query = {\n",
    "  \"query\": {\n",
    "    \"type\": \"terminal\",\n",
    "    \"service\": \"sequence\",\n",
    "    \"parameters\": {\n",
    "      \"evalue_cutoff\": 1,\n",
    "      \"identity_cutoff\": 0.9,\n",
    "      \"sequence_type\": \"protein\",\n",
    "      \"value\": df.iloc[random.randint(0,212)][\"sequence\"]\n",
    "    }\n",
    "  },\n",
    "  \"request_options\": {\n",
    "    \"scoring_strategy\": \"sequence\"\n",
    "  },\n",
    "  \"return_type\": \"entry\"\n",
    "}\n",
    "my_query = json.dumps(my_query)\n",
    "APIcheck = requests.get(f\"https://search.rcsb.org/rcsbsearch/v2/query?json={my_query}\")\n",
    "protdata = APIcheck.json()\n",
    "print(protdata)\n",
    "print(protdata['result_set'][0]['identifier'])"
   ]
  },
  {
   "cell_type": "code",
   "execution_count": null,
   "id": "6e724cf9",
   "metadata": {
    "tags": []
   },
   "outputs": [],
   "source": [
    "my_query2 = {\"query\":{\"type\":\"group\",\"nodes\":[{\"type\":\"terminal\",\"service\":\"text\",\"parameters\":{\"attribute\":\"rcsb_entity_source_organism.taxonomy_lineage.name\",\"negation\":false,\"operator\":\"contains_phrase\",\"value\":\"Pyrococcus abyssi\"}},{\"type\":\"terminal\",\"service\":\"text\",\"parameters\":{\"attribute\":\"entity_poly.rcsb_entity_polymer_type\",\"value\":\"Protein\",\"operator\":\"exact_match\"}}],\"logical_operator\":\"and\",\"label\":\"text\"},\"return_type\":\"polymer_entity\",\"request_options\":{\"return_all_hits\":true,\"results_verbosity\":\"minimal\",\"results_content_type\":[\"experimental\"],\"sort\":[{\"sort_by\":\"score\",\"direction\":\"desc\"}],\"scoring_strategy\":\"combined\"}}\n",
    "my_query2 = json.dumps(my_query2)\n",
    "APIdata2 = requests.get(f\"https://search.rcsb.org/rcsbsearch/v2/query?json={my_query2}\")\n",
    "protdata = APIdata2.json()\n",
    "\n",
    "identifiers = []\n",
    "for entry in protdata['result_set']:\n",
    "    identifiers.append(entry['identifier'])\n",
    "\n"
   ]
  },
  {
   "cell_type": "code",
   "execution_count": null,
   "id": "c09bc8a9",
   "metadata": {},
   "outputs": [],
   "source": [
    "pdblist = PDBList()"
   ]
  },
  {
   "cell_type": "code",
   "execution_count": 3,
   "id": "08b9ea14",
   "metadata": {
    "tags": []
   },
   "outputs": [
    {
     "name": "stdin",
     "output_type": "stream",
     "text": [
      "Enter Taxonomy ID 562\n"
     ]
    }
   ],
   "source": [
    "taxid = input(\"Enter Taxonomy ID\")\n",
    "url = f'https://rest.uniprot.org/uniprotkb/stream?compressed=false&format=fasta&query=%28organism_id%3A{taxid}%29%20AND%20%28reviewed%3Atrue%29'\n",
    "all_fastas = requests.get(url).text\n",
    "\n",
    "fasta_list = re.split(r'\\n(?=>)', all_fastas)"
   ]
  },
  {
   "cell_type": "code",
   "execution_count": 5,
   "id": "424aca9c",
   "metadata": {},
   "outputs": [],
   "source": [
    "def str_to_SeqRecord(string):\n",
    "    string = string.replace(\">\",\"\")\n",
    "    Name = ID = string.split(\" \")[0]\n",
    "    Description = string.split(\"\\n\")[0]\n",
    "    Sequence = Seq(string.replace(Description,\"\").replace(\"\\n\",\"\"))\n",
    "    return SeqRecord(Sequence, id = ID, name = Name, description = Description)"
   ]
  },
  {
   "cell_type": "code",
   "execution_count": 6,
   "id": "3e5f0435",
   "metadata": {
    "tags": []
   },
   "outputs": [
    {
     "name": "stdin",
     "output_type": "stream",
     "text": [
      "Input file name E_coli.faa\n"
     ]
    },
    {
     "data": {
      "text/plain": [
       "710"
      ]
     },
     "execution_count": 6,
     "metadata": {},
     "output_type": "execute_result"
    }
   ],
   "source": [
    "records = []\n",
    "for rec in fasta_list:\n",
    "    records.append(str_to_SeqRecord(rec))\n",
    "\n",
    "SeqIO.write(records,os.path.join(\"data\",\"API imports\",input(\"Input file name\")),\"fasta\")"
   ]
  },
  {
   "cell_type": "code",
   "execution_count": null,
   "id": "a5a94932",
   "metadata": {},
   "outputs": [],
   "source": []
  },
  {
   "cell_type": "code",
   "execution_count": null,
   "id": "9bf4ab9e",
   "metadata": {},
   "outputs": [],
   "source": []
  }
 ],
 "metadata": {
  "kernelspec": {
   "display_name": "Python 3 (ipykernel)",
   "language": "python",
   "name": "python3"
  },
  "language_info": {
   "codemirror_mode": {
    "name": "ipython",
    "version": 3
   },
   "file_extension": ".py",
   "mimetype": "text/x-python",
   "name": "python",
   "nbconvert_exporter": "python",
   "pygments_lexer": "ipython3",
   "version": "3.10.12"
  }
 },
 "nbformat": 4,
 "nbformat_minor": 5
}
