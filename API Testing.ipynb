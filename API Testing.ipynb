{
 "cells": [
  {
   "cell_type": "code",
   "execution_count": 27,
   "id": "10ebbfec",
   "metadata": {},
   "outputs": [],
   "source": [
    "from Bio import SeqIO\n",
    "from Bio.SeqUtils.IsoelectricPoint import IsoelectricPoint as IP\n",
    "from Bio.SeqUtils.ProtParam import ProteinAnalysis as PA\n",
    "from Bio.Seq import Seq\n",
    "from Bio.SeqRecord import SeqRecord\n",
    "from Bio.PDB import PDBList\n",
    "import os\n",
    "from collections import defaultdict\n",
    "import pandas as pd\n",
    "import ipywidgets as widgets\n",
    "from ipywidgets import *\n",
    "import requests\n",
    "import json\n",
    "import time\n",
    "import random\n",
    "import re\n",
    "true = True\n",
    "false = False"
   ]
  },
  {
   "cell_type": "code",
   "execution_count": 3,
   "id": "a4529f28",
   "metadata": {},
   "outputs": [
    {
     "data": {
      "text/plain": [
       "200"
      ]
     },
     "execution_count": 3,
     "metadata": {},
     "output_type": "execute_result"
    }
   ],
   "source": [
    "data = requests.get(\"https://data.rcsb.org/rest/v1/core/entry/4HHB\")\n",
    "data.status_code"
   ]
  },
  {
   "cell_type": "code",
   "execution_count": 4,
   "id": "ac656276",
   "metadata": {
    "tags": []
   },
   "outputs": [],
   "source": [
    "my_query = {\n",
    "  \"query\": {\n",
    "    \"type\": \"terminal\",\n",
    "    \"service\": \"sequence\",\n",
    "    \"parameters\": {\n",
    "      \"evalue_cutoff\": 1,\n",
    "      \"identity_cutoff\": 0.9,\n",
    "      \"sequence_type\": \"protein\",\n",
    "      \"value\": \"MTEYKLVVVGAGGVGKSALTIQLIQNHFVDEYDPTIEDSYRKQVVIDGETCLLDILDTAGQEEYSAMRDQYMRTGEGFLCVFAINNTKSFEDIHQYREQIKRVKDSDDVPMVLVGNKCDLPARTVETRQAQDLARSYGIPYIETSAKTRQGVEDAFYTLVREIRQHKLRKLNPPDESGPGCMNCKCVIS\"\n",
    "    }\n",
    "  },\n",
    "  \"request_options\": {\n",
    "    \"scoring_strategy\": \"sequence\"\n",
    "  },\n",
    "  \"return_type\": \"entry\"\n",
    "}\n",
    "\n",
    "my_query = json.dumps(my_query)\n",
    "data = requests.get(f\"https://search.rcsb.org/rcsbsearch/v2/query?json={my_query}\")\n",
    "if data.status_code == 200:\n",
    "    results = data.json()\n",
    "    df = pd.DataFrame.from_dict(results)\n",
    "    df"
   ]
  },
  {
   "cell_type": "code",
   "execution_count": 56,
   "id": "7d216eba",
   "metadata": {
    "tags": []
   },
   "outputs": [
    {
     "data": {
      "application/vnd.jupyter.widget-view+json": {
       "model_id": "69c55be00c574e08a0f16706f8448765",
       "version_major": 2,
       "version_minor": 0
      },
      "text/plain": [
       "IntProgress(value=0, bar_style='info', description='0%', max=2407)"
      ]
     },
     "metadata": {},
     "output_type": "display_data"
    },
    {
     "data": {
      "text/html": [
       "<div>\n",
       "<style scoped>\n",
       "    .dataframe tbody tr th:only-of-type {\n",
       "        vertical-align: middle;\n",
       "    }\n",
       "\n",
       "    .dataframe tbody tr th {\n",
       "        vertical-align: top;\n",
       "    }\n",
       "\n",
       "    .dataframe thead th {\n",
       "        text-align: right;\n",
       "    }\n",
       "</style>\n",
       "<table border=\"1\" class=\"dataframe\">\n",
       "  <thead>\n",
       "    <tr style=\"text-align: right;\">\n",
       "      <th></th>\n",
       "      <th>sequence</th>\n",
       "      <th>length</th>\n",
       "      <th>IEP</th>\n",
       "      <th>MW</th>\n",
       "      <th>charge at pH 7</th>\n",
       "    </tr>\n",
       "  </thead>\n",
       "  <tbody>\n",
       "    <tr>\n",
       "      <th>0</th>\n",
       "      <td>MFKRETKDFINIDPLQTGGKLTEEARQALLEWGDGYSVCDFCTTGR...</td>\n",
       "      <td>371</td>\n",
       "      <td>7.140535</td>\n",
       "      <td>41929.7438</td>\n",
       "      <td>0.378700</td>\n",
       "    </tr>\n",
       "    <tr>\n",
       "      <th>1</th>\n",
       "      <td>MELPSFIFQAQENLVERPWGGEWIALLKGFRQSGIGESWEFSAHTS...</td>\n",
       "      <td>299</td>\n",
       "      <td>5.300145</td>\n",
       "      <td>33495.6303</td>\n",
       "      <td>-9.905084</td>\n",
       "    </tr>\n",
       "    <tr>\n",
       "      <th>2</th>\n",
       "      <td>MTPVGMDRKSLSLLILIVLLGLCIRLQNFGEIFDSRIYYYGYDPYY...</td>\n",
       "      <td>593</td>\n",
       "      <td>9.034035</td>\n",
       "      <td>68171.2664</td>\n",
       "      <td>11.988620</td>\n",
       "    </tr>\n",
       "    <tr>\n",
       "      <th>3</th>\n",
       "      <td>MKICVFHDYFGAIGGGEKVALTISKLFNADVITTDVDAVPEEFRNK...</td>\n",
       "      <td>363</td>\n",
       "      <td>9.152270</td>\n",
       "      <td>42108.6242</td>\n",
       "      <td>13.874878</td>\n",
       "    </tr>\n",
       "    <tr>\n",
       "      <th>4</th>\n",
       "      <td>MEKRQFMKMKEKLKRACFEFAVSNRYLYNLAKRILDSSPKLQKIKE...</td>\n",
       "      <td>473</td>\n",
       "      <td>8.202200</td>\n",
       "      <td>55346.1547</td>\n",
       "      <td>3.305100</td>\n",
       "    </tr>\n",
       "    <tr>\n",
       "      <th>5</th>\n",
       "      <td>MKFACRAITRGRAEGEALVTKEYISFLGGIDKETGIVKEDCEIKGE...</td>\n",
       "      <td>132</td>\n",
       "      <td>5.682728</td>\n",
       "      <td>14189.2879</td>\n",
       "      <td>-1.481504</td>\n",
       "    </tr>\n",
       "    <tr>\n",
       "      <th>6</th>\n",
       "      <td>MDYFRLAEKFLREMHAKYMKRVSRPGNTPRPWFDFSEERLLSRLFE...</td>\n",
       "      <td>93</td>\n",
       "      <td>4.961669</td>\n",
       "      <td>11459.9070</td>\n",
       "      <td>-5.386259</td>\n",
       "    </tr>\n",
       "    <tr>\n",
       "      <th>7</th>\n",
       "      <td>MELKYKIGFPSLYYPKISLADRIDAAAEKFGEKTAIISAEPKFPSE...</td>\n",
       "      <td>542</td>\n",
       "      <td>5.296621</td>\n",
       "      <td>60995.6118</td>\n",
       "      <td>-15.642612</td>\n",
       "    </tr>\n",
       "    <tr>\n",
       "      <th>8</th>\n",
       "      <td>MFLKVRAEKRLGNFRLNVDFEMGRDYCVLLGPTGAGKSVFLELIAG...</td>\n",
       "      <td>240</td>\n",
       "      <td>9.480414</td>\n",
       "      <td>27026.4138</td>\n",
       "      <td>5.894878</td>\n",
       "    </tr>\n",
       "    <tr>\n",
       "      <th>9</th>\n",
       "      <td>MRLLFSALLALLSSIILLFVLLPVAATVTLQLFNFDEFLKAASDPA...</td>\n",
       "      <td>261</td>\n",
       "      <td>7.970436</td>\n",
       "      <td>27832.9487</td>\n",
       "      <td>0.779810</td>\n",
       "    </tr>\n",
       "    <tr>\n",
       "      <th>10</th>\n",
       "      <td>MHIGGGVVKIRILILLMLALFLLGCSSNVNTNVKLKVFHAGSLTEP...</td>\n",
       "      <td>342</td>\n",
       "      <td>5.591104</td>\n",
       "      <td>38629.1261</td>\n",
       "      <td>-6.017884</td>\n",
       "    </tr>\n",
       "  </tbody>\n",
       "</table>\n",
       "</div>"
      ],
      "text/plain": [
       "                                             sequence  length       IEP  \\\n",
       "0   MFKRETKDFINIDPLQTGGKLTEEARQALLEWGDGYSVCDFCTTGR...     371  7.140535   \n",
       "1   MELPSFIFQAQENLVERPWGGEWIALLKGFRQSGIGESWEFSAHTS...     299  5.300145   \n",
       "2   MTPVGMDRKSLSLLILIVLLGLCIRLQNFGEIFDSRIYYYGYDPYY...     593  9.034035   \n",
       "3   MKICVFHDYFGAIGGGEKVALTISKLFNADVITTDVDAVPEEFRNK...     363  9.152270   \n",
       "4   MEKRQFMKMKEKLKRACFEFAVSNRYLYNLAKRILDSSPKLQKIKE...     473  8.202200   \n",
       "5   MKFACRAITRGRAEGEALVTKEYISFLGGIDKETGIVKEDCEIKGE...     132  5.682728   \n",
       "6   MDYFRLAEKFLREMHAKYMKRVSRPGNTPRPWFDFSEERLLSRLFE...      93  4.961669   \n",
       "7   MELKYKIGFPSLYYPKISLADRIDAAAEKFGEKTAIISAEPKFPSE...     542  5.296621   \n",
       "8   MFLKVRAEKRLGNFRLNVDFEMGRDYCVLLGPTGAGKSVFLELIAG...     240  9.480414   \n",
       "9   MRLLFSALLALLSSIILLFVLLPVAATVTLQLFNFDEFLKAASDPA...     261  7.970436   \n",
       "10  MHIGGGVVKIRILILLMLALFLLGCSSNVNTNVKLKVFHAGSLTEP...     342  5.591104   \n",
       "\n",
       "            MW  charge at pH 7  \n",
       "0   41929.7438        0.378700  \n",
       "1   33495.6303       -9.905084  \n",
       "2   68171.2664       11.988620  \n",
       "3   42108.6242       13.874878  \n",
       "4   55346.1547        3.305100  \n",
       "5   14189.2879       -1.481504  \n",
       "6   11459.9070       -5.386259  \n",
       "7   60995.6118      -15.642612  \n",
       "8   27026.4138        5.894878  \n",
       "9   27832.9487        0.779810  \n",
       "10  38629.1261       -6.017884  "
      ]
     },
     "execution_count": 56,
     "metadata": {},
     "output_type": "execute_result"
    }
   ],
   "source": [
    "seqList = []\n",
    "with open('data/aechaeoglobus_fulgidus.faa') as protfile: #Generates a list of each protein sequence\n",
    "  for record in SeqIO.parse(protfile,\"fasta\"):\n",
    "    sequence = str(record.seq)\n",
    "    seqList.append(sequence)\n",
    "\n",
    "dfdict = {\n",
    "    'sequence' : [],\n",
    "    'length' : [],\n",
    "    'IEP' : [],\n",
    "    'MW' : [],\n",
    "    'charge at pH 7' : [],\n",
    "}\n",
    "\n",
    "loadBar = widgets.IntProgress(min=0, max=len(seqList), description='0%', bar_style='info', orientation='horizontal') #Displays loading bar for convenience\n",
    "display(loadBar)\n",
    "\n",
    "for sequence in seqList[:100]: #Checks each protein of RCSB API for sequence matches\n",
    "    my_query = {\n",
    "      \"query\": {\n",
    "        \"type\": \"terminal\",\n",
    "        \"service\": \"sequence\",\n",
    "        \"parameters\": {\n",
    "          \"evalue_cutoff\": 1,\n",
    "          \"identity_cutoff\": 0.9,\n",
    "          \"sequence_type\": \"protein\",\n",
    "          \"value\": sequence\n",
    "        }\n",
    "      },\n",
    "      \"request_options\": {\n",
    "        \"scoring_strategy\": \"sequence\"\n",
    "      },\n",
    "      \"return_type\": \"entry\"\n",
    "    }\n",
    "    my_query = json.dumps(my_query)\n",
    "    APIdata = requests.get(f\"https://search.rcsb.org/rcsbsearch/v2/query?json={my_query}\")\n",
    "    if APIdata.status_code == 200: #Adds each protein with sequence matches to a dataframe\n",
    "        length = len(sequence)\n",
    "        dfdict['sequence'].append(sequence)\n",
    "        dfdict['length'].append(length)\n",
    "        protparams = PA(sequence)\n",
    "        dfdict['IEP'].append(protparams.isoelectric_point())\n",
    "        dfdict['MW'].append(protparams.molecular_weight())\n",
    "        dfdict['charge at pH 7'].append(protparams.charge_at_pH(7))\n",
    "  \n",
    "    #Iterates loading bar\n",
    "    loadBar.value += 1\n",
    "    loadBar.description = f'Done:{100*loadBar.value/len(seqList):0.2f}%'\n",
    "\n",
    "loadBar.description = f'Search Complete'\n",
    "df = pd.DataFrame.from_dict(dfdict)"
   ]
  },
  {
   "cell_type": "code",
   "execution_count": 64,
   "id": "1fdaca0d",
   "metadata": {},
   "outputs": [
    {
     "data": {
      "text/html": [
       "<div>\n",
       "<style scoped>\n",
       "    .dataframe tbody tr th:only-of-type {\n",
       "        vertical-align: middle;\n",
       "    }\n",
       "\n",
       "    .dataframe tbody tr th {\n",
       "        vertical-align: top;\n",
       "    }\n",
       "\n",
       "    .dataframe thead th {\n",
       "        text-align: right;\n",
       "    }\n",
       "</style>\n",
       "<table border=\"1\" class=\"dataframe\">\n",
       "  <thead>\n",
       "    <tr style=\"text-align: right;\">\n",
       "      <th></th>\n",
       "      <th>sequence</th>\n",
       "      <th>length</th>\n",
       "      <th>IEP</th>\n",
       "      <th>MW</th>\n",
       "      <th>charge at pH 7</th>\n",
       "    </tr>\n",
       "  </thead>\n",
       "  <tbody>\n",
       "    <tr>\n",
       "      <th>0</th>\n",
       "      <td>MFKRETKDFINIDPLQTGGKLTEEARQALLEWGDGYSVCDFCTTGR...</td>\n",
       "      <td>371</td>\n",
       "      <td>7.14</td>\n",
       "      <td>41930</td>\n",
       "      <td>0.38</td>\n",
       "    </tr>\n",
       "    <tr>\n",
       "      <th>1</th>\n",
       "      <td>MELPSFIFQAQENLVERPWGGEWIALLKGFRQSGIGESWEFSAHTS...</td>\n",
       "      <td>299</td>\n",
       "      <td>5.30</td>\n",
       "      <td>33496</td>\n",
       "      <td>-9.91</td>\n",
       "    </tr>\n",
       "    <tr>\n",
       "      <th>2</th>\n",
       "      <td>MTPVGMDRKSLSLLILIVLLGLCIRLQNFGEIFDSRIYYYGYDPYY...</td>\n",
       "      <td>593</td>\n",
       "      <td>9.03</td>\n",
       "      <td>68171</td>\n",
       "      <td>11.99</td>\n",
       "    </tr>\n",
       "    <tr>\n",
       "      <th>3</th>\n",
       "      <td>MKICVFHDYFGAIGGGEKVALTISKLFNADVITTDVDAVPEEFRNK...</td>\n",
       "      <td>363</td>\n",
       "      <td>9.15</td>\n",
       "      <td>42109</td>\n",
       "      <td>13.87</td>\n",
       "    </tr>\n",
       "    <tr>\n",
       "      <th>4</th>\n",
       "      <td>MEKRQFMKMKEKLKRACFEFAVSNRYLYNLAKRILDSSPKLQKIKE...</td>\n",
       "      <td>473</td>\n",
       "      <td>8.20</td>\n",
       "      <td>55346</td>\n",
       "      <td>3.31</td>\n",
       "    </tr>\n",
       "    <tr>\n",
       "      <th>5</th>\n",
       "      <td>MKFACRAITRGRAEGEALVTKEYISFLGGIDKETGIVKEDCEIKGE...</td>\n",
       "      <td>132</td>\n",
       "      <td>5.68</td>\n",
       "      <td>14189</td>\n",
       "      <td>-1.48</td>\n",
       "    </tr>\n",
       "    <tr>\n",
       "      <th>6</th>\n",
       "      <td>MDYFRLAEKFLREMHAKYMKRVSRPGNTPRPWFDFSEERLLSRLFE...</td>\n",
       "      <td>93</td>\n",
       "      <td>4.96</td>\n",
       "      <td>11460</td>\n",
       "      <td>-5.39</td>\n",
       "    </tr>\n",
       "    <tr>\n",
       "      <th>7</th>\n",
       "      <td>MELKYKIGFPSLYYPKISLADRIDAAAEKFGEKTAIISAEPKFPSE...</td>\n",
       "      <td>542</td>\n",
       "      <td>5.30</td>\n",
       "      <td>60996</td>\n",
       "      <td>-15.64</td>\n",
       "    </tr>\n",
       "    <tr>\n",
       "      <th>8</th>\n",
       "      <td>MFLKVRAEKRLGNFRLNVDFEMGRDYCVLLGPTGAGKSVFLELIAG...</td>\n",
       "      <td>240</td>\n",
       "      <td>9.48</td>\n",
       "      <td>27026</td>\n",
       "      <td>5.89</td>\n",
       "    </tr>\n",
       "    <tr>\n",
       "      <th>9</th>\n",
       "      <td>MRLLFSALLALLSSIILLFVLLPVAATVTLQLFNFDEFLKAASDPA...</td>\n",
       "      <td>261</td>\n",
       "      <td>7.97</td>\n",
       "      <td>27833</td>\n",
       "      <td>0.78</td>\n",
       "    </tr>\n",
       "    <tr>\n",
       "      <th>10</th>\n",
       "      <td>MHIGGGVVKIRILILLMLALFLLGCSSNVNTNVKLKVFHAGSLTEP...</td>\n",
       "      <td>342</td>\n",
       "      <td>5.59</td>\n",
       "      <td>38629</td>\n",
       "      <td>-6.02</td>\n",
       "    </tr>\n",
       "  </tbody>\n",
       "</table>\n",
       "</div>"
      ],
      "text/plain": [
       "                                             sequence  length   IEP     MW  \\\n",
       "0   MFKRETKDFINIDPLQTGGKLTEEARQALLEWGDGYSVCDFCTTGR...     371  7.14  41930   \n",
       "1   MELPSFIFQAQENLVERPWGGEWIALLKGFRQSGIGESWEFSAHTS...     299  5.30  33496   \n",
       "2   MTPVGMDRKSLSLLILIVLLGLCIRLQNFGEIFDSRIYYYGYDPYY...     593  9.03  68171   \n",
       "3   MKICVFHDYFGAIGGGEKVALTISKLFNADVITTDVDAVPEEFRNK...     363  9.15  42109   \n",
       "4   MEKRQFMKMKEKLKRACFEFAVSNRYLYNLAKRILDSSPKLQKIKE...     473  8.20  55346   \n",
       "5   MKFACRAITRGRAEGEALVTKEYISFLGGIDKETGIVKEDCEIKGE...     132  5.68  14189   \n",
       "6   MDYFRLAEKFLREMHAKYMKRVSRPGNTPRPWFDFSEERLLSRLFE...      93  4.96  11460   \n",
       "7   MELKYKIGFPSLYYPKISLADRIDAAAEKFGEKTAIISAEPKFPSE...     542  5.30  60996   \n",
       "8   MFLKVRAEKRLGNFRLNVDFEMGRDYCVLLGPTGAGKSVFLELIAG...     240  9.48  27026   \n",
       "9   MRLLFSALLALLSSIILLFVLLPVAATVTLQLFNFDEFLKAASDPA...     261  7.97  27833   \n",
       "10  MHIGGGVVKIRILILLMLALFLLGCSSNVNTNVKLKVFHAGSLTEP...     342  5.59  38629   \n",
       "\n",
       "   charge at pH 7  \n",
       "0            0.38  \n",
       "1           -9.91  \n",
       "2           11.99  \n",
       "3           13.87  \n",
       "4            3.31  \n",
       "5           -1.48  \n",
       "6           -5.39  \n",
       "7          -15.64  \n",
       "8            5.89  \n",
       "9            0.78  \n",
       "10          -6.02  "
      ]
     },
     "execution_count": 64,
     "metadata": {},
     "output_type": "execute_result"
    }
   ],
   "source": [
    "df2 = df.copy()\n",
    "df2['IEP'] = df2['IEP'].map(lambda x: f\"{x:.02f}\")\n",
    "df2['charge at pH 7'] = df2['charge at pH 7'].map(lambda x: f\"{x:.02f}\")\n",
    "df2['MW'] = df2['MW'].map(lambda x: f\"{x:.0f}\")\n",
    "df2"
   ]
  },
  {
   "cell_type": "code",
   "execution_count": 96,
   "id": "ccf13b21",
   "metadata": {},
   "outputs": [
    {
     "name": "stdout",
     "output_type": "stream",
     "text": [
      "{'query_id': 'd2459c26-c367-4b0a-8c02-10e89721fd9d', 'result_type': 'entry', 'total_count': 1, 'result_set': [{'identifier': '3DF7', 'score': 1.0}]}\n",
      "3DF7\n"
     ]
    }
   ],
   "source": [
    "\n",
    "my_query = {\n",
    "  \"query\": {\n",
    "    \"type\": \"terminal\",\n",
    "    \"service\": \"sequence\",\n",
    "    \"parameters\": {\n",
    "      \"evalue_cutoff\": 1,\n",
    "      \"identity_cutoff\": 0.9,\n",
    "      \"sequence_type\": \"protein\",\n",
    "      \"value\": df.iloc[random.randint(0,212)][\"sequence\"]\n",
    "    }\n",
    "  },\n",
    "  \"request_options\": {\n",
    "    \"scoring_strategy\": \"sequence\"\n",
    "  },\n",
    "  \"return_type\": \"entry\"\n",
    "}\n",
    "my_query = json.dumps(my_query)\n",
    "APIcheck = requests.get(f\"https://search.rcsb.org/rcsbsearch/v2/query?json={my_query}\")\n",
    "protdata = APIcheck.json()\n",
    "print(protdata)\n",
    "print(protdata['result_set'][0]['identifier'])"
   ]
  },
  {
   "cell_type": "code",
   "execution_count": 19,
   "id": "6e724cf9",
   "metadata": {
    "tags": []
   },
   "outputs": [],
   "source": [
    "my_query2 = {\"query\":{\"type\":\"group\",\"nodes\":[{\"type\":\"terminal\",\"service\":\"text\",\"parameters\":{\"attribute\":\"rcsb_entity_source_organism.taxonomy_lineage.name\",\"negation\":false,\"operator\":\"contains_phrase\",\"value\":\"Pyrococcus abyssi\"}},{\"type\":\"terminal\",\"service\":\"text\",\"parameters\":{\"attribute\":\"entity_poly.rcsb_entity_polymer_type\",\"value\":\"Protein\",\"operator\":\"exact_match\"}}],\"logical_operator\":\"and\",\"label\":\"text\"},\"return_type\":\"polymer_entity\",\"request_options\":{\"return_all_hits\":true,\"results_verbosity\":\"minimal\",\"results_content_type\":[\"experimental\"],\"sort\":[{\"sort_by\":\"score\",\"direction\":\"desc\"}],\"scoring_strategy\":\"combined\"}}\n",
    "my_query2 = json.dumps(my_query2)\n",
    "APIdata2 = requests.get(f\"https://search.rcsb.org/rcsbsearch/v2/query?json={my_query2}\")\n",
    "protdata = APIdata2.json()\n",
    "\n",
    "identifiers = []\n",
    "for entry in protdata['result_set']:\n",
    "    identifiers.append(entry['identifier'])\n",
    "\n"
   ]
  },
  {
   "cell_type": "code",
   "execution_count": 18,
   "id": "c09bc8a9",
   "metadata": {},
   "outputs": [],
   "source": [
    "pdblist = PDBList()"
   ]
  },
  {
   "cell_type": "code",
   "execution_count": 66,
   "id": "08b9ea14",
   "metadata": {
    "tags": []
   },
   "outputs": [
    {
     "name": "stdin",
     "output_type": "stream",
     "text": [
      "Enter Taxonomy ID 10181\n"
     ]
    },
    {
     "data": {
      "text/plain": [
       "['>sp|A0A0P6JG37|ASAH1_HETGA Acid ceramidase OS=Heterocephalus glaber OX=10181 GN=ASAH1 PE=1 SV=1\\nMLGRSRLTFVLLAAAVTCAEAQHAPPWTEDCRKSTYPPSGPTYRGPVPWYTINLDLPPYK\\nRWHELMVDKGPMLKIIVNSFKNMVNTFVPSGKVMQMVDQKLPDLLGQFSGPYEEEMKGIA\\nDVTEIPLGEIISFNIFYELFTMCTSIITEDKKGHLLHVRNMDFGIFLGWNINNNTWVITE\\nELKPLTVNLDFQRNSKTVFKATSFAGYVGMLTGFKPGQFSLTLNERFSMNGGYLGLLEWI\\nLGKKDASWIGFITRSVLENATSYEEAKNILAKTKLLAPAYFILGGNQSGEGCVITRERKD\\nSLDIYELDPKQGRWYVVQTNYDRWKNPLFLDDRRTPAQTCLKRTTQENLSFATLYDILST\\nKPVLNKLTVFTALMDVTKNHYEAYLRDCPDPCVGW',\n",
       " '>sp|G5AY81|HYAS2_HETGA Hyaluronan synthase 2 OS=Heterocephalus glaber OX=10181 GN=Has2 PE=2 SV=1\\nMHCERFLCILRIIGTTLFGVSLLLGITAAYIVGYQFIQTDNYYFSFGLYGAFLASHLIIQ\\nSLFAFLEHRKMKKSLETPIKLNKTVALCIAAYQEDPDYLRKCLQSVKRLTYPGIKVVMVI\\nDGNSDDDLYMMDIFSEVMGRDKSATYIWKNNFHEKGPGETDESHKESSQHVTQLVLSSKS\\nVCIMQKWGGKREVMYTAFRALGRSVDYVQVCDSDTMLDPASSVEMVKVLEEDPMVGGVGG\\nDVQILNKYDSWISFLSSVRYWMAFNIERACQSYFGCVQCISGPLGMYRNSLLHEFVEDWY\\nSQEFMGNQCSFGDDRHLTNRVLSLGYATKYTARSKCLTETPIEYLRWLNQQTRWSKSYFR\\nEWLYNAMWFHKHHLWMTYEAVITGFFPFFLIATVIQLFYRGKIWNILLFLLTVQLVGLIK\\nSSFASCLRGNIVMVFMSLYSVLYMSSLLPAKMFAIATINKAGWGTSGRKTIVVNFIGLIP\\nVSVWFTILLGGVIFTIYKESKKPFSESKQTVLIVGTLLYACYWVMLLTLYVVLINKCGRR\\nKKGQQYDMVLDV',\n",
       " '>sp|G5BQH4|APOC3_HETGA Apolipoprotein C-III OS=Heterocephalus glaber OX=10181 GN=Apoc3 PE=3 SV=2\\nMQPRVFLAVTLLALLASARALETEDASLLGYMQDYMQGYMEHASKTAQDALTRVQDSQMA\\nQQARGWMSDSLSSLQDYWSSFKGKWSGFGFWDATPEEASPTPAPEGI',\n",
       " '>sp|G5BQH5|APOA1_HETGA Apolipoprotein A-I OS=Heterocephalus glaber OX=10181 GN=Apoa1 PE=1 SV=2\\nMKAVVLAVAVLFLTGSQARHFWQGDEPQTSWDRMKDFAALYVDAIQESGKDCAAQLDASA\\nLGKQLNLNLLANWNTLTSTFNNLREQLGSVTKEFWDNLGEDTVWLRQQMNKDLEEVKQKV\\nQSYLDNFQKKVNEEVERYRDKVQPLGKELHKDAQQKLKELQEKLAPLGQDIRQRAREYVD\\nALRTHLGSYTQGMRQGLAKRLEALKESAPVSEYQVKASKHLKTFSEKAKPALEDLRQGLM\\nPVMESLKASFLSSIDQASKQLSAQ',\n",
       " '>sp|G5BWH8|APOA2_HETGA Apolipoprotein A-II OS=Heterocephalus glaber OX=10181 GN=Apoa2 PE=3 SV=1\\nMKLLAMTVLLVTICSLDGALVRRQAEEPDLQGLFSQYFQTVTSYGKDLLQKTKPQDLQAQ\\nVQSYFEKTQEQLVPLVKKAGTELFNMLSNMIELKKTQPATA',\n",
       " '>sp|G5CBM7|APOE_HETGA Apolipoprotein E OS=Heterocephalus glaber OX=10181 GN=APOE PE=1 SV=1\\nMKALWAVLVVTLLAGCRADVQPELEMQEPALWQSGQPWELALGRFWDYLRWVQTLSDQVQ\\nEELLNSQVTQELTVLMEDTMKEVKAYKNELEEELGPVAEDTKARLSKELQGAQARLRADM\\nEEVRNRLAHYSEEMQVMLGQSPDELRARLGSHLRKLRKRLLRDAEDLQKRLAVYKAGARE\\nGAERGVSAIRERLGSLVEQSRVRAALTGQPLRERAQAWGERLRGRLEEVGGRARDRLDEV\\nREQMEEVRAKVEEQAEAFQARLKGWFEPMMEDMRRQWADLIEKVQLAVGASTPVPSEDH\\n']"
      ]
     },
     "execution_count": 66,
     "metadata": {},
     "output_type": "execute_result"
    }
   ],
   "source": [
    "taxid = input(\"Enter Taxonomy ID\")\n",
    "url = f'https://rest.uniprot.org/uniprotkb/stream?compressed=false&format=fasta&query=%28organism_id%3A{taxid}%29%20AND%20%28reviewed%3Atrue%29'\n",
    "all_fastas = requests.get(url).text\n",
    "\n",
    "fasta_list = re.split(r'\\n(?=>)', all_fastas)\n",
    "fasta_list"
   ]
  },
  {
   "cell_type": "code",
   "execution_count": 67,
   "id": "424aca9c",
   "metadata": {},
   "outputs": [],
   "source": [
    "def str_to_SeqRecord(string):\n",
    "    string = string.replace(\">\",\"\")\n",
    "    Name = ID = string.split(\" \")[0]\n",
    "    Description = string.split(\"\\n\")[0]\n",
    "    Sequence = Seq(string.replace(Description,\"\").replace(\"\\n\",\"\"))\n",
    "    return SeqRecord(Sequence, id = ID, name = Name, description = Description)"
   ]
  },
  {
   "cell_type": "code",
   "execution_count": 68,
   "id": "3e5f0435",
   "metadata": {
    "tags": []
   },
   "outputs": [
    {
     "name": "stdin",
     "output_type": "stream",
     "text": [
      "Input file name Heterocephalus_glaber.faa\n"
     ]
    },
    {
     "data": {
      "text/plain": [
       "6"
      ]
     },
     "execution_count": 68,
     "metadata": {},
     "output_type": "execute_result"
    }
   ],
   "source": [
    "records = []\n",
    "for rec in fasta_list:\n",
    "    records.append(str_to_SeqRecord(rec))\n",
    "\n",
    "SeqIO.write(records,os.path.join(\"data\",\"API imports\",input(\"Input file name\")),\"fasta\")"
   ]
  },
  {
   "cell_type": "code",
   "execution_count": 65,
   "id": "943bd040",
   "metadata": {},
   "outputs": [
    {
     "data": {
      "application/vnd.jupyter.widget-view+json": {
       "model_id": "0cbdc0341c354d4281d3dbac0690230f",
       "version_major": 2,
       "version_minor": 0
      },
      "text/plain": [
       "IntProgress(value=0, bar_style='info', description='0%', max=20422)"
      ]
     },
     "metadata": {},
     "output_type": "display_data"
    },
    {
     "name": "stdout",
     "output_type": "stream",
     "text": [
      "ID: sp|A0A087X1C5|CP2D7_HUMAN\n",
      "Name: sp|A0A087X1C5|CP2D7_HUMAN\n",
      "Description: sp|A0A087X1C5|CP2D7_HUMAN Putative cytochrome P450 2D7 OS=Homo sapiens OX=9606 GN=CYP2D7 PE=5 SV=1\n",
      "Number of features: 0\n",
      "Seq('MGLEALVPLAMIVAIFLLLVDLMHRHQRWAARYPPGPLPLPGLGNLLHVDFQNT...VPR')\n",
      "0\n"
     ]
    }
   ],
   "source": [
    "loadBar = widgets.IntProgress(min=0, max=len(records), description='0%', bar_style='info', orientation='horizontal')\n",
    "loadCount = 0\n",
    "display(loadBar)\n",
    "for rec in records:\n",
    "    if rec.id == \"sp|A0A087X1C5|CP2D7_HUMAN\":\n",
    "        print(rec)\n",
    "        print(loadCount)\n",
    "    loadCount += 1\n",
    "    if loadCount % 10 == 0:\n",
    "        loadBar.value += 100\n",
    "        loadBar.description = f'Done:{100*loadBar.value/len(records):0.2f}%'"
   ]
  },
  {
   "cell_type": "code",
   "execution_count": 54,
   "id": "a5a94932",
   "metadata": {},
   "outputs": [
    {
     "data": {
      "text/plain": [
       "20422"
      ]
     },
     "execution_count": 54,
     "metadata": {},
     "output_type": "execute_result"
    }
   ],
   "source": []
  },
  {
   "cell_type": "code",
   "execution_count": null,
   "id": "9bf4ab9e",
   "metadata": {},
   "outputs": [],
   "source": []
  }
 ],
 "metadata": {
  "kernelspec": {
   "display_name": "Python 3",
   "language": "python",
   "name": "python3"
  },
  "language_info": {
   "codemirror_mode": {
    "name": "ipython",
    "version": 3
   },
   "file_extension": ".py",
   "mimetype": "text/x-python",
   "name": "python",
   "nbconvert_exporter": "python",
   "pygments_lexer": "ipython3",
   "version": "3.9.4"
  }
 },
 "nbformat": 4,
 "nbformat_minor": 5
}
