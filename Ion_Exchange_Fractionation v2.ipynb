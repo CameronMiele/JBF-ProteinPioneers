{
 "cells": [
  {
   "cell_type": "code",
   "execution_count": 2,
   "id": "fe88eba9",
   "metadata": {},
   "outputs": [],
   "source": [
    "from Bio import SeqIO\n",
    "from Bio.SeqUtils.IsoelectricPoint import IsoelectricPoint as IP\n",
    "from Bio.SeqUtils.ProtParam import ProteinAnalysis as PA\n",
    "from Bio.Seq import Seq\n",
    "from Bio.SeqRecord import SeqRecord\n",
    "import os\n",
    "from collections import defaultdict\n",
    "import pandas as pd\n",
    "import ipywidgets as widgets\n",
    "from ipywidgets import *"
   ]
  },
  {
   "cell_type": "code",
   "execution_count": 3,
   "id": "54a6805b",
   "metadata": {},
   "outputs": [
    {
     "data": {
      "application/vnd.jupyter.widget-view+json": {
       "model_id": "dd6e995e2b7c46f093535e78de7217c4",
       "version_major": 2,
       "version_minor": 0
      },
      "text/plain": [
       "Dropdown(description='Media', options=('Q Media (Triethylamine +)', 'S Media (Sulfite -)'), value='Q Media (Tr…"
      ]
     },
     "metadata": {},
     "output_type": "display_data"
    },
    {
     "data": {
      "application/vnd.jupyter.widget-view+json": {
       "model_id": "09001201c0e9496ba45a19acbca418ed",
       "version_major": 2,
       "version_minor": 0
      },
      "text/plain": [
       "FloatSlider(value=7.0, max=14.0)"
      ]
     },
     "metadata": {},
     "output_type": "display_data"
    }
   ],
   "source": [
    "#Create a selector for the intended size exclusion media\n",
    "geldict = {\n",
    "    \"Q Media (Triethylamine +)\" : -1,\n",
    "    \"S Media (Sulfite -)\" : 1,\n",
    "}\n",
    "gelselect = Dropdown(options=geldict.keys(),description=\"Media\")\n",
    "display(gelselect)\n",
    "\n",
    "pHslider = widgets.FloatSlider(value=7.0,min=0,max=14,step=0.1)\n",
    "display(pHslider)\n",
    "\n",
    "#testbutton = widgets.Button(description=\"Confirm\")\n",
    "#output = widgets.Output()\n",
    "#display(testbutton, output)\n",
    "#def on_button_clicked(b):\n",
    "#    with output:\n",
    "#        runpH = pHslider.value\n",
    "#        gelcharge = int(geldict[gelselect.value])\n",
    "    \n",
    "#testbutton.on_click(on_button_clicked)\n",
    "\n"
   ]
  },
  {
   "cell_type": "code",
   "execution_count": 15,
   "id": "acd45c7b",
   "metadata": {
    "tags": []
   },
   "outputs": [],
   "source": [
    "#Generate a file path for the correct .fasta file\n",
    "\n",
    "filename = 'bacillus_halodurans.faa'\n",
    "#filename = input(\"Enter File Name\")\n",
    "datafile = os.path.join('data', filename)"
   ]
  },
  {
   "cell_type": "code",
   "execution_count": 16,
   "id": "94eb41c3",
   "metadata": {},
   "outputs": [],
   "source": [
    "data_folder = os.path.join('data', filename.replace(\".faa\",\"\")+\"_ion_exchange_\"+gelselect.value[0])\n",
    "\n",
    "os.mkdir(data_folder)"
   ]
  },
  {
   "cell_type": "code",
   "execution_count": 32,
   "id": "20e985ab",
   "metadata": {},
   "outputs": [
    {
     "data": {
      "text/plain": [
       "2740"
      ]
     },
     "execution_count": 32,
     "metadata": {},
     "output_type": "execute_result"
    }
   ],
   "source": [
    "unfiltered = []\n",
    "wash = []\n",
    "fractions = []\n",
    "with open(datafile) as protfile:\n",
    "    for record in SeqIO.parse(protfile,\"fasta\"):\n",
    "        unfiltered.append(record)\n",
    "        protparams = PA(str(record.seq))\n",
    "        if protparams.charge_at_pH(pHslider.value)*int(geldict[gelselect.value]) < 0:\n",
    "            wash.append(record)\n",
    "        else:\n",
    "            fractions.append(record)    \n",
    "        \n",
    "SeqIO.write(unfiltered,os.path.join(data_folder,filename.replace(\".faa\",\"\")+\"_total.faa\"),\"fasta\")\n",
    "SeqIO.write(wash,os.path.join(data_folder,filename.replace(\".faa\",\"\")+\"_wash.faa\"),\"fasta\")\n",
    "SeqIO.write(fractions,os.path.join(data_folder,filename.replace(\".faa\",\"\")+\"_fractions.faa\"),\"fasta\")\n"
   ]
  },
  {
   "cell_type": "code",
   "execution_count": 33,
   "id": "40201a7f",
   "metadata": {},
   "outputs": [
    {
     "data": {
      "text/html": [
       "<div>\n",
       "<style scoped>\n",
       "    .dataframe tbody tr th:only-of-type {\n",
       "        vertical-align: middle;\n",
       "    }\n",
       "\n",
       "    .dataframe tbody tr th {\n",
       "        vertical-align: top;\n",
       "    }\n",
       "\n",
       "    .dataframe thead th {\n",
       "        text-align: right;\n",
       "    }\n",
       "</style>\n",
       "<table border=\"1\" class=\"dataframe\">\n",
       "  <thead>\n",
       "    <tr style=\"text-align: right;\">\n",
       "      <th></th>\n",
       "      <th>sequence</th>\n",
       "      <th>Charge at pH 6.9</th>\n",
       "      <th>description</th>\n",
       "      <th>ID</th>\n",
       "    </tr>\n",
       "  </thead>\n",
       "  <tbody>\n",
       "    <tr>\n",
       "      <th>1362</th>\n",
       "      <td>MKHLSNKLLLLAMVAVLISHTFLASIGLPLQAIANATANVFTNVEL...</td>\n",
       "      <td>-230.287158</td>\n",
       "      <td>BH2014~unknown [Bacillus halodurans]</td>\n",
       "      <td>gi|10174633|dbj|BAB05733.1|</td>\n",
       "    </tr>\n",
       "    <tr>\n",
       "      <th>228</th>\n",
       "      <td>MKTLKHISYKLRIFALIALLISQTLLTSLSLPFQAVANSEKSGLTN...</td>\n",
       "      <td>-182.611985</td>\n",
       "      <td>BH0361~unknown [Bacillus halodurans]</td>\n",
       "      <td>gi|10172974|dbj|BAB04080.1|</td>\n",
       "    </tr>\n",
       "    <tr>\n",
       "      <th>2185</th>\n",
       "      <td>MVKSKFLVLFSVFSLLFGVFVVGFSHQGVKAEEERPMGTAFYESFD...</td>\n",
       "      <td>-129.620780</td>\n",
       "      <td>endo-beta-1,3-1,4 glucanase (licheninase) [Ba...</td>\n",
       "      <td>gi|10175855|dbj|BAB06951.1|</td>\n",
       "    </tr>\n",
       "    <tr>\n",
       "      <th>2231</th>\n",
       "      <td>MKRKWQKLLSILSVWMILFASFAPSIAGAAEANSLANGEYTIDFKV...</td>\n",
       "      <td>-124.475843</td>\n",
       "      <td>BH3298~unknown [Bacillus halodurans]</td>\n",
       "      <td>gi|10175921|dbj|BAB07017.1|</td>\n",
       "    </tr>\n",
       "    <tr>\n",
       "      <th>1503</th>\n",
       "      <td>MKALLIKLSIGLLLLLMFLPVALWYLKEPTELQVTILDKTVPDETY...</td>\n",
       "      <td>-121.537502</td>\n",
       "      <td>BH2230~unknown [Bacillus halodurans]</td>\n",
       "      <td>gi|10174849|dbj|BAB05949.1|</td>\n",
       "    </tr>\n",
       "    <tr>\n",
       "      <th>...</th>\n",
       "      <td>...</td>\n",
       "      <td>...</td>\n",
       "      <td>...</td>\n",
       "      <td>...</td>\n",
       "    </tr>\n",
       "    <tr>\n",
       "      <th>44</th>\n",
       "      <td>MKIKEMIVVEGRDDTIAIQRAVNADTIETNGSAVNEETLKRIALAQ...</td>\n",
       "      <td>-0.057205</td>\n",
       "      <td>BH0056~unknown conserved protein [Bacillus ha...</td>\n",
       "      <td>gi|10172668|dbj|BAB03775.1|</td>\n",
       "    </tr>\n",
       "    <tr>\n",
       "      <th>243</th>\n",
       "      <td>MISFQQVTKKYRQKAALQEVNLELTRGKIIGLVGENGSGKSTTLKL...</td>\n",
       "      <td>-0.052113</td>\n",
       "      <td>ABC transporter (ATP-binding protein) [Bacill...</td>\n",
       "      <td>gi|10172995|dbj|BAB04101.1|</td>\n",
       "    </tr>\n",
       "    <tr>\n",
       "      <th>2003</th>\n",
       "      <td>MIEFKNVSLVYPNGTQGLKDVNLKINEGEFVVIVGLSGAGKSTLIR...</td>\n",
       "      <td>-0.049484</td>\n",
       "      <td>alkylphosphonate ABC tranporter (ATP-binding ...</td>\n",
       "      <td>gi|10175596|dbj|BAB06693.1|</td>\n",
       "    </tr>\n",
       "    <tr>\n",
       "      <th>2353</th>\n",
       "      <td>MQQQSFMQSGQQQGVMPQPPQVITVKDQLYITDMLSWNLLACKKAH...</td>\n",
       "      <td>-0.022177</td>\n",
       "      <td>BH3489~unknown [Bacillus halodurans]</td>\n",
       "      <td>gi|10176113|dbj|BAB07208.1|</td>\n",
       "    </tr>\n",
       "    <tr>\n",
       "      <th>1928</th>\n",
       "      <td>MFDLDFILSVITIIGIDLILGGDNAIVVALACRHLPKQQRNKAIMI...</td>\n",
       "      <td>-0.019926</td>\n",
       "      <td>BH2860~unknown conserved protein [Bacillus ha...</td>\n",
       "      <td>gi|10175481|dbj|BAB06579.1|</td>\n",
       "    </tr>\n",
       "  </tbody>\n",
       "</table>\n",
       "<p>2740 rows × 4 columns</p>\n",
       "</div>"
      ],
      "text/plain": [
       "                                               sequence  Charge at pH 6.9  \\\n",
       "1362  MKHLSNKLLLLAMVAVLISHTFLASIGLPLQAIANATANVFTNVEL...       -230.287158   \n",
       "228   MKTLKHISYKLRIFALIALLISQTLLTSLSLPFQAVANSEKSGLTN...       -182.611985   \n",
       "2185  MVKSKFLVLFSVFSLLFGVFVVGFSHQGVKAEEERPMGTAFYESFD...       -129.620780   \n",
       "2231  MKRKWQKLLSILSVWMILFASFAPSIAGAAEANSLANGEYTIDFKV...       -124.475843   \n",
       "1503  MKALLIKLSIGLLLLLMFLPVALWYLKEPTELQVTILDKTVPDETY...       -121.537502   \n",
       "...                                                 ...               ...   \n",
       "44    MKIKEMIVVEGRDDTIAIQRAVNADTIETNGSAVNEETLKRIALAQ...         -0.057205   \n",
       "243   MISFQQVTKKYRQKAALQEVNLELTRGKIIGLVGENGSGKSTTLKL...         -0.052113   \n",
       "2003  MIEFKNVSLVYPNGTQGLKDVNLKINEGEFVVIVGLSGAGKSTLIR...         -0.049484   \n",
       "2353  MQQQSFMQSGQQQGVMPQPPQVITVKDQLYITDMLSWNLLACKKAH...         -0.022177   \n",
       "1928  MFDLDFILSVITIIGIDLILGGDNAIVVALACRHLPKQQRNKAIMI...         -0.019926   \n",
       "\n",
       "                                            description  \\\n",
       "1362               BH2014~unknown [Bacillus halodurans]   \n",
       "228                BH0361~unknown [Bacillus halodurans]   \n",
       "2185   endo-beta-1,3-1,4 glucanase (licheninase) [Ba...   \n",
       "2231               BH3298~unknown [Bacillus halodurans]   \n",
       "1503               BH2230~unknown [Bacillus halodurans]   \n",
       "...                                                 ...   \n",
       "44     BH0056~unknown conserved protein [Bacillus ha...   \n",
       "243    ABC transporter (ATP-binding protein) [Bacill...   \n",
       "2003   alkylphosphonate ABC tranporter (ATP-binding ...   \n",
       "2353               BH3489~unknown [Bacillus halodurans]   \n",
       "1928   BH2860~unknown conserved protein [Bacillus ha...   \n",
       "\n",
       "                               ID  \n",
       "1362  gi|10174633|dbj|BAB05733.1|  \n",
       "228   gi|10172974|dbj|BAB04080.1|  \n",
       "2185  gi|10175855|dbj|BAB06951.1|  \n",
       "2231  gi|10175921|dbj|BAB07017.1|  \n",
       "1503  gi|10174849|dbj|BAB05949.1|  \n",
       "...                           ...  \n",
       "44    gi|10172668|dbj|BAB03775.1|  \n",
       "243   gi|10172995|dbj|BAB04101.1|  \n",
       "2003  gi|10175596|dbj|BAB06693.1|  \n",
       "2353  gi|10176113|dbj|BAB07208.1|  \n",
       "1928  gi|10175481|dbj|BAB06579.1|  \n",
       "\n",
       "[2740 rows x 4 columns]"
      ]
     },
     "execution_count": 33,
     "metadata": {},
     "output_type": "execute_result"
    }
   ],
   "source": [
    "#Converting modified fasta into a pd dataframe to show filter at work, preset file name used for simplicity\n",
    "\n",
    "data = defaultdict(list)\n",
    "\n",
    "\n",
    "protcharge = []\n",
    "prot_desc = []\n",
    "prot_name = []\n",
    "prot_id = []\n",
    "with open(os.path.join(data_folder,filename.replace(\".faa\",\"\")+\"_fractions.faa\")) as protfile:\n",
    "  for record in SeqIO.parse(protfile,\"fasta\"):\n",
    "    sequence = str(record.seq)\n",
    "    data['sequence'].append(sequence)\n",
    "    protparams = PA(sequence)\n",
    "    protcharge.append(protparams.charge_at_pH(pHslider.value))\n",
    "    prot_desc.append(str(record.description.replace(record.id,\"\")))\n",
    "    prot_id.append(str(record.id))\n",
    "\n",
    "\n",
    "df = pd.DataFrame.from_dict(data)\n",
    "df['Charge at pH '+str(pHslider.value)] = protcharge\n",
    "df['description'] = prot_desc\n",
    "df['ID'] = prot_id\n",
    "\n",
    "df.sort_values(by=['Charge at pH '+str(pHslider.value)], inplace=True, ascending = bool(int(geldict[gelselect.value]) == -1))\n",
    "df#.head(10)"
   ]
  },
  {
   "cell_type": "code",
   "execution_count": 7,
   "id": "75d739cb",
   "metadata": {
    "tags": []
   },
   "outputs": [
    {
     "data": {
      "text/html": [
       "<div>\n",
       "<style scoped>\n",
       "    .dataframe tbody tr th:only-of-type {\n",
       "        vertical-align: middle;\n",
       "    }\n",
       "\n",
       "    .dataframe tbody tr th {\n",
       "        vertical-align: top;\n",
       "    }\n",
       "\n",
       "    .dataframe thead th {\n",
       "        text-align: right;\n",
       "    }\n",
       "</style>\n",
       "<table border=\"1\" class=\"dataframe\">\n",
       "  <thead>\n",
       "    <tr style=\"text-align: right;\">\n",
       "      <th></th>\n",
       "      <th>sequence</th>\n",
       "      <th>MW</th>\n",
       "      <th>description</th>\n",
       "      <th>ID</th>\n",
       "    </tr>\n",
       "  </thead>\n",
       "  <tbody>\n",
       "  </tbody>\n",
       "</table>\n",
       "</div>"
      ],
      "text/plain": [
       "Empty DataFrame\n",
       "Columns: [sequence, MW, description, ID]\n",
       "Index: []"
      ]
     },
     "execution_count": 7,
     "metadata": {},
     "output_type": "execute_result"
    }
   ],
   "source": [
    "nfractions = 7\n",
    "fraclen = round(len(df)/nfractions)\n",
    "for n in range(nfractions - 1):\n",
    "    fracrecords = []\n",
    "    tempdf = df.iloc[n*fraclen:(n+1)*fraclen]\n",
    "    for index  in tempdf.index:\n",
    "        record = SeqRecord(Seq(tempdf['sequence'][index]),id=str(tempdf[\"ID\"][index]),description=tempdf[\"description\"][index])\n",
    "        fracrecords.append(record)\n",
    "    SeqIO.write(fracrecords,os.path.join(data_folder,filename.replace(\".faa\",\"\")+\"_fraction\"+ str(n+1) + \".faa\"),\"fasta\")\n",
    "\n",
    "tempdf = df.iloc[(nfractions-1)*fraclen:]\n",
    "remainderrecord = []\n",
    "for index  in tempdf.index:\n",
    "        record = SeqRecord(Seq(tempdf['sequence'][index]),id=str(tempdf[\"ID\"][index]),description=tempdf[\"description\"][index])\n",
    "        remainderrecord.append(record)\n",
    "SeqIO.write(remainderrecord,os.path.join(data_folder,filename.replace(\".faa\",\"\")+\"_fraction\"+ str(nfractions) + \".faa\"),\"fasta\")\n",
    "tempdf"
   ]
  },
  {
   "cell_type": "code",
   "execution_count": 1,
   "id": "7463f1e9",
   "metadata": {},
   "outputs": [
    {
     "name": "stdout",
     "output_type": "stream",
     "text": [
      "test (in parantheses)\n"
     ]
    }
   ],
   "source": [
    "print(\"test (in parantheses)\")"
   ]
  },
  {
   "cell_type": "code",
   "execution_count": null,
   "id": "b0619ea7",
   "metadata": {},
   "outputs": [],
   "source": []
  }
 ],
 "metadata": {
  "kernelspec": {
   "display_name": "Python 3 (ipykernel)",
   "language": "python",
   "name": "python3"
  },
  "language_info": {
   "codemirror_mode": {
    "name": "ipython",
    "version": 3
   },
   "file_extension": ".py",
   "mimetype": "text/x-python",
   "name": "python",
   "nbconvert_exporter": "python",
   "pygments_lexer": "ipython3",
   "version": "3.11.3"
  }
 },
 "nbformat": 4,
 "nbformat_minor": 5
}
