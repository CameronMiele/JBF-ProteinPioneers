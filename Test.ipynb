{
 "cells": [
  {
   "cell_type": "markdown",
   "id": "6d42ab48-2e29-4e08-a0bc-9d1d671ce476",
   "metadata": {},
   "source": [
    "## Test Page"
   ]
  },
  {
   "cell_type": "code",
   "execution_count": 1,
   "id": "4a888a91-8e0f-4a29-91ba-84e2bb00d89f",
   "metadata": {
    "tags": []
   },
   "outputs": [],
   "source": [
    "x = 10 + 15"
   ]
  },
  {
   "cell_type": "code",
   "execution_count": 2,
   "id": "59a507df-631a-4357-9f85-2b9310da1f13",
   "metadata": {
    "tags": []
   },
   "outputs": [],
   "source": [
    "y = x - 10"
   ]
  },
  {
   "cell_type": "code",
   "execution_count": 4,
   "id": "12236c5b-85ba-45ff-b3c4-eaa9a5eb6fb4",
   "metadata": {
    "tags": []
   },
   "outputs": [
    {
     "name": "stdout",
     "output_type": "stream",
     "text": [
      "15\n"
     ]
    }
   ],
   "source": [
    "print(y)"
   ]
  },
  {
   "cell_type": "code",
   "execution_count": null,
   "id": "469a7bc7-ea40-4383-a1c9-1fb7fa7bfe30",
   "metadata": {},
   "outputs": [],
   "source": []
  }
 ],
 "metadata": {
  "kernelspec": {
   "display_name": "Python 3 (ipykernel)",
   "language": "python",
   "name": "python3"
  },
  "language_info": {
   "codemirror_mode": {
    "name": "ipython",
    "version": 3
   },
   "file_extension": ".py",
   "mimetype": "text/x-python",
   "name": "python",
   "nbconvert_exporter": "python",
   "pygments_lexer": "ipython3",
   "version": "3.11.5"
  }
 },
 "nbformat": 4,
 "nbformat_minor": 5
}
