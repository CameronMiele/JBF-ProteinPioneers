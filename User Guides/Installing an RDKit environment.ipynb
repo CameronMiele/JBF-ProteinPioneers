{
 "cells": [
  {
   "cell_type": "markdown",
   "id": "fe09868f-c1b1-43d3-9a23-1acd9cc03f90",
   "metadata": {},
   "source": [
    "# How to install rdkit from scratch"
   ]
  },
  {
   "cell_type": "markdown",
   "id": "1fb376b1-e2c7-4845-8f6c-1e6c2d240738",
   "metadata": {},
   "source": [
    "To create an initial environment open the Anaconda prompt and type"
   ]
  },
  {
   "cell_type": "raw",
   "id": "6c8f9dfa-5f69-4cb6-bac3-7c20e804ebb5",
   "metadata": {},
   "source": [
    "conda create -c conda-forge -n <YOUR-ENVIRONMENT-NAME> rdkit"
   ]
  },
  {
   "cell_type": "markdown",
   "id": "ac01b88a-d9c8-4de1-bcca-472200e1e5dd",
   "metadata": {},
   "source": [
    "then activate the new environment with"
   ]
  },
  {
   "cell_type": "raw",
   "id": "17e6e8d8-3106-49df-96bf-b8fc0169289a",
   "metadata": {},
   "source": [
    "conda activate <YOUR-ENVIRONMENT-NAME>"
   ]
  },
  {
   "cell_type": "markdown",
   "id": "75dd99ff-1e4a-44d9-a8b5-bec50dd106f5",
   "metadata": {},
   "source": [
    "to access JupyterLab on the new environment you can either install it from the Anaconda Navigator or use the command"
   ]
  },
  {
   "cell_type": "raw",
   "id": "d57b5788-8327-435d-92bf-a045c00b10d1",
   "metadata": {},
   "source": [
    "conda install -c conda-forge jupyterlab"
   ]
  },
  {
   "cell_type": "markdown",
   "id": "c31ff665-e1e7-4b4c-9770-c81fb086d206",
   "metadata": {},
   "source": [
    "If you run into conflicts while installing, try adjusting channel priority. The channel priority config can be viewed with"
   ]
  },
  {
   "cell_type": "raw",
   "id": "3a7122d6-6732-453c-ac21-090ede571873",
   "metadata": {},
   "source": [
    "conda config --describe channel-priority"
   ]
  },
  {
   "cell_type": "markdown",
   "id": "f542a93a-14da-4143-b667-4efb7bf9299f",
   "metadata": {},
   "source": [
    "try setting it to disabled with"
   ]
  },
  {
   "cell_type": "raw",
   "id": "f5f54ddc-2276-45b8-98ae-f2d260ea0862",
   "metadata": {},
   "source": [
    "conda config --set channel_priority disabled"
   ]
  },
  {
   "cell_type": "markdown",
   "id": "54595c58-47f9-4fe3-886d-45a8e319a4f5",
   "metadata": {},
   "source": [
    "You can also check what version of python you're using with"
   ]
  },
  {
   "cell_type": "raw",
   "id": "f2e67c89-0da1-4c7e-ac9b-d3da5d5e3ac5",
   "metadata": {},
   "source": [
    "python --version"
   ]
  },
  {
   "cell_type": "markdown",
   "id": "6b27a7a9-d785-4f22-a621-397395dddd07",
   "metadata": {},
   "source": [
    "To update to a newer version use"
   ]
  },
  {
   "cell_type": "raw",
   "id": "6665e646-62e7-4e59-89c8-f74e47d1e850",
   "metadata": {},
   "source": [
    "conda install -c conda-forge python=<VERSION-NUMBER>"
   ]
  },
  {
   "cell_type": "markdown",
   "id": "f6ebf96f-e162-4302-8e9b-bbaae23a32c4",
   "metadata": {},
   "source": [
    "# Installing an environment from a file"
   ]
  },
  {
   "cell_type": "markdown",
   "id": "037bd7aa-20f1-48ec-9f43-f55ac48c8433",
   "metadata": {},
   "source": [
    "With this notebook there is also the file rdkit-env.yml which can be used to create a working environment. To use the .yml file, ensure the file is in the working directory and enter"
   ]
  },
  {
   "cell_type": "raw",
   "id": "be1966a2-363a-4be3-8f13-e1fa96b9c261",
   "metadata": {},
   "source": [
    "conda env create -f rdkit-env.yml"
   ]
  }
 ],
 "metadata": {
  "kernelspec": {
   "display_name": "Python 3 (ipykernel)",
   "language": "python",
   "name": "python3"
  },
  "language_info": {
   "codemirror_mode": {
    "name": "ipython",
    "version": 3
   },
   "file_extension": ".py",
   "mimetype": "text/x-python",
   "name": "python",
   "nbconvert_exporter": "python",
   "pygments_lexer": "ipython3",
   "version": "3.11.4"
  }
 },
 "nbformat": 4,
 "nbformat_minor": 5
}
