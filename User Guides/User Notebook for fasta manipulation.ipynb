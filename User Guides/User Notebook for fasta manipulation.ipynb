{
 "cells": [
  {
   "cell_type": "markdown",
   "id": "f775fa7e-54a0-46fe-9649-0e3b28d66bc5",
   "metadata": {
    "tags": []
   },
   "source": [
    "# Reading and Writing FASTA in Python\n",
    "The purpose of this notebook is to demonstrate how to import, read and interpret data from FASTA format protein files. It "
   ]
  },
  {
   "cell_type": "code",
   "execution_count": null,
   "id": "a18d29fb-b5b4-44ed-b856-c0fb7bbc1ea3",
   "metadata": {},
   "outputs": [],
   "source": []
  }
 ],
 "metadata": {
  "kernelspec": {
   "display_name": "Python 3",
   "language": "python",
   "name": "python3"
  },
  "language_info": {
   "codemirror_mode": {
    "name": "ipython",
    "version": 3
   },
   "file_extension": ".py",
   "mimetype": "text/x-python",
   "name": "python",
   "nbconvert_exporter": "python",
   "pygments_lexer": "ipython3",
   "version": "3.8.8"
  }
 },
 "nbformat": 4,
 "nbformat_minor": 5
}
