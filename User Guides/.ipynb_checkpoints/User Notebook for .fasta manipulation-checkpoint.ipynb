{
 "cells": [
  {
   "cell_type": "markdown",
   "id": "f775fa7e-54a0-46fe-9649-0e3b28d66bc5",
   "metadata": {
    "tags": []
   },
   "source": [
    "# Reading and Writing FASTA in Python\n",
    "The purpose of this notebook is to demonstrate how to import, read and interpret data from FASTA format protein files, as well as to sort data, and to rewrite that data into other formats. "
   ]
  },
  {
   "cell_type": "markdown",
   "id": "c0132e30-495d-41c4-b4df-9bf79e5c01e6",
   "metadata": {},
   "source": [
    "## Libraries Used\n",
    "For this notebook the following Python libraries will be used.\n",
    "\n",
    "| Library | Uses | Abbreviation |\n",
    "| :-------: | :----: | :------------: |\n",
    "| os | File management | os |\n",
    "| Bio.SeqIO | Parsing FASTA files | SeqIO |\n",
    "| Bio.SeqUtils.IsoelectricPoint | Calculating isoelectric point<br />and protein charge | IP |\n",
    "| Bio.SeqUtils.ProtParam | Other protein calculations | PA |\n",
    "| pandas | Managing data | pd |\n",
    "| collections.defaultdict | Ease of use converting files<br />(Not strictly necessary) | defaultdict |"
   ]
  },
  {
   "cell_type": "code",
   "execution_count": 2,
   "id": "0fdcbc97-90e4-498c-8c8e-184147e646de",
   "metadata": {},
   "outputs": [],
   "source": [
    "import os\n",
    "from Bio import SeqIO\n",
    "from Bio.SeqUtils.IsoelectricPoint import IsoelectricPoint as IP\n",
    "from Bio.SeqUtils.ProtParam import ProteinAnalysis as PA\n",
    "import pandas as pd\n",
    "from collections import defaultdict"
   ]
  },
  {
   "cell_type": "markdown",
   "id": "81369e90-4435-49fd-a310-2b0080a1abd2",
   "metadata": {},
   "source": [
    "## What is FASTA?\n",
    "The FASTA format (.fasta, .faa, .fa) is a text-based way of representing nucleotide or protein sequences using single letters to represent each residue in the chain. Each entry begins with a greater-than symbol ('>') to indicate a new sequence. This is then followed by a description line, which will typically contain a sequence ID and additional information about the origin, purpose and properties of the sequence. An example description might look like this (via NCBI):"
   ]
  },
  {
   "cell_type": "raw",
   "id": "d8c3a8c3-9eaa-4de6-a4d2-33afcff4d136",
   "metadata": {},
   "source": [
    "›SeqABCD [organism=Mus musculus] [strain=C57BL/6] Mus musculus neuropilin 1 (Nrp1) mRNA, complete cds."
   ]
  },
  {
   "cell_type": "markdown",
   "id": "a0cc91c0-4aaa-446e-b98e-eed3488cc347",
   "metadata": {},
   "source": [
    "Below the description line comes the sequence which will consist of anywhere from a few dozen to a few thousand residues. For readability purposes, typically each line will only contain a certain amount of characters. Each residue is represented by a capital letter, with the meaning of each depending on if the file is representing a protein or nucleic acid sequence. The meanings of each character can be found [here](https://en.wikipedia.org/wiki/FASTA_format#Sequence_representation).\n",
    "\n",
    "A complete protein sequence in a FASTA file might look like:"
   ]
  },
  {
   "cell_type": "raw",
   "id": "16e86095-7c57-487b-81fd-18804cbf44cc",
   "metadata": {},
   "source": [
    ">sp|Q8ZAU8|AAEB_YERPE p-hydroxybenzoic acid efflux pump subunit AaeB OS=Yersinia pestis GN=aaeB PE=3 SV=1\n",
    "MTHPSFIRLRFAFKLSFAIVAALFLGFHLQLETPRWSVLTAAIVSAGPAFAAGGEPFSGA\n",
    "IRHRGWLRIIGTFIGCIGGLVIIVLTIRAPVLTLMLCCLWAGICTWISSLVRVENSYAFG\n",
    "LAGYTALIIIVTTGETPLLTPQFAVERCSEIVLGIVCAVMADLLFSPRSIKQDIDRLVDK\n",
    "VLVDQYRLLQLCIQPAEKSEIDRAWNELVKNTTSLNGMRSYLMMESSRWQRCNRRLQVLH\n",
    "TESLALITQACETYLVMSNHPEVISAELKTMLSEPAQTPAEIHQQMKKLRQFIAASHSEA\n",
    "IPHTISSWVGAATRYLLLSKGIQTNSSINQVEEDILAGDAPVKPISAEGHHAMINGLRTG\n",
    "IATAIGGLFWLWTGWTSGAGCMVMIAVVTSLAMRTPNPRRMALDFLVGVIIALPIGALYF\n",
    "MFIIPSTQQSMLLLCISLGVLAFIIGIEVQKRRLGSLGTLASTINIIVLSNPMIFNVRQF\n",
    "LDSALGQIVGCFVSLIVLLLIRDNAKDRTGRTLLNRFVYSAVSALTTNKTKRGENHLPAL\n",
    "YQQLNQLLMMFPADIDKYRLALTLIIAHQRLNRTEIPVNAELSAFHKQIRSTAERVITVN\n",
    "NDQKRRYYFARLLQELDQYQQKLVDYQAADAVIRPVKRLTEMLRKYQSALI"
   ]
  },
  {
   "cell_type": "markdown",
   "id": "d5b46199-3c8d-499d-a0a5-3f08f3c3b3cd",
   "metadata": {},
   "source": [
    "## Reading a FASTA file\n",
    "For this notebook, the proteome of the species *Streptococcus pyogenes* will be used as our data set. The file is stored in the directory \"data\" under the name *Streptococcus_pyogenes.faa*. "
   ]
  },
  {
   "cell_type": "code",
   "execution_count": null,
   "id": "2e9a4af1-71cb-430c-ba85-729403b8519a",
   "metadata": {},
   "outputs": [],
   "source": [
    "with open"
   ]
  }
 ],
 "metadata": {
  "kernelspec": {
   "display_name": "Python 3",
   "language": "python",
   "name": "python3"
  },
  "language_info": {
   "codemirror_mode": {
    "name": "ipython",
    "version": 3
   },
   "file_extension": ".py",
   "mimetype": "text/x-python",
   "name": "python",
   "nbconvert_exporter": "python",
   "pygments_lexer": "ipython3",
   "version": "3.8.8"
  }
 },
 "nbformat": 4,
 "nbformat_minor": 5
}
