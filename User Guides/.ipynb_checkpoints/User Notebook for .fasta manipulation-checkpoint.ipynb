{
 "cells": [
  {
   "cell_type": "markdown",
   "id": "f775fa7e-54a0-46fe-9649-0e3b28d66bc5",
   "metadata": {
    "tags": []
   },
   "source": [
    "# Reading and Writing FASTA in Python\n",
    "The purpose of this notebook is to demonstrate how to import, read and interpret data from FASTA format protein files, as well as to sort data, and to rewrite that data into other formats. "
   ]
  },
  {
   "cell_type": "markdown",
   "id": "c0132e30-495d-41c4-b4df-9bf79e5c01e6",
   "metadata": {},
   "source": [
    "## Libraries Used\n",
    "For this notebook the following Python libraries will be used.\n",
    "\n",
    "| Library | Uses | Abbreviation |\n",
    "| :-------: | :----: | :------------: |\n",
    "| os | File management | os |\n",
    "| Bio.SeqIO | Parsing FASTA files | SeqIO |\n",
    "| Bio.SeqUtils.ProtParam | Protein calculations | PA |\n",
    "| pandas | Managing data | pd |"
   ]
  },
  {
   "cell_type": "code",
   "execution_count": 1,
   "id": "0fdcbc97-90e4-498c-8c8e-184147e646de",
   "metadata": {},
   "outputs": [],
   "source": [
    "import os\n",
    "from Bio import SeqIO\n",
    "from Bio.SeqUtils.ProtParam import ProteinAnalysis as PA\n",
    "import pandas as pd\n",
    "from IPython.display import Image"
   ]
  },
  {
   "cell_type": "markdown",
   "id": "fe160d51-73e6-445a-b0de-cb2ed758c307",
   "metadata": {},
   "source": [
    "## Why are FASTA necessary\n",
    "FASTA is a standard file format when working with bioinformatic data. It is also the format accepted by the JBioframework 1D and 2D Electrophoresis simulations."
   ]
  },
  {
   "cell_type": "markdown",
   "id": "390eb7f3-ad00-4f19-b841-94e1790192b9",
   "metadata": {},
   "source": [
    "<img src=\"Images/1DE.png\" height=\"100\"/>"
   ]
  },
  {
   "cell_type": "markdown",
   "id": "81369e90-4435-49fd-a310-2b0080a1abd2",
   "metadata": {},
   "source": [
    "## What is FASTA?\n",
    "The FASTA format (.fasta, .faa, .fa) is a text-based way of representing nucleotide or protein sequences using single letters to represent each residue in the chain. Each entry begins with a greater-than symbol ('>') to indicate a new sequence. This is then followed by a description line, which will typically contain a sequence ID and additional information about the origin, purpose and properties of the sequence. An example description might look like this (via NCBI):"
   ]
  },
  {
   "cell_type": "raw",
   "id": "d8c3a8c3-9eaa-4de6-a4d2-33afcff4d136",
   "metadata": {},
   "source": [
    "›SeqABCD [organism=Mus musculus] [strain=C57BL/6] Mus musculus neuropilin 1 (Nrp1) mRNA, complete cds."
   ]
  },
  {
   "cell_type": "markdown",
   "id": "a0cc91c0-4aaa-446e-b98e-eed3488cc347",
   "metadata": {},
   "source": [
    "Below the description line comes the sequence which will consist of anywhere from a few dozen to a few thousand residues. For readability purposes, typically each line will only contain a certain amount of characters. Each residue is represented by a capital letter, with the meaning of each depending on if the file is representing a protein or nucleic acid sequence. The meanings of each character can be found [here](https://en.wikipedia.org/wiki/FASTA_format#Sequence_representation).\n",
    "\n",
    "A complete protein sequence in a FASTA file might look like:"
   ]
  },
  {
   "cell_type": "raw",
   "id": "16e86095-7c57-487b-81fd-18804cbf44cc",
   "metadata": {},
   "source": [
    ">sp|Q8ZAU8|AAEB_YERPE p-hydroxybenzoic acid efflux pump subunit AaeB OS=Yersinia pestis GN=aaeB PE=3 SV=1\n",
    "MTHPSFIRLRFAFKLSFAIVAALFLGFHLQLETPRWSVLTAAIVSAGPAFAAGGEPFSGA\n",
    "IRHRGWLRIIGTFIGCIGGLVIIVLTIRAPVLTLMLCCLWAGICTWISSLVRVENSYAFG\n",
    "LAGYTALIIIVTTGETPLLTPQFAVERCSEIVLGIVCAVMADLLFSPRSIKQDIDRLVDK\n",
    "VLVDQYRLLQLCIQPAEKSEIDRAWNELVKNTTSLNGMRSYLMMESSRWQRCNRRLQVLH\n",
    "TESLALITQACETYLVMSNHPEVISAELKTMLSEPAQTPAEIHQQMKKLRQFIAASHSEA\n",
    "IPHTISSWVGAATRYLLLSKGIQTNSSINQVEEDILAGDAPVKPISAEGHHAMINGLRTG\n",
    "IATAIGGLFWLWTGWTSGAGCMVMIAVVTSLAMRTPNPRRMALDFLVGVIIALPIGALYF\n",
    "MFIIPSTQQSMLLLCISLGVLAFIIGIEVQKRRLGSLGTLASTINIIVLSNPMIFNVRQF\n",
    "LDSALGQIVGCFVSLIVLLLIRDNAKDRTGRTLLNRFVYSAVSALTTNKTKRGENHLPAL\n",
    "YQQLNQLLMMFPADIDKYRLALTLIIAHQRLNRTEIPVNAELSAFHKQIRSTAERVITVN\n",
    "NDQKRRYYFARLLQELDQYQQKLVDYQAADAVIRPVKRLTEMLRKYQSALI"
   ]
  },
  {
   "cell_type": "markdown",
   "id": "d5b46199-3c8d-499d-a0a5-3f08f3c3b3cd",
   "metadata": {},
   "source": [
    "## Reading a FASTA file\n",
    "For this notebook, the proteome of the species *Streptococcus pyogenes* will be used as our data set. The file is stored in the directory \"data\" under the name *Streptococcus_pyogenes.faa*.\n",
    "\n",
    "The Bio.SeqIO library can iterate through a FASTA file using the .parse() method, which returns an iteratable set of SeqRecord objects. The following code will print out the first SeqRecord of the file"
   ]
  },
  {
   "cell_type": "code",
   "execution_count": 2,
   "id": "2e9a4af1-71cb-430c-ba85-729403b8519a",
   "metadata": {},
   "outputs": [
    {
     "name": "stdout",
     "output_type": "stream",
     "text": [
      "ID: ERL19293\n",
      "Name: ERL19293\n",
      "Description: ERL19293 pep supercontig:SpyogGA06023v1.0:contig00001:421:1035:1 gene:HMPREF1231_2265 transcript:ERL19293 gene_biotype:protein_coding transcript_biotype:protein_coding description:SNARE-like domain protein\n",
      "Number of features: 0\n",
      "Seq('MTKRNSKAYILWQKIIKILGIIALIGTFFLAFWLYRLGILNDSNALKDLVQRYR...LQH')\n"
     ]
    }
   ],
   "source": [
    "with open(\"data/Streptococcus_pyogenes.faa\") as prot_file:\n",
    "    parsed = SeqIO.parse(prot_file,\"fasta\")\n",
    "    for record in parsed:\n",
    "        print(record)\n",
    "        break"
   ]
  },
  {
   "cell_type": "markdown",
   "id": "e0ff91a6-a176-4c6f-a6cd-639761124bc1",
   "metadata": {},
   "source": [
    "When pulling from a FASTA file, a SeqRecord will be populated with:\n",
    "- **seq** - The amino acid sequence of the protein, stored as a biopython Seq object.\n",
    "- **id** - The first word of the first line of the entry with the \">\" removed.\n",
    "- **name** - Same as **id** when reading a FASTA.\n",
    "- **description** - The entire first line of the entry with the \">\" removed.\n"
   ]
  },
  {
   "cell_type": "code",
   "execution_count": 3,
   "id": "6a88672b-3de5-4a8a-8121-3907d9748800",
   "metadata": {},
   "outputs": [
    {
     "name": "stdout",
     "output_type": "stream",
     "text": [
      "Sequence: MTKRNSKAYILWQKIIKILGIIALIGTFFLAFWLYRLGILNDSNALKDLVQRYRLWGPFVFIVVQIIQIVFPVIPGGLTTVAGFLIFGPVTGFIYNYVGIIIGSIVLFLLVKTYGRKFILLFVNDKTFYKYERRLETPGYEKLFIFCMASPVSPADIMVMITGLTDMSLKRFVTILLITKPISIIGYSYLFIFGKDVISWFLQH\n",
      "ID: ERL19293\n",
      "Name: ERL19293\n",
      "Description: ERL19293 pep supercontig:SpyogGA06023v1.0:contig00001:421:1035:1 gene:HMPREF1231_2265 transcript:ERL19293 gene_biotype:protein_coding transcript_biotype:protein_coding description:SNARE-like domain protein\n"
     ]
    }
   ],
   "source": [
    "with open(\"data/Streptococcus_pyogenes.faa\",\"r\") as prot_file:\n",
    "    parsed = SeqIO.parse(prot_file,\"fasta\")\n",
    "    for record in parsed:\n",
    "        sample_record = record\n",
    "        break\n",
    "\n",
    "print(f\"Sequence: {str(sample_record.seq)}\")\n",
    "print(f\"ID: {sample_record.id}\")\n",
    "print(f\"Name: {sample_record.name}\")\n",
    "print(f\"Description: {sample_record.description}\")"
   ]
  },
  {
   "cell_type": "markdown",
   "id": "1e403ad3-aaf7-45a7-8b1c-d5c5f43e40c6",
   "metadata": {},
   "source": [
    "The SeqRecord object also has the attributes **.dbxrefs**, **.annotations**, **.letter_annotations**, and **.features**, but when pulling from a FASTA none of these attributes will be populated. As such the following code will return empty values."
   ]
  },
  {
   "cell_type": "code",
   "execution_count": 4,
   "id": "a10dd6fc-1cd0-4e84-819f-322817bed6f0",
   "metadata": {},
   "outputs": [
    {
     "name": "stdout",
     "output_type": "stream",
     "text": [
      "dbxrefs: []\n",
      "annotations: {}\n",
      "letter_annotations: {}\n",
      "features: []\n"
     ]
    }
   ],
   "source": [
    "print(f\"dbxrefs: {sample_record.dbxrefs}\")\n",
    "print(f\"annotations: {sample_record.annotations}\")\n",
    "print(f\"letter_annotations: {sample_record.letter_annotations}\")\n",
    "print(f\"features: {sample_record.features}\")"
   ]
  },
  {
   "cell_type": "markdown",
   "id": "bbd60f5e-6cc6-4949-80ea-8c573959192c",
   "metadata": {},
   "source": [
    "## Pulling data from a FASTA file\n",
    "Using the .parse() method, whatever data is deemed necessary can be copied into a relevant variable. In order to be compatible with a pandas dataframe, the data will be compiled into a dictionary with each piece of data being appended to a list within the dictionary."
   ]
  },
  {
   "cell_type": "code",
   "execution_count": 5,
   "id": "fbf1ce11-abcd-47ae-9a95-5300ba159e91",
   "metadata": {},
   "outputs": [],
   "source": [
    "datadict = {\n",
    "    'sequence' : [],\n",
    "    'description' : [],\n",
    "    'length' : []\n",
    "}\n",
    "\n",
    "with open(\"data/Streptococcus_pyogenes.faa\",\"r\") as prot_file:\n",
    "    for record in SeqIO.parse(prot_file,\"fasta\"):\n",
    "        sequence = str(record.seq)  #It is not strictly necessary to record the sequence as a string, but it is easier to work with and displays better. (Ex:len() does not work on Seq objects)\n",
    "        datadict['sequence'].append(sequence)\n",
    "        datadict['description'].append(record.description)\n",
    "        datadict['length'].append(len(sequence))"
   ]
  },
  {
   "cell_type": "markdown",
   "id": "29cf7f42-4745-483a-a7b2-ff05b3dda683",
   "metadata": {},
   "source": [
    "By formatting the data this way it can be displayed into a pandas dataframe using **pd.DataFrame.from_dict()**. This command will make each key of the dictionary into a column index and the contents of each list into the data of that column."
   ]
  },
  {
   "cell_type": "code",
   "execution_count": 6,
   "id": "ad7e3bca-55cb-49c7-aaf7-421081672c11",
   "metadata": {},
   "outputs": [
    {
     "data": {
      "text/html": [
       "<div>\n",
       "<style scoped>\n",
       "    .dataframe tbody tr th:only-of-type {\n",
       "        vertical-align: middle;\n",
       "    }\n",
       "\n",
       "    .dataframe tbody tr th {\n",
       "        vertical-align: top;\n",
       "    }\n",
       "\n",
       "    .dataframe thead th {\n",
       "        text-align: right;\n",
       "    }\n",
       "</style>\n",
       "<table border=\"1\" class=\"dataframe\">\n",
       "  <thead>\n",
       "    <tr style=\"text-align: right;\">\n",
       "      <th></th>\n",
       "      <th>sequence</th>\n",
       "      <th>description</th>\n",
       "      <th>length</th>\n",
       "    </tr>\n",
       "  </thead>\n",
       "  <tbody>\n",
       "    <tr>\n",
       "      <th>0</th>\n",
       "      <td>MTKRNSKAYILWQKIIKILGIIALIGTFFLAFWLYRLGILNDSNAL...</td>\n",
       "      <td>ERL19293 pep supercontig:SpyogGA06023v1.0:cont...</td>\n",
       "      <td>204</td>\n",
       "    </tr>\n",
       "    <tr>\n",
       "      <th>1</th>\n",
       "      <td>MFGKLLKYEFRSIGKWYFALNAFVIAIAAILSFTIKLFAQSNSDGL...</td>\n",
       "      <td>ERL19300 pep supercontig:SpyogGA06023v1.0:cont...</td>\n",
       "      <td>261</td>\n",
       "    </tr>\n",
       "    <tr>\n",
       "      <th>2</th>\n",
       "      <td>MLEFFSDFYSDFDNSKATSLLRDLELDPEDRFKTLSKGNKEKVQLI...</td>\n",
       "      <td>ERL19240 pep supercontig:SpyogGA06023v1.0:cont...</td>\n",
       "      <td>139</td>\n",
       "    </tr>\n",
       "    <tr>\n",
       "      <th>3</th>\n",
       "      <td>MSWKFDEKSPIYAQIAQHVMMQIISQEIKSGDQLPTVREYAEIAGV...</td>\n",
       "      <td>ERL19267 pep supercontig:SpyogGA06023v1.0:cont...</td>\n",
       "      <td>123</td>\n",
       "    </tr>\n",
       "    <tr>\n",
       "      <th>4</th>\n",
       "      <td>MFAQLDTKTVYSFMDSLIDLNHYFERAKQFGYHTIGIMDKDNLYGA...</td>\n",
       "      <td>ERL19294 pep supercontig:SpyogGA06023v1.0:cont...</td>\n",
       "      <td>1036</td>\n",
       "    </tr>\n",
       "    <tr>\n",
       "      <th>...</th>\n",
       "      <td>...</td>\n",
       "      <td>...</td>\n",
       "      <td>...</td>\n",
       "    </tr>\n",
       "    <tr>\n",
       "      <th>2275</th>\n",
       "      <td>TPTDRRCLFVFTILVTLIFYGILASIQTAYLLVSTLSIATSFSAVY...</td>\n",
       "      <td>ERL20374 pep supercontig:SpyogGA06023v1.0:cont...</td>\n",
       "      <td>128</td>\n",
       "    </tr>\n",
       "    <tr>\n",
       "      <th>2276</th>\n",
       "      <td>DKPISFKDKDGNFVSAADVWNAEKLEELFNLLNPNRRLRLEREKLK...</td>\n",
       "      <td>ERL20373 pep supercontig:SpyogGA06023v1.0:cont...</td>\n",
       "      <td>50</td>\n",
       "    </tr>\n",
       "    <tr>\n",
       "      <th>2277</th>\n",
       "      <td>MNIEVKEKISFVFFINSLFSGVIILLCFNITLSKEIIINNFVDILA...</td>\n",
       "      <td>ERL22652 pep supercontig:SpyogGA06023v1.0:cont...</td>\n",
       "      <td>54</td>\n",
       "    </tr>\n",
       "    <tr>\n",
       "      <th>2278</th>\n",
       "      <td>MTKKLDVRDARDFFINSEMDEYAANDFKAGDKIAVFSVPFDWN</td>\n",
       "      <td>ERL22653 pep supercontig:SpyogGA06023v1.0:cont...</td>\n",
       "      <td>43</td>\n",
       "    </tr>\n",
       "    <tr>\n",
       "      <th>2279</th>\n",
       "      <td>ISIPADLVEEIARIYGYDKLPTTLPEAGGTAAELTPTQALRRKVRG...</td>\n",
       "      <td>ERL10380 pep supercontig:SpyogGA06023v1.0:cont...</td>\n",
       "      <td>167</td>\n",
       "    </tr>\n",
       "  </tbody>\n",
       "</table>\n",
       "<p>2280 rows × 3 columns</p>\n",
       "</div>"
      ],
      "text/plain": [
       "                                               sequence  \\\n",
       "0     MTKRNSKAYILWQKIIKILGIIALIGTFFLAFWLYRLGILNDSNAL...   \n",
       "1     MFGKLLKYEFRSIGKWYFALNAFVIAIAAILSFTIKLFAQSNSDGL...   \n",
       "2     MLEFFSDFYSDFDNSKATSLLRDLELDPEDRFKTLSKGNKEKVQLI...   \n",
       "3     MSWKFDEKSPIYAQIAQHVMMQIISQEIKSGDQLPTVREYAEIAGV...   \n",
       "4     MFAQLDTKTVYSFMDSLIDLNHYFERAKQFGYHTIGIMDKDNLYGA...   \n",
       "...                                                 ...   \n",
       "2275  TPTDRRCLFVFTILVTLIFYGILASIQTAYLLVSTLSIATSFSAVY...   \n",
       "2276  DKPISFKDKDGNFVSAADVWNAEKLEELFNLLNPNRRLRLEREKLK...   \n",
       "2277  MNIEVKEKISFVFFINSLFSGVIILLCFNITLSKEIIINNFVDILA...   \n",
       "2278        MTKKLDVRDARDFFINSEMDEYAANDFKAGDKIAVFSVPFDWN   \n",
       "2279  ISIPADLVEEIARIYGYDKLPTTLPEAGGTAAELTPTQALRRKVRG...   \n",
       "\n",
       "                                            description  length  \n",
       "0     ERL19293 pep supercontig:SpyogGA06023v1.0:cont...     204  \n",
       "1     ERL19300 pep supercontig:SpyogGA06023v1.0:cont...     261  \n",
       "2     ERL19240 pep supercontig:SpyogGA06023v1.0:cont...     139  \n",
       "3     ERL19267 pep supercontig:SpyogGA06023v1.0:cont...     123  \n",
       "4     ERL19294 pep supercontig:SpyogGA06023v1.0:cont...    1036  \n",
       "...                                                 ...     ...  \n",
       "2275  ERL20374 pep supercontig:SpyogGA06023v1.0:cont...     128  \n",
       "2276  ERL20373 pep supercontig:SpyogGA06023v1.0:cont...      50  \n",
       "2277  ERL22652 pep supercontig:SpyogGA06023v1.0:cont...      54  \n",
       "2278  ERL22653 pep supercontig:SpyogGA06023v1.0:cont...      43  \n",
       "2279  ERL10380 pep supercontig:SpyogGA06023v1.0:cont...     167  \n",
       "\n",
       "[2280 rows x 3 columns]"
      ]
     },
     "execution_count": 6,
     "metadata": {},
     "output_type": "execute_result"
    }
   ],
   "source": [
    "df = pd.DataFrame.from_dict(datadict)\n",
    "df"
   ]
  },
  {
   "cell_type": "markdown",
   "id": "a5e13dd3-20b5-47c7-9b40-15a29a57a39f",
   "metadata": {},
   "source": [
    "This is also a good step to apply any data filters. For example, if only proteins with an isoelectric point below 7.0 are desired in the data set, a check can be put for that condition before an entry is added. The following dataframe is sorted by isoelectric point to demonstrate that anything with an IEP above 7 has been cut."
   ]
  },
  {
   "cell_type": "code",
   "execution_count": 7,
   "id": "ec667c7f-eb09-4797-8dd4-dc1761063da9",
   "metadata": {},
   "outputs": [
    {
     "data": {
      "text/html": [
       "<div>\n",
       "<style scoped>\n",
       "    .dataframe tbody tr th:only-of-type {\n",
       "        vertical-align: middle;\n",
       "    }\n",
       "\n",
       "    .dataframe tbody tr th {\n",
       "        vertical-align: top;\n",
       "    }\n",
       "\n",
       "    .dataframe thead th {\n",
       "        text-align: right;\n",
       "    }\n",
       "</style>\n",
       "<table border=\"1\" class=\"dataframe\">\n",
       "  <thead>\n",
       "    <tr style=\"text-align: right;\">\n",
       "      <th></th>\n",
       "      <th>sequence</th>\n",
       "      <th>description</th>\n",
       "      <th>length</th>\n",
       "      <th>isoelectric_point</th>\n",
       "    </tr>\n",
       "  </thead>\n",
       "  <tbody>\n",
       "    <tr>\n",
       "      <th>1219</th>\n",
       "      <td>QELALEMDYKDVVDGNNATITGQWSDSPQIILDGGN</td>\n",
       "      <td>ERL07827 pep supercontig:SpyogGA06023v1.0:cont...</td>\n",
       "      <td>36</td>\n",
       "      <td>4.050028</td>\n",
       "    </tr>\n",
       "    <tr>\n",
       "      <th>223</th>\n",
       "      <td>MKLDVFAGQEKSELSMIEVARAILEERGRDNEMYFSDLVNEIQNYL...</td>\n",
       "      <td>ERL12475 pep supercontig:SpyogGA06023v1.0:cont...</td>\n",
       "      <td>191</td>\n",
       "      <td>4.050028</td>\n",
       "    </tr>\n",
       "    <tr>\n",
       "      <th>1171</th>\n",
       "      <td>MATLDEVLSFAKGLADTGQGVDLDNVYGTQCVDLPNWITTKYFGIA...</td>\n",
       "      <td>ERL17586 pep supercontig:SpyogGA06023v1.0:cont...</td>\n",
       "      <td>66</td>\n",
       "      <td>4.050028</td>\n",
       "    </tr>\n",
       "    <tr>\n",
       "      <th>901</th>\n",
       "      <td>MSDLGIIIVSHSKNIAQGVVDLISEVATDVAITYVGGTEDGGIGTS...</td>\n",
       "      <td>ERL23309 pep supercontig:SpyogGA06023v1.0:cont...</td>\n",
       "      <td>124</td>\n",
       "      <td>4.050028</td>\n",
       "    </tr>\n",
       "    <tr>\n",
       "      <th>1170</th>\n",
       "      <td>MATLDEVLSFAKGLADTGQGVDLDNVYGTQCVDLPNWITTKYFGIA...</td>\n",
       "      <td>ERL14875 pep supercontig:SpyogGA06023v1.0:cont...</td>\n",
       "      <td>56</td>\n",
       "      <td>4.050028</td>\n",
       "    </tr>\n",
       "    <tr>\n",
       "      <th>...</th>\n",
       "      <td>...</td>\n",
       "      <td>...</td>\n",
       "      <td>...</td>\n",
       "      <td>...</td>\n",
       "    </tr>\n",
       "    <tr>\n",
       "      <th>1023</th>\n",
       "      <td>MTQMTVQVVTPDGIKYDHHAKCISVTTPDGEMGILPNHINLIAPLQ...</td>\n",
       "      <td>ERL15522 pep supercontig:SpyogGA06023v1.0:cont...</td>\n",
       "      <td>138</td>\n",
       "      <td>6.975588</td>\n",
       "    </tr>\n",
       "    <tr>\n",
       "      <th>708</th>\n",
       "      <td>MEYDKINQYLVDIFNRILVIEEMSLKTSQFSDVSLKEMHTIEIIGK...</td>\n",
       "      <td>ERL10459 pep supercontig:SpyogGA06023v1.0:cont...</td>\n",
       "      <td>144</td>\n",
       "      <td>6.976441</td>\n",
       "    </tr>\n",
       "    <tr>\n",
       "      <th>144</th>\n",
       "      <td>MLTKIGLYTGSFDPVTNGHLDIVKRASGLFDQIYVGIFDNPTKKSY...</td>\n",
       "      <td>ERL06642 pep supercontig:SpyogGA06023v1.0:cont...</td>\n",
       "      <td>163</td>\n",
       "      <td>6.976782</td>\n",
       "    </tr>\n",
       "    <tr>\n",
       "      <th>1358</th>\n",
       "      <td>APLLSVSHRAVKGRSGYIYDGATFTTKTLKVKGRVTVSNVERLLDK...</td>\n",
       "      <td>ERL07030 pep supercontig:SpyogGA06023v1.0:cont...</td>\n",
       "      <td>111</td>\n",
       "      <td>6.978487</td>\n",
       "    </tr>\n",
       "    <tr>\n",
       "      <th>121</th>\n",
       "      <td>MEKYMGTIKIVTDSSITIEPELIKALDITVVPLSVMIDSKLYSDND...</td>\n",
       "      <td>ERL06634 pep supercontig:SpyogGA06023v1.0:cont...</td>\n",
       "      <td>283</td>\n",
       "      <td>6.987808</td>\n",
       "    </tr>\n",
       "  </tbody>\n",
       "</table>\n",
       "<p>1366 rows × 4 columns</p>\n",
       "</div>"
      ],
      "text/plain": [
       "                                               sequence  \\\n",
       "1219               QELALEMDYKDVVDGNNATITGQWSDSPQIILDGGN   \n",
       "223   MKLDVFAGQEKSELSMIEVARAILEERGRDNEMYFSDLVNEIQNYL...   \n",
       "1171  MATLDEVLSFAKGLADTGQGVDLDNVYGTQCVDLPNWITTKYFGIA...   \n",
       "901   MSDLGIIIVSHSKNIAQGVVDLISEVATDVAITYVGGTEDGGIGTS...   \n",
       "1170  MATLDEVLSFAKGLADTGQGVDLDNVYGTQCVDLPNWITTKYFGIA...   \n",
       "...                                                 ...   \n",
       "1023  MTQMTVQVVTPDGIKYDHHAKCISVTTPDGEMGILPNHINLIAPLQ...   \n",
       "708   MEYDKINQYLVDIFNRILVIEEMSLKTSQFSDVSLKEMHTIEIIGK...   \n",
       "144   MLTKIGLYTGSFDPVTNGHLDIVKRASGLFDQIYVGIFDNPTKKSY...   \n",
       "1358  APLLSVSHRAVKGRSGYIYDGATFTTKTLKVKGRVTVSNVERLLDK...   \n",
       "121   MEKYMGTIKIVTDSSITIEPELIKALDITVVPLSVMIDSKLYSDND...   \n",
       "\n",
       "                                            description  length  \\\n",
       "1219  ERL07827 pep supercontig:SpyogGA06023v1.0:cont...      36   \n",
       "223   ERL12475 pep supercontig:SpyogGA06023v1.0:cont...     191   \n",
       "1171  ERL17586 pep supercontig:SpyogGA06023v1.0:cont...      66   \n",
       "901   ERL23309 pep supercontig:SpyogGA06023v1.0:cont...     124   \n",
       "1170  ERL14875 pep supercontig:SpyogGA06023v1.0:cont...      56   \n",
       "...                                                 ...     ...   \n",
       "1023  ERL15522 pep supercontig:SpyogGA06023v1.0:cont...     138   \n",
       "708   ERL10459 pep supercontig:SpyogGA06023v1.0:cont...     144   \n",
       "144   ERL06642 pep supercontig:SpyogGA06023v1.0:cont...     163   \n",
       "1358  ERL07030 pep supercontig:SpyogGA06023v1.0:cont...     111   \n",
       "121   ERL06634 pep supercontig:SpyogGA06023v1.0:cont...     283   \n",
       "\n",
       "      isoelectric_point  \n",
       "1219           4.050028  \n",
       "223            4.050028  \n",
       "1171           4.050028  \n",
       "901            4.050028  \n",
       "1170           4.050028  \n",
       "...                 ...  \n",
       "1023           6.975588  \n",
       "708            6.976441  \n",
       "144            6.976782  \n",
       "1358           6.978487  \n",
       "121            6.987808  \n",
       "\n",
       "[1366 rows x 4 columns]"
      ]
     },
     "execution_count": 7,
     "metadata": {},
     "output_type": "execute_result"
    }
   ],
   "source": [
    "datadict_withIEP = {\n",
    "    'sequence' : [],\n",
    "    'description' : [],\n",
    "    'length' : [],\n",
    "    'isoelectric_point' : []\n",
    "}\n",
    "\n",
    "with open(\"data/Streptococcus_pyogenes.faa\",\"r\") as prot_file:\n",
    "    for record in SeqIO.parse(prot_file,\"fasta\"):\n",
    "        sequence = str(record.seq)\n",
    "        parameters = PA(sequence)\n",
    "        if parameters.isoelectric_point() < 7.0:\n",
    "            datadict_withIEP['sequence'].append(sequence)\n",
    "            datadict_withIEP['description'].append(record.description)\n",
    "            datadict_withIEP['length'].append(len(sequence))\n",
    "            datadict_withIEP['isoelectric_point'].append(parameters.isoelectric_point())\n",
    "\n",
    "df_withIEP = pd.DataFrame.from_dict(datadict_withIEP)\n",
    "df_withIEP.sort_values(by=\"isoelectric_point\",inplace = True)\n",
    "df_withIEP"
   ]
  },
  {
   "cell_type": "markdown",
   "id": "07604799-df95-49c4-a31a-eab00fdafd7a",
   "metadata": {},
   "source": [
    "## Writing FASTA files\n",
    "One of the easiest ways to generate new FASTA files is with **SeqIO.write()**. This has 3 arguments:\n",
    "- **sequences** - A list of SeqRecord objects\n",
    "- **handle** - The file handle to write to, or the file path given as a string\n",
    "- **format** - The file format to write in given as a string, in this case \"fasta\"\n",
    "\n",
    "The sequences records can be pulled while sorting through the original file. The same filter by isoelectric point will be applied and saved to a new file, the modified copy will be saved in the *data* folder as *Streptcoccus_pyogenes_IEP_below_7.faa*."
   ]
  },
  {
   "cell_type": "code",
   "execution_count": 8,
   "id": "b35e88df-9a47-4b81-a1ee-98130c1aa86f",
   "metadata": {},
   "outputs": [
    {
     "data": {
      "text/plain": [
       "1366"
      ]
     },
     "execution_count": 8,
     "metadata": {},
     "output_type": "execute_result"
    }
   ],
   "source": [
    "records_list = []\n",
    "with open(\"data/Streptococcus_pyogenes.faa\",\"r\") as prot_file:\n",
    "    for record in SeqIO.parse(prot_file,\"fasta\"):\n",
    "        sequence = str(record.seq)\n",
    "        parameters = PA(sequence)\n",
    "        if parameters.isoelectric_point() < 7.0:\n",
    "            records_list.append(record)\n",
    "            \n",
    "SeqIO.write(records_list,\"data/Streptcoccus_pyogenes_IEP_below_7.faa\",\"fasta\")"
   ]
  },
  {
   "cell_type": "markdown",
   "id": "f976280a-2ec2-46c2-a5ec-80813d97fc3a",
   "metadata": {},
   "source": [
    "This file should contain the same data as the filtered data frame above. Exporting it as a dataframe show this to be true."
   ]
  },
  {
   "cell_type": "code",
   "execution_count": 9,
   "id": "29f26946-17ee-439e-acce-f19a736254c2",
   "metadata": {},
   "outputs": [
    {
     "data": {
      "text/html": [
       "<div>\n",
       "<style scoped>\n",
       "    .dataframe tbody tr th:only-of-type {\n",
       "        vertical-align: middle;\n",
       "    }\n",
       "\n",
       "    .dataframe tbody tr th {\n",
       "        vertical-align: top;\n",
       "    }\n",
       "\n",
       "    .dataframe thead th {\n",
       "        text-align: right;\n",
       "    }\n",
       "</style>\n",
       "<table border=\"1\" class=\"dataframe\">\n",
       "  <thead>\n",
       "    <tr style=\"text-align: right;\">\n",
       "      <th></th>\n",
       "      <th>sequence</th>\n",
       "      <th>description</th>\n",
       "      <th>length</th>\n",
       "      <th>isoelectric_point</th>\n",
       "    </tr>\n",
       "  </thead>\n",
       "  <tbody>\n",
       "    <tr>\n",
       "      <th>1219</th>\n",
       "      <td>QELALEMDYKDVVDGNNATITGQWSDSPQIILDGGN</td>\n",
       "      <td>ERL07827 pep supercontig:SpyogGA06023v1.0:cont...</td>\n",
       "      <td>36</td>\n",
       "      <td>4.050028</td>\n",
       "    </tr>\n",
       "    <tr>\n",
       "      <th>223</th>\n",
       "      <td>MKLDVFAGQEKSELSMIEVARAILEERGRDNEMYFSDLVNEIQNYL...</td>\n",
       "      <td>ERL12475 pep supercontig:SpyogGA06023v1.0:cont...</td>\n",
       "      <td>191</td>\n",
       "      <td>4.050028</td>\n",
       "    </tr>\n",
       "    <tr>\n",
       "      <th>1171</th>\n",
       "      <td>MATLDEVLSFAKGLADTGQGVDLDNVYGTQCVDLPNWITTKYFGIA...</td>\n",
       "      <td>ERL17586 pep supercontig:SpyogGA06023v1.0:cont...</td>\n",
       "      <td>66</td>\n",
       "      <td>4.050028</td>\n",
       "    </tr>\n",
       "    <tr>\n",
       "      <th>901</th>\n",
       "      <td>MSDLGIIIVSHSKNIAQGVVDLISEVATDVAITYVGGTEDGGIGTS...</td>\n",
       "      <td>ERL23309 pep supercontig:SpyogGA06023v1.0:cont...</td>\n",
       "      <td>124</td>\n",
       "      <td>4.050028</td>\n",
       "    </tr>\n",
       "    <tr>\n",
       "      <th>1170</th>\n",
       "      <td>MATLDEVLSFAKGLADTGQGVDLDNVYGTQCVDLPNWITTKYFGIA...</td>\n",
       "      <td>ERL14875 pep supercontig:SpyogGA06023v1.0:cont...</td>\n",
       "      <td>56</td>\n",
       "      <td>4.050028</td>\n",
       "    </tr>\n",
       "    <tr>\n",
       "      <th>...</th>\n",
       "      <td>...</td>\n",
       "      <td>...</td>\n",
       "      <td>...</td>\n",
       "      <td>...</td>\n",
       "    </tr>\n",
       "    <tr>\n",
       "      <th>1023</th>\n",
       "      <td>MTQMTVQVVTPDGIKYDHHAKCISVTTPDGEMGILPNHINLIAPLQ...</td>\n",
       "      <td>ERL15522 pep supercontig:SpyogGA06023v1.0:cont...</td>\n",
       "      <td>138</td>\n",
       "      <td>6.975588</td>\n",
       "    </tr>\n",
       "    <tr>\n",
       "      <th>708</th>\n",
       "      <td>MEYDKINQYLVDIFNRILVIEEMSLKTSQFSDVSLKEMHTIEIIGK...</td>\n",
       "      <td>ERL10459 pep supercontig:SpyogGA06023v1.0:cont...</td>\n",
       "      <td>144</td>\n",
       "      <td>6.976441</td>\n",
       "    </tr>\n",
       "    <tr>\n",
       "      <th>144</th>\n",
       "      <td>MLTKIGLYTGSFDPVTNGHLDIVKRASGLFDQIYVGIFDNPTKKSY...</td>\n",
       "      <td>ERL06642 pep supercontig:SpyogGA06023v1.0:cont...</td>\n",
       "      <td>163</td>\n",
       "      <td>6.976782</td>\n",
       "    </tr>\n",
       "    <tr>\n",
       "      <th>1358</th>\n",
       "      <td>APLLSVSHRAVKGRSGYIYDGATFTTKTLKVKGRVTVSNVERLLDK...</td>\n",
       "      <td>ERL07030 pep supercontig:SpyogGA06023v1.0:cont...</td>\n",
       "      <td>111</td>\n",
       "      <td>6.978487</td>\n",
       "    </tr>\n",
       "    <tr>\n",
       "      <th>121</th>\n",
       "      <td>MEKYMGTIKIVTDSSITIEPELIKALDITVVPLSVMIDSKLYSDND...</td>\n",
       "      <td>ERL06634 pep supercontig:SpyogGA06023v1.0:cont...</td>\n",
       "      <td>283</td>\n",
       "      <td>6.987808</td>\n",
       "    </tr>\n",
       "  </tbody>\n",
       "</table>\n",
       "<p>1366 rows × 4 columns</p>\n",
       "</div>"
      ],
      "text/plain": [
       "                                               sequence  \\\n",
       "1219               QELALEMDYKDVVDGNNATITGQWSDSPQIILDGGN   \n",
       "223   MKLDVFAGQEKSELSMIEVARAILEERGRDNEMYFSDLVNEIQNYL...   \n",
       "1171  MATLDEVLSFAKGLADTGQGVDLDNVYGTQCVDLPNWITTKYFGIA...   \n",
       "901   MSDLGIIIVSHSKNIAQGVVDLISEVATDVAITYVGGTEDGGIGTS...   \n",
       "1170  MATLDEVLSFAKGLADTGQGVDLDNVYGTQCVDLPNWITTKYFGIA...   \n",
       "...                                                 ...   \n",
       "1023  MTQMTVQVVTPDGIKYDHHAKCISVTTPDGEMGILPNHINLIAPLQ...   \n",
       "708   MEYDKINQYLVDIFNRILVIEEMSLKTSQFSDVSLKEMHTIEIIGK...   \n",
       "144   MLTKIGLYTGSFDPVTNGHLDIVKRASGLFDQIYVGIFDNPTKKSY...   \n",
       "1358  APLLSVSHRAVKGRSGYIYDGATFTTKTLKVKGRVTVSNVERLLDK...   \n",
       "121   MEKYMGTIKIVTDSSITIEPELIKALDITVVPLSVMIDSKLYSDND...   \n",
       "\n",
       "                                            description  length  \\\n",
       "1219  ERL07827 pep supercontig:SpyogGA06023v1.0:cont...      36   \n",
       "223   ERL12475 pep supercontig:SpyogGA06023v1.0:cont...     191   \n",
       "1171  ERL17586 pep supercontig:SpyogGA06023v1.0:cont...      66   \n",
       "901   ERL23309 pep supercontig:SpyogGA06023v1.0:cont...     124   \n",
       "1170  ERL14875 pep supercontig:SpyogGA06023v1.0:cont...      56   \n",
       "...                                                 ...     ...   \n",
       "1023  ERL15522 pep supercontig:SpyogGA06023v1.0:cont...     138   \n",
       "708   ERL10459 pep supercontig:SpyogGA06023v1.0:cont...     144   \n",
       "144   ERL06642 pep supercontig:SpyogGA06023v1.0:cont...     163   \n",
       "1358  ERL07030 pep supercontig:SpyogGA06023v1.0:cont...     111   \n",
       "121   ERL06634 pep supercontig:SpyogGA06023v1.0:cont...     283   \n",
       "\n",
       "      isoelectric_point  \n",
       "1219           4.050028  \n",
       "223            4.050028  \n",
       "1171           4.050028  \n",
       "901            4.050028  \n",
       "1170           4.050028  \n",
       "...                 ...  \n",
       "1023           6.975588  \n",
       "708            6.976441  \n",
       "144            6.976782  \n",
       "1358           6.978487  \n",
       "121            6.987808  \n",
       "\n",
       "[1366 rows x 4 columns]"
      ]
     },
     "execution_count": 9,
     "metadata": {},
     "output_type": "execute_result"
    }
   ],
   "source": [
    "datadict_modified_file = {\n",
    "    'sequence' : [],\n",
    "    'description' : [],\n",
    "    'length' : [],\n",
    "    'isoelectric_point' : []\n",
    "}\n",
    "\n",
    "with open(\"data/Streptcoccus_pyogenes_IEP_below_7.faa\",\"r\") as prot_file:\n",
    "    for record in SeqIO.parse(prot_file,\"fasta\"):\n",
    "        sequence = str(record.seq)\n",
    "        parameters = PA(sequence)\n",
    "        datadict_modified_file['sequence'].append(sequence)\n",
    "        datadict_modified_file['description'].append(record.description)\n",
    "        datadict_modified_file['length'].append(len(sequence))\n",
    "        datadict_modified_file['isoelectric_point'].append(parameters.isoelectric_point())\n",
    "        \n",
    "df_modified_file = pd.DataFrame.from_dict(datadict_modified_file)\n",
    "df_modified_file.sort_values(by=\"isoelectric_point\",inplace=True)\n",
    "df_modified_file"
   ]
  },
  {
   "cell_type": "code",
   "execution_count": null,
   "id": "e8fec0a7-f578-4d5f-95e2-df519e5f77a2",
   "metadata": {},
   "outputs": [],
   "source": []
  }
 ],
 "metadata": {
  "kernelspec": {
   "display_name": "Python 3",
   "language": "python",
   "name": "python3"
  },
  "language_info": {
   "codemirror_mode": {
    "name": "ipython",
    "version": 3
   },
   "file_extension": ".py",
   "mimetype": "text/x-python",
   "name": "python",
   "nbconvert_exporter": "python",
   "pygments_lexer": "ipython3",
   "version": "3.8.8"
  }
 },
 "nbformat": 4,
 "nbformat_minor": 5
}
