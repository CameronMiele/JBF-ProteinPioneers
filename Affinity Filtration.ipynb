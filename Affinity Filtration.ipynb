{
 "cells": [
  {
   "cell_type": "code",
   "execution_count": 1,
   "id": "2ffb277b",
   "metadata": {},
   "outputs": [],
   "source": [
    "from Bio import SeqIO\n",
    "from Bio.SeqUtils.ProtParam import ProteinAnalysis as PA\n",
    "from Bio.Seq import Seq\n",
    "from Bio.SeqRecord import SeqRecord\n",
    "import os\n",
    "from collections import defaultdict\n",
    "import pandas as pd\n",
    "import ipywidgets as widgets\n",
    "from ipywidgets import *"
   ]
  },
  {
   "cell_type": "code",
   "execution_count": 2,
   "id": "71757802",
   "metadata": {},
   "outputs": [],
   "source": [
    "def listtostr(strlist):\n",
    "    output = \"\"\n",
    "    for word in strlist:\n",
    "        output += word + \"_\"\n",
    "    return(output[:len(output)-1])\n",
    "def simplifyname(orgname):\n",
    "    firstname = [orgname.split(\"_\")[0][0]]\n",
    "    lastname = orgname.split(\"_\")[1:]\n",
    "    fullname = firstname + lastname\n",
    "    return(listtostr(fullname))"
   ]
  },
  {
   "cell_type": "code",
   "execution_count": 3,
   "id": "7c56a680",
   "metadata": {
    "tags": []
   },
   "outputs": [
    {
     "name": "stdin",
     "output_type": "stream",
     "text": [
      "Enter Input Name Samples Sets - E Coli Size and Ion separation_fraction_1\n",
      "Enter Output Name Samples Sets - E Coli Three Separations\n"
     ]
    }
   ],
   "source": [
    "#Generate a file path for the correct .fasta file\n",
    "input_filename = input(\"Enter Input Name\")\n",
    "output_name = input(\"Enter Output Name\")\n",
    "datafile = os.path.join('data', input_filename)\n",
    "#organism_name = input_filename.replace(\".faa\",\"\")"
   ]
  },
  {
   "cell_type": "code",
   "execution_count": 4,
   "id": "1e79ecf6",
   "metadata": {},
   "outputs": [],
   "source": [
    "data_folder = os.path.join('data', output_name)\n",
    "\n",
    "if not os.path.isdir(data_folder):\n",
    "    os.mkdir(data_folder)"
   ]
  },
  {
   "cell_type": "code",
   "execution_count": 5,
   "id": "2e511032-cd58-4fc2-99bb-219bb546ae9d",
   "metadata": {},
   "outputs": [],
   "source": [
    "def getHistPercent(protstring):\n",
    "    Hcount = 0\n",
    "    for AA in protstring:\n",
    "        if AA == \"H\":\n",
    "            Hcount += 1\n",
    "    return(Hcount/len(protstring))"
   ]
  },
  {
   "cell_type": "code",
   "execution_count": 6,
   "id": "1154ac79-a451-43c4-ac99-a086eb5b2151",
   "metadata": {
    "tags": []
   },
   "outputs": [],
   "source": [
    "def findHistChains(protstring):\n",
    "    chainDict = {}\n",
    "    chainlen = 1\n",
    "    lastAA = \"\"\n",
    "    for AA in protstring:\n",
    "        if AA == \"H\":\n",
    "            if lastAA == \"H\":\n",
    "                chainlen += 1\n",
    "        elif chainlen > 1 and lastAA == \"H\":\n",
    "            #print(f\"Chain found, current length {chainlen}\")\n",
    "            if str(chainlen) in chainDict:\n",
    "                chainDict[str(chainlen)] = chainDict[str(chainlen)] + 1\n",
    "            else:\n",
    "                chainDict[str(chainlen)] = 1\n",
    "            chainlen = 1\n",
    "        lastAA = AA\n",
    "    if chainlen > 1:\n",
    "        if str(chainlen) in chainDict:\n",
    "            chainDict[str(chainlen)] = chainDict[str(chainlen)] + 1\n",
    "        else:\n",
    "            chainDict[str(chainlen)] = 1\n",
    "    return(chainDict)"
   ]
  },
  {
   "cell_type": "code",
   "execution_count": 7,
   "id": "3b43797e-3e4d-43db-8e2c-d03ad64533fa",
   "metadata": {},
   "outputs": [],
   "source": [
    "def HistScore(protstring):\n",
    "    last4 = \"\"\n",
    "    last8 = \"\"\n",
    "    CD4 = 0\n",
    "    CD8 = 0\n",
    "    score = 0\n",
    "    for AA in protstring:\n",
    "        #iterate last4 & last8\n",
    "        if len(last4) < 4:\n",
    "            last4 += AA\n",
    "        else:\n",
    "            last4 = last4[1:] + AA\n",
    "        if len(last8) < 8:\n",
    "            last8 += AA\n",
    "        else:\n",
    "            last8 = last8[1:] + AA\n",
    "        \n",
    "        #scan for non-chain H groupings \n",
    "        if getHistPercent(last4) >= 0.5 and CD4 < 1:\n",
    "            score += 2\n",
    "            CD4 = 4\n",
    "        else:\n",
    "            CD4 -= 1\n",
    "        if getHistPercent(last8) >= 0.375 and CD8 < 1:\n",
    "            score += 6\n",
    "            CD8 = 8\n",
    "        else:\n",
    "            CD8 -= 1\n",
    "    \n",
    "    #scan for chains\n",
    "    histChains = findHistChains(protstring)\n",
    "    for key in histChains:\n",
    "        score += histChains[key] * (int(key) ** 2)\n",
    "    return(score)"
   ]
  },
  {
   "cell_type": "code",
   "execution_count": 8,
   "id": "0e695357",
   "metadata": {},
   "outputs": [
    {
     "data": {
      "text/plain": [
       "1"
      ]
     },
     "execution_count": 8,
     "metadata": {},
     "output_type": "execute_result"
    }
   ],
   "source": [
    "unfiltered = []\n",
    "wash = []\n",
    "fractions = []\n",
    "with open(datafile) as protfile:\n",
    "    for record in SeqIO.parse(protfile,\"fasta\"):\n",
    "        unfiltered.append(record)\n",
    "        protparams = PA(str(record.seq))\n",
    "        if HistScore(record.seq) < 8:\n",
    "            wash.append(record)\n",
    "        else:\n",
    "            fractions.append(record)    \n",
    "\n",
    "#data_name = \"Affinity_chromatography_\" + simplifyname(organism_name)\n",
    "data_name = output_name\n",
    "SeqIO.write(unfiltered,os.path.join(data_folder,data_name+\"_total.faa\"),\"fasta\")\n",
    "SeqIO.write(wash,os.path.join(data_folder,data_name+\"_wash.faa\"),\"fasta\")\n",
    "SeqIO.write(fractions,os.path.join(data_folder,data_name+\"_fractions.faa\"),\"fasta\")\n"
   ]
  },
  {
   "cell_type": "code",
   "execution_count": 11,
   "id": "2b292234-9f03-4a22-a318-93f86dc04540",
   "metadata": {},
   "outputs": [
    {
     "data": {
      "text/html": [
       "<div>\n",
       "<style scoped>\n",
       "    .dataframe tbody tr th:only-of-type {\n",
       "        vertical-align: middle;\n",
       "    }\n",
       "\n",
       "    .dataframe tbody tr th {\n",
       "        vertical-align: top;\n",
       "    }\n",
       "\n",
       "    .dataframe thead th {\n",
       "        text-align: right;\n",
       "    }\n",
       "</style>\n",
       "<table border=\"1\" class=\"dataframe\">\n",
       "  <thead>\n",
       "    <tr style=\"text-align: right;\">\n",
       "      <th></th>\n",
       "      <th>sequence</th>\n",
       "      <th>length</th>\n",
       "      <th>isoelectric_point</th>\n",
       "      <th>hist_score</th>\n",
       "      <th>max_chain_length</th>\n",
       "      <th>ID</th>\n",
       "      <th>description</th>\n",
       "    </tr>\n",
       "  </thead>\n",
       "  <tbody>\n",
       "    <tr>\n",
       "      <th>0</th>\n",
       "      <td>MTQSRLHAAQNALAKLHERRGNTFYPHFHLAPPAGWMNDPNGLIWF...</td>\n",
       "      <td>483</td>\n",
       "      <td>5.770374</td>\n",
       "      <td>64</td>\n",
       "      <td>6</td>\n",
       "      <td>sp|P40714|CSCA_ECOLX</td>\n",
       "      <td>sp|P40714|CSCA_ECOLX Sucrose-6-phosphate hydro...</td>\n",
       "    </tr>\n",
       "  </tbody>\n",
       "</table>\n",
       "</div>"
      ],
      "text/plain": [
       "                                            sequence  length  \\\n",
       "0  MTQSRLHAAQNALAKLHERRGNTFYPHFHLAPPAGWMNDPNGLIWF...     483   \n",
       "\n",
       "   isoelectric_point  hist_score max_chain_length                    ID  \\\n",
       "0           5.770374          64                6  sp|P40714|CSCA_ECOLX   \n",
       "\n",
       "                                         description  \n",
       "0  sp|P40714|CSCA_ECOLX Sucrose-6-phosphate hydro...  "
      ]
     },
     "execution_count": 11,
     "metadata": {},
     "output_type": "execute_result"
    }
   ],
   "source": [
    "datadict = {\n",
    "    'sequence' : [],\n",
    "    'length' : [],\n",
    "    'isoelectric_point' : [],\n",
    "    'hist_score' : [],\n",
    "    'max_chain_length': [],\n",
    "    'ID' : [],\n",
    "    'description' : []\n",
    "}\n",
    "\n",
    "with open(os.path.join(data_folder,data_name+\"_fractions.faa\"),\"r\") as prot_file:\n",
    "    for record in SeqIO.parse(prot_file,\"fasta\"):\n",
    "        sequence = str(record.seq)  #It is not strictly necessary to record the sequence as a string, but it is easier to work with and displays better. (Ex:len() does not work on Seq objects)\n",
    "        parameters = PA(sequence)\n",
    "        datadict['sequence'].append(sequence)\n",
    "        datadict['length'].append(len(sequence))\n",
    "        datadict['isoelectric_point'].append(parameters.isoelectric_point())\n",
    "        datadict['hist_score'].append(HistScore(sequence))\n",
    "        datadict['max_chain_length'].append(max(findHistChains(sequence).keys(),default = '0'))\n",
    "        datadict['ID'].append(record.id)\n",
    "        datadict['description'].append(record.description)\n",
    "\n",
    "df = pd.DataFrame.from_dict(datadict)\n",
    "df.sort_values('hist_score',inplace = True)\n",
    "df.reset_index(drop=True, inplace=True)\n",
    "df"
   ]
  },
  {
   "cell_type": "code",
   "execution_count": 12,
   "id": "3d78d8fe",
   "metadata": {
    "tags": []
   },
   "outputs": [
    {
     "data": {
      "text/html": [
       "<div>\n",
       "<style scoped>\n",
       "    .dataframe tbody tr th:only-of-type {\n",
       "        vertical-align: middle;\n",
       "    }\n",
       "\n",
       "    .dataframe tbody tr th {\n",
       "        vertical-align: top;\n",
       "    }\n",
       "\n",
       "    .dataframe thead th {\n",
       "        text-align: right;\n",
       "    }\n",
       "</style>\n",
       "<table border=\"1\" class=\"dataframe\">\n",
       "  <thead>\n",
       "    <tr style=\"text-align: right;\">\n",
       "      <th></th>\n",
       "      <th>sequence</th>\n",
       "      <th>length</th>\n",
       "      <th>isoelectric_point</th>\n",
       "      <th>hist_score</th>\n",
       "      <th>max_chain_length</th>\n",
       "      <th>ID</th>\n",
       "      <th>description</th>\n",
       "    </tr>\n",
       "  </thead>\n",
       "  <tbody>\n",
       "    <tr>\n",
       "      <th>0</th>\n",
       "      <td>MTQSRLHAAQNALAKLHERRGNTFYPHFHLAPPAGWMNDPNGLIWF...</td>\n",
       "      <td>483</td>\n",
       "      <td>5.770374</td>\n",
       "      <td>64</td>\n",
       "      <td>6</td>\n",
       "      <td>sp|P40714|CSCA_ECOLX</td>\n",
       "      <td>sp|P40714|CSCA_ECOLX Sucrose-6-phosphate hydro...</td>\n",
       "    </tr>\n",
       "  </tbody>\n",
       "</table>\n",
       "</div>"
      ],
      "text/plain": [
       "                                            sequence  length  \\\n",
       "0  MTQSRLHAAQNALAKLHERRGNTFYPHFHLAPPAGWMNDPNGLIWF...     483   \n",
       "\n",
       "   isoelectric_point  hist_score max_chain_length                    ID  \\\n",
       "0           5.770374          64                6  sp|P40714|CSCA_ECOLX   \n",
       "\n",
       "                                         description  \n",
       "0  sp|P40714|CSCA_ECOLX Sucrose-6-phosphate hydro...  "
      ]
     },
     "execution_count": 12,
     "metadata": {},
     "output_type": "execute_result"
    }
   ],
   "source": [
    "def param_of_interest(protdata):\n",
    "    output = bool(HistScore(protdata) >= 4)\n",
    "    return(output)\n",
    "\n",
    "nfractions = 7\n",
    "fraclen = round(len(df)/nfractions)\n",
    "seqofinterest = \"HHHHHH\"\n",
    "seqhits = {}\n",
    "noise = 0.10\n",
    "for n in range(nfractions - 1):\n",
    "    fracrecords = []\n",
    "    #Generate min/max range values\n",
    "    fuzzymin = int(round(n*fraclen-noise*fraclen,0))\n",
    "    fuzzymax = int(round((n+1)*fraclen + noise*fraclen,0))\n",
    "    if fuzzymin < 0:\n",
    "        fuzzymin = 0\n",
    "    if fuzzymax > len(df):\n",
    "        fuzzymax = len(df)\n",
    "    tempdf = df.iloc[fuzzymin:fuzzymax]\n",
    "    for index  in tempdf.index:\n",
    "        record = SeqRecord(Seq(tempdf['sequence'][index]),id=str(tempdf[\"ID\"][index]),description=tempdf[\"description\"][index])\n",
    "        fracrecords.append(record)\n",
    "        if param_of_interest(tempdf['sequence'][index]) == True:\n",
    "            if n+1 in seqhits:\n",
    "                seqhits[n+1][0] += 1\n",
    "                seqhits[n+1][1].append(index)\n",
    "            else:\n",
    "                seqhits[n+1] = [1,[index]]\n",
    "    SeqIO.write(fracrecords,os.path.join(data_folder,data_name+\"_fraction\"+ str(n+1) + \".faa\"),\"fasta\")\n",
    "\n",
    "tempdf = df.iloc[int(round((nfractions-1)*fraclen-noise*fraclen,0)):]\n",
    "remainderrecord = []\n",
    "for index  in tempdf.index:\n",
    "        record = SeqRecord(Seq(tempdf['sequence'][index]),id=str(tempdf[\"ID\"][index]),description=tempdf[\"description\"][index])\n",
    "        remainderrecord.append(record)\n",
    "        if param_of_interest(tempdf['sequence'][index]) == True:\n",
    "            if nfractions in seqhits:\n",
    "                seqhits[nfractions][0] += 1\n",
    "                seqhits[nfractions][1].append(index)\n",
    "            else:\n",
    "                seqhits[nfractions] = [1,[index]]\n",
    "SeqIO.write(remainderrecord,os.path.join(data_folder,data_name+\"_fraction\"+ str(nfractions) + \".faa\"),\"fasta\")\n",
    "tempdf"
   ]
  },
  {
   "cell_type": "code",
   "execution_count": 13,
   "id": "c9d817d1-26eb-4bae-9f4e-b369b85fc2b2",
   "metadata": {},
   "outputs": [
    {
     "name": "stdout",
     "output_type": "stream",
     "text": [
      "Hits in fraction 7\n",
      "\tHit on index 0\n"
     ]
    }
   ],
   "source": [
    "seqhits\n",
    "for key in seqhits:\n",
    "    print(f'Hits in fraction {key}')\n",
    "    for hit in seqhits[key][1]:\n",
    "        print(f'\\tHit on index {hit}')"
   ]
  },
  {
   "cell_type": "code",
   "execution_count": 14,
   "id": "fa3d931e-592a-4c91-bee5-aa7929856c42",
   "metadata": {},
   "outputs": [
    {
     "ename": "IndexError",
     "evalue": "single positional indexer is out-of-bounds",
     "output_type": "error",
     "traceback": [
      "\u001b[1;31m---------------------------------------------------------------------------\u001b[0m",
      "\u001b[1;31mIndexError\u001b[0m                                Traceback (most recent call last)",
      "Cell \u001b[1;32mIn[14], line 1\u001b[0m\n\u001b[1;32m----> 1\u001b[0m \u001b[43mdf\u001b[49m\u001b[38;5;241;43m.\u001b[39;49m\u001b[43miloc\u001b[49m\u001b[43m[\u001b[49m\u001b[38;5;241;43m10\u001b[39;49m\u001b[43m]\u001b[49m[\u001b[38;5;124m'\u001b[39m\u001b[38;5;124msequence\u001b[39m\u001b[38;5;124m'\u001b[39m]\n",
      "File \u001b[1;32m~\\anaconda3\\envs\\jbf-env\\Lib\\site-packages\\pandas\\core\\indexing.py:1153\u001b[0m, in \u001b[0;36m_LocationIndexer.__getitem__\u001b[1;34m(self, key)\u001b[0m\n\u001b[0;32m   1150\u001b[0m axis \u001b[38;5;241m=\u001b[39m \u001b[38;5;28mself\u001b[39m\u001b[38;5;241m.\u001b[39maxis \u001b[38;5;129;01mor\u001b[39;00m \u001b[38;5;241m0\u001b[39m\n\u001b[0;32m   1152\u001b[0m maybe_callable \u001b[38;5;241m=\u001b[39m com\u001b[38;5;241m.\u001b[39mapply_if_callable(key, \u001b[38;5;28mself\u001b[39m\u001b[38;5;241m.\u001b[39mobj)\n\u001b[1;32m-> 1153\u001b[0m \u001b[38;5;28;01mreturn\u001b[39;00m \u001b[38;5;28;43mself\u001b[39;49m\u001b[38;5;241;43m.\u001b[39;49m\u001b[43m_getitem_axis\u001b[49m\u001b[43m(\u001b[49m\u001b[43mmaybe_callable\u001b[49m\u001b[43m,\u001b[49m\u001b[43m \u001b[49m\u001b[43maxis\u001b[49m\u001b[38;5;241;43m=\u001b[39;49m\u001b[43maxis\u001b[49m\u001b[43m)\u001b[49m\n",
      "File \u001b[1;32m~\\anaconda3\\envs\\jbf-env\\Lib\\site-packages\\pandas\\core\\indexing.py:1714\u001b[0m, in \u001b[0;36m_iLocIndexer._getitem_axis\u001b[1;34m(self, key, axis)\u001b[0m\n\u001b[0;32m   1711\u001b[0m     \u001b[38;5;28;01mraise\u001b[39;00m \u001b[38;5;167;01mTypeError\u001b[39;00m(\u001b[38;5;124m\"\u001b[39m\u001b[38;5;124mCannot index by location index with a non-integer key\u001b[39m\u001b[38;5;124m\"\u001b[39m)\n\u001b[0;32m   1713\u001b[0m \u001b[38;5;66;03m# validate the location\u001b[39;00m\n\u001b[1;32m-> 1714\u001b[0m \u001b[38;5;28;43mself\u001b[39;49m\u001b[38;5;241;43m.\u001b[39;49m\u001b[43m_validate_integer\u001b[49m\u001b[43m(\u001b[49m\u001b[43mkey\u001b[49m\u001b[43m,\u001b[49m\u001b[43m \u001b[49m\u001b[43maxis\u001b[49m\u001b[43m)\u001b[49m\n\u001b[0;32m   1716\u001b[0m \u001b[38;5;28;01mreturn\u001b[39;00m \u001b[38;5;28mself\u001b[39m\u001b[38;5;241m.\u001b[39mobj\u001b[38;5;241m.\u001b[39m_ixs(key, axis\u001b[38;5;241m=\u001b[39maxis)\n",
      "File \u001b[1;32m~\\anaconda3\\envs\\jbf-env\\Lib\\site-packages\\pandas\\core\\indexing.py:1647\u001b[0m, in \u001b[0;36m_iLocIndexer._validate_integer\u001b[1;34m(self, key, axis)\u001b[0m\n\u001b[0;32m   1645\u001b[0m len_axis \u001b[38;5;241m=\u001b[39m \u001b[38;5;28mlen\u001b[39m(\u001b[38;5;28mself\u001b[39m\u001b[38;5;241m.\u001b[39mobj\u001b[38;5;241m.\u001b[39m_get_axis(axis))\n\u001b[0;32m   1646\u001b[0m \u001b[38;5;28;01mif\u001b[39;00m key \u001b[38;5;241m>\u001b[39m\u001b[38;5;241m=\u001b[39m len_axis \u001b[38;5;129;01mor\u001b[39;00m key \u001b[38;5;241m<\u001b[39m \u001b[38;5;241m-\u001b[39mlen_axis:\n\u001b[1;32m-> 1647\u001b[0m     \u001b[38;5;28;01mraise\u001b[39;00m \u001b[38;5;167;01mIndexError\u001b[39;00m(\u001b[38;5;124m\"\u001b[39m\u001b[38;5;124msingle positional indexer is out-of-bounds\u001b[39m\u001b[38;5;124m\"\u001b[39m)\n",
      "\u001b[1;31mIndexError\u001b[0m: single positional indexer is out-of-bounds"
     ]
    }
   ],
   "source": [
    "df.iloc[10]['sequence']"
   ]
  },
  {
   "cell_type": "code",
   "execution_count": null,
   "id": "083e7b3b-70c4-4d17-8979-4b45950f35f4",
   "metadata": {},
   "outputs": [],
   "source": [
    "data_folder"
   ]
  }
 ],
 "metadata": {
  "kernelspec": {
   "display_name": "Python 3 (ipykernel)",
   "language": "python",
   "name": "python3"
  },
  "language_info": {
   "codemirror_mode": {
    "name": "ipython",
    "version": 3
   },
   "file_extension": ".py",
   "mimetype": "text/x-python",
   "name": "python",
   "nbconvert_exporter": "python",
   "pygments_lexer": "ipython3",
   "version": "3.11.5"
  }
 },
 "nbformat": 4,
 "nbformat_minor": 5
}
