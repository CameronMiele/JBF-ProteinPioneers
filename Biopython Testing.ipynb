{
 "cells": [
  {
   "cell_type": "markdown",
   "id": "f970a1da-fd58-4f6e-b38a-b172c40fb81a",
   "metadata": {},
   "source": [
    "# Creating new 1DE protein sets\n",
    "The purpose of this notebook is to create new protein sets for separation on the 1DE simulation. Code will be created that analyzes proteins for molecular weight, isoelectric point and hydrophobicity for subsequent simulated separations by gel filtration, ion exchange and hydrophobic interaction chromatography.\n",
    "For this notebook, we will need several libraries: os, Bio.SeqUtils, pandas, re, Bio.SeqIO, and collections.defaultdict.\n",
    "\n",
    "| Library | Uses | Abbreviation |\n",
    "| :------- | :----: | :------------: |\n",
    "| os | file management in operating systems | os |\n",
    "| pandas | data management | pd |\n",
    "| Bio.SeqIO | parsing FASTA files | SeqIO |\n",
    "| collections.defaultdict | not sure why | defaultdict |\n",
    "| Bio.SeqUtils.ProtParam.ProteinAnalysis | protein calculations | PA |"
   ]
  },
  {
   "cell_type": "code",
   "execution_count": 2,
   "id": "67175e2f-727b-4323-a1b4-6a5356ce558b",
   "metadata": {},
   "outputs": [],
   "source": [
    "# Import required libraries\n",
    "from Bio.SeqUtils.IsoelectricPoint import IsoelectricPoint as IP\n",
    "import os"
   ]
  },
  {
   "cell_type": "code",
   "execution_count": 3,
   "id": "19ca30df-21cf-45aa-a46f-6c6b6269bbcc",
   "metadata": {},
   "outputs": [
    {
     "name": "stdout",
     "output_type": "stream",
     "text": [
      "MKQAVYVASPDSQQIHVWQLDSAGELTLLQTVDVPGQVQPMAISPNQRHLYVGVRPDFGIVSYHIADDGTLTAAGMAPLPGSPTHIDTDRQGRFLFSASYSFNCVSISPIDTHGVVQAPIQQLDDLPAPHSANIDPTNQILLVPCLKEDKVRLFDLSAEGQLTPHAQADITVAAGAGPRHMAFHPNHQVAYCVNELNSSVDVYQISNNGQEYHLVQSLDAMPADFTGTRWAADIHITPNGRYLYISDRTANLLGIFTVSEDGRVISLVGHHLTEAQPRGFNIDHSGNFLIASGQKSDHIEVYRIDQNTGELTTLKRYPVGKGPMWVSIRGAQNS\n",
      "5.553590202331542\n",
      "IEP of protein MKQAVYVASPDSQQIHVWQLDSAGELTLLQTVDVPGQVQPMAISPNQRHLYVGVRPDFGIVSYHIADDGTLTAAGMAPLPGSPTHIDTDRQGRFLFSASYSFNCVSISPIDTHGVVQAPIQQLDDLPAPHSANIDPTNQILLVPCLKEDKVRLFDLSAEGQLTPHAQADITVAAGAGPRHMAFHPNHQVAYCVNELNSSVDVYQISNNGQEYHLVQSLDAMPADFTGTRWAADIHITPNGRYLYISDRTANLLGIFTVSEDGRVISLVGHHLTEAQPRGFNIDHSGNFLIASGQKSDHIEVYRIDQNTGELTTLKRYPVGKGPMWVSIRGAQNS is 5.55\n",
      "The charge on the protein at pH 7 is 0.04\n"
     ]
    }
   ],
   "source": [
    "protein = IP('MKQAVYVASPDSQQIHVWQLDSAGELTLLQTVDVPGQVQPMAISPNQRHLYVGVRPDFGIVSYHIADDGTLTAAGMAPLPGSPTHIDTDRQGRFLFSASYSFNCVSISPIDTHGVVQAPIQQLDDLPAPHSANIDPTNQILLVPCLKEDKVRLFDLSAEGQLTPHAQADITVAAGAGPRHMAFHPNHQVAYCVNELNSSVDVYQISNNGQEYHLVQSLDAMPADFTGTRWAADIHITPNGRYLYISDRTANLLGIFTVSEDGRVISLVGHHLTEAQPRGFNIDHSGNFLIASGQKSDHIEVYRIDQNTGELTTLKRYPVGKGPMWVSIRGAQNS')\n",
    "print(protein.sequence)\n",
    "print(protein.pi())\n",
    "print(f'IEP of protein {protein.sequence} is {protein.pi():.2f}')\n",
    "print(f'The charge on the protein at pH 7 is {protein.charge_at_pH(5.55):.2f}')"
   ]
  },
  {
   "cell_type": "code",
   "execution_count": 4,
   "id": "47cdef39-b022-4dc1-a2a5-c19f43277f89",
   "metadata": {},
   "outputs": [],
   "source": [
    "datafile = os.path.join('data', 'yersinia_pestis[632].fasta')"
   ]
  },
  {
   "cell_type": "code",
   "execution_count": 5,
   "id": "047da724-9fc3-4910-8ccf-7536c798de5f",
   "metadata": {},
   "outputs": [
    {
     "name": "stdout",
     "output_type": "stream",
     "text": [
      "yersinia_pestis[632].fasta\n",
      "data\\yersinia_pestis[632].fasta\n"
     ]
    }
   ],
   "source": [
    "filename = 'yersinia_pestis[632].fasta'\n",
    "#filename = input(\"Enter File Name\")\n",
    "print(filename)\n",
    "datafile = os.path.join('data', filename)\n",
    "print(datafile)"
   ]
  },
  {
   "cell_type": "code",
   "execution_count": 14,
   "id": "11afd672-5b9f-4602-a9de-a894af428a34",
   "metadata": {},
   "outputs": [
    {
     "data": {
      "text/html": [
       "<div>\n",
       "<style scoped>\n",
       "    .dataframe tbody tr th:only-of-type {\n",
       "        vertical-align: middle;\n",
       "    }\n",
       "\n",
       "    .dataframe tbody tr th {\n",
       "        vertical-align: top;\n",
       "    }\n",
       "\n",
       "    .dataframe thead th {\n",
       "        text-align: right;\n",
       "    }\n",
       "</style>\n",
       "<table border=\"1\" class=\"dataframe\">\n",
       "  <thead>\n",
       "    <tr style=\"text-align: right;\">\n",
       "      <th></th>\n",
       "      <th>Description</th>\n",
       "      <th>sequence</th>\n",
       "      <th>lengths</th>\n",
       "    </tr>\n",
       "  </thead>\n",
       "  <tbody>\n",
       "    <tr>\n",
       "      <th>0</th>\n",
       "      <td>[]</td>\n",
       "      <td>MKQAVYVASPDSQQIHVWQLDSAGELTLLQTVDVPGQVQPMAISPN...</td>\n",
       "      <td>334</td>\n",
       "    </tr>\n",
       "    <tr>\n",
       "      <th>1</th>\n",
       "      <td>[]</td>\n",
       "      <td>MSTFSLKIIRVGITVLVVVLAVIAIFNVWAFYTESPWTRDAKFTAD...</td>\n",
       "      <td>311</td>\n",
       "    </tr>\n",
       "    <tr>\n",
       "      <th>2</th>\n",
       "      <td>[]</td>\n",
       "      <td>MTHPSFIRLRFAFKLSFAIVAALFLGFHLQLETPRWSVLTAAIVSA...</td>\n",
       "      <td>651</td>\n",
       "    </tr>\n",
       "    <tr>\n",
       "      <th>3</th>\n",
       "      <td>[]</td>\n",
       "      <td>MSLLPVMVIFGLSFPPIFLELLISLALFFVVRRILQPTGIYEFVWH...</td>\n",
       "      <td>67</td>\n",
       "    </tr>\n",
       "    <tr>\n",
       "      <th>4</th>\n",
       "      <td>[]</td>\n",
       "      <td>MAYRLLRALFRGLFRVTIDGVTDQFKHEKLIITPNHVSFLDGALLA...</td>\n",
       "      <td>718</td>\n",
       "    </tr>\n",
       "    <tr>\n",
       "      <th>...</th>\n",
       "      <td>...</td>\n",
       "      <td>...</td>\n",
       "      <td>...</td>\n",
       "    </tr>\n",
       "    <tr>\n",
       "      <th>3903</th>\n",
       "      <td>[]</td>\n",
       "      <td>MNKLAIAVALAATVLSGCANNTASGDTFTASQARQVQTVTYGSIVS...</td>\n",
       "      <td>155</td>\n",
       "    </tr>\n",
       "    <tr>\n",
       "      <th>3904</th>\n",
       "      <td>[]</td>\n",
       "      <td>MSDRINALPWQPWSLKDFASQSEAPLSESMPDISLLFPNEPMEATA...</td>\n",
       "      <td>238</td>\n",
       "    </tr>\n",
       "    <tr>\n",
       "      <th>3905</th>\n",
       "      <td>[]</td>\n",
       "      <td>MSYQQLPKDFLWGGAVAAHQVEGGWDKGGKGVSIADVLSGGSHGVD...</td>\n",
       "      <td>478</td>\n",
       "    </tr>\n",
       "    <tr>\n",
       "      <th>3906</th>\n",
       "      <td>[]</td>\n",
       "      <td>MTNARPPESTSRITGENVFFAKRILQTMALLVGMTIIIAAVGIIYI...</td>\n",
       "      <td>65</td>\n",
       "    </tr>\n",
       "    <tr>\n",
       "      <th>3907</th>\n",
       "      <td>[]</td>\n",
       "      <td>VDQLFNISRIDGRKETVTENMDSPPLRSFFRRLSVECRCTISPHRF...</td>\n",
       "      <td>102</td>\n",
       "    </tr>\n",
       "  </tbody>\n",
       "</table>\n",
       "<p>3908 rows × 3 columns</p>\n",
       "</div>"
      ],
      "text/plain": [
       "     Description                                           sequence  lengths\n",
       "0             []  MKQAVYVASPDSQQIHVWQLDSAGELTLLQTVDVPGQVQPMAISPN...      334\n",
       "1             []  MSTFSLKIIRVGITVLVVVLAVIAIFNVWAFYTESPWTRDAKFTAD...      311\n",
       "2             []  MTHPSFIRLRFAFKLSFAIVAALFLGFHLQLETPRWSVLTAAIVSA...      651\n",
       "3             []  MSLLPVMVIFGLSFPPIFLELLISLALFFVVRRILQPTGIYEFVWH...       67\n",
       "4             []  MAYRLLRALFRGLFRVTIDGVTDQFKHEKLIITPNHVSFLDGALLA...      718\n",
       "...          ...                                                ...      ...\n",
       "3903          []  MNKLAIAVALAATVLSGCANNTASGDTFTASQARQVQTVTYGSIVS...      155\n",
       "3904          []  MSDRINALPWQPWSLKDFASQSEAPLSESMPDISLLFPNEPMEATA...      238\n",
       "3905          []  MSYQQLPKDFLWGGAVAAHQVEGGWDKGGKGVSIADVLSGGSHGVD...      478\n",
       "3906          []  MTNARPPESTSRITGENVFFAKRILQTMALLVGMTIIIAAVGIIYI...       65\n",
       "3907          []  VDQLFNISRIDGRKETVTENMDSPPLRSFFRRLSVECRCTISPHRF...      102\n",
       "\n",
       "[3908 rows x 3 columns]"
      ]
     },
     "execution_count": 14,
     "metadata": {},
     "output_type": "execute_result"
    }
   ],
   "source": [
    "import pandas as pd\n",
    "from Bio import SeqIO\n",
    "from collections import defaultdict\n",
    "\n",
    "\n",
    "data = defaultdict(list)\n",
    "datalen = []\n",
    "with open(datafile) as fp:\n",
    "  for record in SeqIO.parse(fp,\"fasta\"):\n",
    "    \n",
    "    sequence = str(record.seq)\n",
    "    length = len(sequence)\n",
    "    # data['organism'].append(organism)\n",
    "    data['sequence'].append(sequence)\n",
    "    datalen.append(length) \n",
    "\n",
    "df = pd.DataFrame.from_dict(data)\n",
    "# df['lengths'] = data2\n",
    "df['lengths'] = datalen\n",
    "# print(data2)\n",
    "df"
   ]
  },
  {
   "cell_type": "code",
   "execution_count": 21,
   "id": "cabf4186-59b5-43cd-909f-bbd990ce5f6a",
   "metadata": {},
   "outputs": [
    {
     "data": {
      "text/plain": [
       "'sp|Q8ZGX4|6PGL_YERPE 6-phosphogluconolactonase OS=Yersinia pestis GN=pgl PE=3 SV=1'"
      ]
     },
     "execution_count": 21,
     "metadata": {},
     "output_type": "execute_result"
    }
   ],
   "source": [
    "import pandas as pd\n",
    "import re\n",
    "from Bio import SeqIO\n",
    "from collections import defaultdict\n",
    "from Bio.SeqUtils.ProtParam import ProteinAnalysis as PA\n",
    "\n",
    "data = defaultdict(list)\n",
    "datalen = []\n",
    "protpI = []\n",
    "protMW = []\n",
    "prot_charge_at_pH = []\n",
    "with open(datafile) as fp:\n",
    "  for record in SeqIO.parse(fp,\"fasta\"):\n",
    "    \n",
    "    sequence = str(record.seq)\n",
    "    length = len(sequence)\n",
    "    # data['organism'].append(organism)\n",
    "    data['full_record'].append(str(record.description))\n",
    "    data['sequence'].append(sequence)\n",
    "    datalen.append(length)\n",
    "    protparams = PA(sequence)\n",
    "    protpI.append(protparams.isoelectric_point())\n",
    "    protMW.append(protparams.molecular_weight())\n",
    "    prot_charge_at_pH.append(protparams.charge_at_pH(7))\n",
    "\n",
    "df = pd.DataFrame.from_dict(data)\n",
    "\n",
    "df['length'] = datalen\n",
    "\n",
    "df['IEP'] = protpI\n",
    "\n",
    "df['MW'] = protMW\n",
    "\n",
    "df['charge at pH 7'] = prot_charge_at_pH\n",
    "\n",
    "df['full_record'].iloc[0]"
   ]
  },
  {
   "cell_type": "code",
   "execution_count": 7,
   "id": "80379d36-e5da-4bd4-87cd-fc9915929a6e",
   "metadata": {},
   "outputs": [
    {
     "data": {
      "text/plain": [
       "'MKKKHRIKKNDEFQTVFQKGKSNANRQFVVYQLDKEEQPNFRIGLSVSKKIGNAVVRNRIKRMIRQSITELKDEIDSGKDFVIIARKPCAEMTYEELKKSLIHVFKRSGMKRIKSSVRK'"
      ]
     },
     "execution_count": 7,
     "metadata": {},
     "output_type": "execute_result"
    }
   ],
   "source": [
    "df.iloc[-2,0]"
   ]
  },
  {
   "cell_type": "code",
   "execution_count": 8,
   "id": "11976894-ad3d-4680-8b1e-b573b93c4e58",
   "metadata": {},
   "outputs": [
    {
     "name": "stdout",
     "output_type": "stream",
     "text": [
      "MKKKHRIKKNDEFQTVFQKGKSNANRQFVVYQLDKEEQPNFRIGLSVSKKIGNAVVRNRIKRMIRQSITELKDEIDSGKDFVIIARKPCAEMTYEELKKSLIHVFKRSGMKRIKSSVRK\n",
      "10.403085899353027\n",
      "17.67080155355838\n",
      "14026.344999999987\n"
     ]
    }
   ],
   "source": [
    "from Bio.SeqUtils.ProtParam import ProteinAnalysis as PA\n",
    "datapI = PA(df.iloc[-2,0])\n",
    "print(datapI.sequence)\n",
    "print(datapI.isoelectric_point())\n",
    "print(datapI.charge_at_pH(7))\n",
    "print(datapI.molecular_weight())"
   ]
  },
  {
   "cell_type": "code",
   "execution_count": 9,
   "id": "68f6acd0-7352-47d3-bcc4-7e55f363ce28",
   "metadata": {},
   "outputs": [],
   "source": [
    "csv_filepath = \"data\\\\CSVs\\\\\" + filename.replace(\".faa\",\".csv\").replace(\".fasta\",\".csv\")\n",
    "#print(csv_filepath)\n",
    "df.to_csv(csv_filepath)"
   ]
  },
  {
   "cell_type": "code",
   "execution_count": null,
   "id": "5b134e51-ecfd-41ca-8f5f-0976c6d6616e",
   "metadata": {},
   "outputs": [],
   "source": []
  }
 ],
 "metadata": {
  "kernelspec": {
   "display_name": "Python 3",
   "language": "python",
   "name": "python3"
  },
  "language_info": {
   "codemirror_mode": {
    "name": "ipython",
    "version": 3
   },
   "file_extension": ".py",
   "mimetype": "text/x-python",
   "name": "python",
   "nbconvert_exporter": "python",
   "pygments_lexer": "ipython3",
   "version": "3.9.4"
  }
 },
 "nbformat": 4,
 "nbformat_minor": 5
}
